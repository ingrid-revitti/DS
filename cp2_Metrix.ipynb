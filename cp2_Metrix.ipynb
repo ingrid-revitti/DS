{
  "nbformat": 4,
  "nbformat_minor": 0,
  "metadata": {
    "colab": {
      "provenance": [],
      "include_colab_link": true
    },
    "kernelspec": {
      "name": "python3",
      "display_name": "Python 3"
    },
    "language_info": {
      "name": "python"
    }
  },
  "cells": [
    {
      "cell_type": "markdown",
      "metadata": {
        "id": "view-in-github",
        "colab_type": "text"
      },
      "source": [
        "<a href=\"https://colab.research.google.com/github/ingrid-revitti/DS/blob/main/cp2_Metrix.ipynb\" target=\"_parent\"><img src=\"https://colab.research.google.com/assets/colab-badge.svg\" alt=\"Open In Colab\"/></a>"
      ]
    },
    {
      "cell_type": "markdown",
      "source": [
        "#  Checkpoint 2 - Statistics"
      ],
      "metadata": {
        "id": "dFpcHXLO-8bY"
      }
    },
    {
      "cell_type": "markdown",
      "source": [
        "## Módulos"
      ],
      "metadata": {
        "id": "9SvCkmlL_cWZ"
      }
    },
    {
      "cell_type": "code",
      "source": [
        "# gerais\n",
        "import numpy as np\n",
        "import pandas as pd\n",
        "import matplotlib.pyplot as plt\n",
        "import seaborn as sns"
      ],
      "metadata": {
        "id": "IfuldRwj_cau"
      },
      "execution_count": null,
      "outputs": []
    },
    {
      "cell_type": "code",
      "source": [
        "# probabilidade\n",
        "from scipy.stats import expon, norm, t, chi2, f, chi2_contingency"
      ],
      "metadata": {
        "id": "z66g5m2VVT4V"
      },
      "execution_count": null,
      "outputs": []
    },
    {
      "cell_type": "code",
      "source": [
        "# amostragem\n",
        "from sklearn.model_selection import train_test_split"
      ],
      "metadata": {
        "id": "0Uz9FJg7VSEy"
      },
      "execution_count": null,
      "outputs": []
    },
    {
      "cell_type": "markdown",
      "source": [
        "## Dados"
      ],
      "metadata": {
        "id": "8v39WqIg_cey"
      }
    },
    {
      "cell_type": "code",
      "source": [
        "dados_atendimentos = pd.read_csv('dados_atendimentos.csv')"
      ],
      "metadata": {
        "id": "t5w-s4ELHtdI"
      },
      "execution_count": null,
      "outputs": []
    },
    {
      "cell_type": "code",
      "source": [
        "dados_atendimentos.head()"
      ],
      "metadata": {
        "id": "gjbPmnGFTBeO",
        "outputId": "ad2ed720-7c95-4f17-bd35-50218654aecc",
        "colab": {
          "base_uri": "https://localhost:8080/",
          "height": 293
        }
      },
      "execution_count": null,
      "outputs": [
        {
          "output_type": "execute_result",
          "data": {
            "text/plain": [
              "   idEntrada state  usuarioOnline statusSaida  paginaSaida avaliacao  \\\n",
              "0          1    CE              1         80%            1  positiva   \n",
              "1          2    PE              0         40%            3  negativa   \n",
              "2          3    CE              0         60%            2  negativa   \n",
              "3          4    PR              0         20%            4  negativa   \n",
              "4          5    TO              0         20%            4  positiva   \n",
              "\n",
              "    dataHoraEntrada     dataHoraSaida      dataHoraErro  tempoAcesso  codigo  \\\n",
              "0  18/05/2021 17:57  18/05/2021 18:00  18/05/2021 17:59          173     550   \n",
              "1  18/05/2021 17:57  18/05/2021 18:01  18/05/2021 18:00          212     550   \n",
              "2  18/05/2021 17:57  18/05/2021 18:04  18/05/2021 18:03          427     500   \n",
              "3  18/05/2021 17:57  18/05/2021 18:01  18/05/2021 18:00          248     550   \n",
              "4  18/05/2021 17:57  18/05/2021 18:01  18/05/2021 18:02          256     500   \n",
              "\n",
              "                                                erro  \n",
              "0  \"NO MOMENTO ESTE SERIVCO ESTA INDISPONIVEL. PO...  \n",
              "1        \"ERRO NA VALIDACAO DE DADOS COMPLEMENTARES\"  \n",
              "2                            \"INTERNAL SERVER ERROR\"  \n",
              "3                 \"CPF -CNPJ CLIENTE NAO CADASTRADO\"  \n",
              "4  \"OPS! NÃO FOI POSSIVEL CONSULTAR O SALDO. TENT...  "
            ],
            "text/html": [
              "\n",
              "  <div id=\"df-7f0a4d7e-e706-4455-92a4-3059cc5ba5d9\" class=\"colab-df-container\">\n",
              "    <div>\n",
              "<style scoped>\n",
              "    .dataframe tbody tr th:only-of-type {\n",
              "        vertical-align: middle;\n",
              "    }\n",
              "\n",
              "    .dataframe tbody tr th {\n",
              "        vertical-align: top;\n",
              "    }\n",
              "\n",
              "    .dataframe thead th {\n",
              "        text-align: right;\n",
              "    }\n",
              "</style>\n",
              "<table border=\"1\" class=\"dataframe\">\n",
              "  <thead>\n",
              "    <tr style=\"text-align: right;\">\n",
              "      <th></th>\n",
              "      <th>idEntrada</th>\n",
              "      <th>state</th>\n",
              "      <th>usuarioOnline</th>\n",
              "      <th>statusSaida</th>\n",
              "      <th>paginaSaida</th>\n",
              "      <th>avaliacao</th>\n",
              "      <th>dataHoraEntrada</th>\n",
              "      <th>dataHoraSaida</th>\n",
              "      <th>dataHoraErro</th>\n",
              "      <th>tempoAcesso</th>\n",
              "      <th>codigo</th>\n",
              "      <th>erro</th>\n",
              "    </tr>\n",
              "  </thead>\n",
              "  <tbody>\n",
              "    <tr>\n",
              "      <th>0</th>\n",
              "      <td>1</td>\n",
              "      <td>CE</td>\n",
              "      <td>1</td>\n",
              "      <td>80%</td>\n",
              "      <td>1</td>\n",
              "      <td>positiva</td>\n",
              "      <td>18/05/2021 17:57</td>\n",
              "      <td>18/05/2021 18:00</td>\n",
              "      <td>18/05/2021 17:59</td>\n",
              "      <td>173</td>\n",
              "      <td>550</td>\n",
              "      <td>\"NO MOMENTO ESTE SERIVCO ESTA INDISPONIVEL. PO...</td>\n",
              "    </tr>\n",
              "    <tr>\n",
              "      <th>1</th>\n",
              "      <td>2</td>\n",
              "      <td>PE</td>\n",
              "      <td>0</td>\n",
              "      <td>40%</td>\n",
              "      <td>3</td>\n",
              "      <td>negativa</td>\n",
              "      <td>18/05/2021 17:57</td>\n",
              "      <td>18/05/2021 18:01</td>\n",
              "      <td>18/05/2021 18:00</td>\n",
              "      <td>212</td>\n",
              "      <td>550</td>\n",
              "      <td>\"ERRO NA VALIDACAO DE DADOS COMPLEMENTARES\"</td>\n",
              "    </tr>\n",
              "    <tr>\n",
              "      <th>2</th>\n",
              "      <td>3</td>\n",
              "      <td>CE</td>\n",
              "      <td>0</td>\n",
              "      <td>60%</td>\n",
              "      <td>2</td>\n",
              "      <td>negativa</td>\n",
              "      <td>18/05/2021 17:57</td>\n",
              "      <td>18/05/2021 18:04</td>\n",
              "      <td>18/05/2021 18:03</td>\n",
              "      <td>427</td>\n",
              "      <td>500</td>\n",
              "      <td>\"INTERNAL SERVER ERROR\"</td>\n",
              "    </tr>\n",
              "    <tr>\n",
              "      <th>3</th>\n",
              "      <td>4</td>\n",
              "      <td>PR</td>\n",
              "      <td>0</td>\n",
              "      <td>20%</td>\n",
              "      <td>4</td>\n",
              "      <td>negativa</td>\n",
              "      <td>18/05/2021 17:57</td>\n",
              "      <td>18/05/2021 18:01</td>\n",
              "      <td>18/05/2021 18:00</td>\n",
              "      <td>248</td>\n",
              "      <td>550</td>\n",
              "      <td>\"CPF -CNPJ CLIENTE NAO CADASTRADO\"</td>\n",
              "    </tr>\n",
              "    <tr>\n",
              "      <th>4</th>\n",
              "      <td>5</td>\n",
              "      <td>TO</td>\n",
              "      <td>0</td>\n",
              "      <td>20%</td>\n",
              "      <td>4</td>\n",
              "      <td>positiva</td>\n",
              "      <td>18/05/2021 17:57</td>\n",
              "      <td>18/05/2021 18:01</td>\n",
              "      <td>18/05/2021 18:02</td>\n",
              "      <td>256</td>\n",
              "      <td>500</td>\n",
              "      <td>\"OPS! NÃO FOI POSSIVEL CONSULTAR O SALDO. TENT...</td>\n",
              "    </tr>\n",
              "  </tbody>\n",
              "</table>\n",
              "</div>\n",
              "    <div class=\"colab-df-buttons\">\n",
              "\n",
              "  <div class=\"colab-df-container\">\n",
              "    <button class=\"colab-df-convert\" onclick=\"convertToInteractive('df-7f0a4d7e-e706-4455-92a4-3059cc5ba5d9')\"\n",
              "            title=\"Convert this dataframe to an interactive table.\"\n",
              "            style=\"display:none;\">\n",
              "\n",
              "  <svg xmlns=\"http://www.w3.org/2000/svg\" height=\"24px\" viewBox=\"0 -960 960 960\">\n",
              "    <path d=\"M120-120v-720h720v720H120Zm60-500h600v-160H180v160Zm220 220h160v-160H400v160Zm0 220h160v-160H400v160ZM180-400h160v-160H180v160Zm440 0h160v-160H620v160ZM180-180h160v-160H180v160Zm440 0h160v-160H620v160Z\"/>\n",
              "  </svg>\n",
              "    </button>\n",
              "\n",
              "  <style>\n",
              "    .colab-df-container {\n",
              "      display:flex;\n",
              "      gap: 12px;\n",
              "    }\n",
              "\n",
              "    .colab-df-convert {\n",
              "      background-color: #E8F0FE;\n",
              "      border: none;\n",
              "      border-radius: 50%;\n",
              "      cursor: pointer;\n",
              "      display: none;\n",
              "      fill: #1967D2;\n",
              "      height: 32px;\n",
              "      padding: 0 0 0 0;\n",
              "      width: 32px;\n",
              "    }\n",
              "\n",
              "    .colab-df-convert:hover {\n",
              "      background-color: #E2EBFA;\n",
              "      box-shadow: 0px 1px 2px rgba(60, 64, 67, 0.3), 0px 1px 3px 1px rgba(60, 64, 67, 0.15);\n",
              "      fill: #174EA6;\n",
              "    }\n",
              "\n",
              "    .colab-df-buttons div {\n",
              "      margin-bottom: 4px;\n",
              "    }\n",
              "\n",
              "    [theme=dark] .colab-df-convert {\n",
              "      background-color: #3B4455;\n",
              "      fill: #D2E3FC;\n",
              "    }\n",
              "\n",
              "    [theme=dark] .colab-df-convert:hover {\n",
              "      background-color: #434B5C;\n",
              "      box-shadow: 0px 1px 3px 1px rgba(0, 0, 0, 0.15);\n",
              "      filter: drop-shadow(0px 1px 2px rgba(0, 0, 0, 0.3));\n",
              "      fill: #FFFFFF;\n",
              "    }\n",
              "  </style>\n",
              "\n",
              "    <script>\n",
              "      const buttonEl =\n",
              "        document.querySelector('#df-7f0a4d7e-e706-4455-92a4-3059cc5ba5d9 button.colab-df-convert');\n",
              "      buttonEl.style.display =\n",
              "        google.colab.kernel.accessAllowed ? 'block' : 'none';\n",
              "\n",
              "      async function convertToInteractive(key) {\n",
              "        const element = document.querySelector('#df-7f0a4d7e-e706-4455-92a4-3059cc5ba5d9');\n",
              "        const dataTable =\n",
              "          await google.colab.kernel.invokeFunction('convertToInteractive',\n",
              "                                                    [key], {});\n",
              "        if (!dataTable) return;\n",
              "\n",
              "        const docLinkHtml = 'Like what you see? Visit the ' +\n",
              "          '<a target=\"_blank\" href=https://colab.research.google.com/notebooks/data_table.ipynb>data table notebook</a>'\n",
              "          + ' to learn more about interactive tables.';\n",
              "        element.innerHTML = '';\n",
              "        dataTable['output_type'] = 'display_data';\n",
              "        await google.colab.output.renderOutput(dataTable, element);\n",
              "        const docLink = document.createElement('div');\n",
              "        docLink.innerHTML = docLinkHtml;\n",
              "        element.appendChild(docLink);\n",
              "      }\n",
              "    </script>\n",
              "  </div>\n",
              "\n",
              "\n",
              "<div id=\"df-74c853b0-17a4-48de-a354-90934a44b4e1\">\n",
              "  <button class=\"colab-df-quickchart\" onclick=\"quickchart('df-74c853b0-17a4-48de-a354-90934a44b4e1')\"\n",
              "            title=\"Suggest charts\"\n",
              "            style=\"display:none;\">\n",
              "\n",
              "<svg xmlns=\"http://www.w3.org/2000/svg\" height=\"24px\"viewBox=\"0 0 24 24\"\n",
              "     width=\"24px\">\n",
              "    <g>\n",
              "        <path d=\"M19 3H5c-1.1 0-2 .9-2 2v14c0 1.1.9 2 2 2h14c1.1 0 2-.9 2-2V5c0-1.1-.9-2-2-2zM9 17H7v-7h2v7zm4 0h-2V7h2v10zm4 0h-2v-4h2v4z\"/>\n",
              "    </g>\n",
              "</svg>\n",
              "  </button>\n",
              "\n",
              "<style>\n",
              "  .colab-df-quickchart {\n",
              "      --bg-color: #E8F0FE;\n",
              "      --fill-color: #1967D2;\n",
              "      --hover-bg-color: #E2EBFA;\n",
              "      --hover-fill-color: #174EA6;\n",
              "      --disabled-fill-color: #AAA;\n",
              "      --disabled-bg-color: #DDD;\n",
              "  }\n",
              "\n",
              "  [theme=dark] .colab-df-quickchart {\n",
              "      --bg-color: #3B4455;\n",
              "      --fill-color: #D2E3FC;\n",
              "      --hover-bg-color: #434B5C;\n",
              "      --hover-fill-color: #FFFFFF;\n",
              "      --disabled-bg-color: #3B4455;\n",
              "      --disabled-fill-color: #666;\n",
              "  }\n",
              "\n",
              "  .colab-df-quickchart {\n",
              "    background-color: var(--bg-color);\n",
              "    border: none;\n",
              "    border-radius: 50%;\n",
              "    cursor: pointer;\n",
              "    display: none;\n",
              "    fill: var(--fill-color);\n",
              "    height: 32px;\n",
              "    padding: 0;\n",
              "    width: 32px;\n",
              "  }\n",
              "\n",
              "  .colab-df-quickchart:hover {\n",
              "    background-color: var(--hover-bg-color);\n",
              "    box-shadow: 0 1px 2px rgba(60, 64, 67, 0.3), 0 1px 3px 1px rgba(60, 64, 67, 0.15);\n",
              "    fill: var(--button-hover-fill-color);\n",
              "  }\n",
              "\n",
              "  .colab-df-quickchart-complete:disabled,\n",
              "  .colab-df-quickchart-complete:disabled:hover {\n",
              "    background-color: var(--disabled-bg-color);\n",
              "    fill: var(--disabled-fill-color);\n",
              "    box-shadow: none;\n",
              "  }\n",
              "\n",
              "  .colab-df-spinner {\n",
              "    border: 2px solid var(--fill-color);\n",
              "    border-color: transparent;\n",
              "    border-bottom-color: var(--fill-color);\n",
              "    animation:\n",
              "      spin 1s steps(1) infinite;\n",
              "  }\n",
              "\n",
              "  @keyframes spin {\n",
              "    0% {\n",
              "      border-color: transparent;\n",
              "      border-bottom-color: var(--fill-color);\n",
              "      border-left-color: var(--fill-color);\n",
              "    }\n",
              "    20% {\n",
              "      border-color: transparent;\n",
              "      border-left-color: var(--fill-color);\n",
              "      border-top-color: var(--fill-color);\n",
              "    }\n",
              "    30% {\n",
              "      border-color: transparent;\n",
              "      border-left-color: var(--fill-color);\n",
              "      border-top-color: var(--fill-color);\n",
              "      border-right-color: var(--fill-color);\n",
              "    }\n",
              "    40% {\n",
              "      border-color: transparent;\n",
              "      border-right-color: var(--fill-color);\n",
              "      border-top-color: var(--fill-color);\n",
              "    }\n",
              "    60% {\n",
              "      border-color: transparent;\n",
              "      border-right-color: var(--fill-color);\n",
              "    }\n",
              "    80% {\n",
              "      border-color: transparent;\n",
              "      border-right-color: var(--fill-color);\n",
              "      border-bottom-color: var(--fill-color);\n",
              "    }\n",
              "    90% {\n",
              "      border-color: transparent;\n",
              "      border-bottom-color: var(--fill-color);\n",
              "    }\n",
              "  }\n",
              "</style>\n",
              "\n",
              "  <script>\n",
              "    async function quickchart(key) {\n",
              "      const quickchartButtonEl =\n",
              "        document.querySelector('#' + key + ' button');\n",
              "      quickchartButtonEl.disabled = true;  // To prevent multiple clicks.\n",
              "      quickchartButtonEl.classList.add('colab-df-spinner');\n",
              "      try {\n",
              "        const charts = await google.colab.kernel.invokeFunction(\n",
              "            'suggestCharts', [key], {});\n",
              "      } catch (error) {\n",
              "        console.error('Error during call to suggestCharts:', error);\n",
              "      }\n",
              "      quickchartButtonEl.classList.remove('colab-df-spinner');\n",
              "      quickchartButtonEl.classList.add('colab-df-quickchart-complete');\n",
              "    }\n",
              "    (() => {\n",
              "      let quickchartButtonEl =\n",
              "        document.querySelector('#df-74c853b0-17a4-48de-a354-90934a44b4e1 button');\n",
              "      quickchartButtonEl.style.display =\n",
              "        google.colab.kernel.accessAllowed ? 'block' : 'none';\n",
              "    })();\n",
              "  </script>\n",
              "</div>\n",
              "\n",
              "    </div>\n",
              "  </div>\n"
            ],
            "application/vnd.google.colaboratory.intrinsic+json": {
              "type": "dataframe",
              "variable_name": "dados_atendimentos",
              "summary": "{\n  \"name\": \"dados_atendimentos\",\n  \"rows\": 1000,\n  \"fields\": [\n    {\n      \"column\": \"idEntrada\",\n      \"properties\": {\n        \"dtype\": \"number\",\n        \"std\": 288,\n        \"min\": 1,\n        \"max\": 1000,\n        \"num_unique_values\": 1000,\n        \"samples\": [\n          522,\n          738,\n          741\n        ],\n        \"semantic_type\": \"\",\n        \"description\": \"\"\n      }\n    },\n    {\n      \"column\": \"state\",\n      \"properties\": {\n        \"dtype\": \"category\",\n        \"num_unique_values\": 26,\n        \"samples\": [\n          \"SE\",\n          \"MA\",\n          \"CE\"\n        ],\n        \"semantic_type\": \"\",\n        \"description\": \"\"\n      }\n    },\n    {\n      \"column\": \"usuarioOnline\",\n      \"properties\": {\n        \"dtype\": \"number\",\n        \"std\": 0,\n        \"min\": 0,\n        \"max\": 1,\n        \"num_unique_values\": 2,\n        \"samples\": [\n          0,\n          1\n        ],\n        \"semantic_type\": \"\",\n        \"description\": \"\"\n      }\n    },\n    {\n      \"column\": \"statusSaida\",\n      \"properties\": {\n        \"dtype\": \"category\",\n        \"num_unique_values\": 5,\n        \"samples\": [\n          \"40%\",\n          \"100%\"\n        ],\n        \"semantic_type\": \"\",\n        \"description\": \"\"\n      }\n    },\n    {\n      \"column\": \"paginaSaida\",\n      \"properties\": {\n        \"dtype\": \"number\",\n        \"std\": 1,\n        \"min\": 0,\n        \"max\": 4,\n        \"num_unique_values\": 5,\n        \"samples\": [\n          3,\n          0\n        ],\n        \"semantic_type\": \"\",\n        \"description\": \"\"\n      }\n    },\n    {\n      \"column\": \"avaliacao\",\n      \"properties\": {\n        \"dtype\": \"category\",\n        \"num_unique_values\": 3,\n        \"samples\": [\n          \"positiva\",\n          \"negativa\"\n        ],\n        \"semantic_type\": \"\",\n        \"description\": \"\"\n      }\n    },\n    {\n      \"column\": \"dataHoraEntrada\",\n      \"properties\": {\n        \"dtype\": \"object\",\n        \"num_unique_values\": 1,\n        \"samples\": [\n          \"18/05/2021 17:57\"\n        ],\n        \"semantic_type\": \"\",\n        \"description\": \"\"\n      }\n    },\n    {\n      \"column\": \"dataHoraSaida\",\n      \"properties\": {\n        \"dtype\": \"object\",\n        \"num_unique_values\": 13,\n        \"samples\": [\n          \"18/05/2021 18:06\"\n        ],\n        \"semantic_type\": \"\",\n        \"description\": \"\"\n      }\n    },\n    {\n      \"column\": \"dataHoraErro\",\n      \"properties\": {\n        \"dtype\": \"object\",\n        \"num_unique_values\": 14,\n        \"samples\": [\n          \"18/05/2021 18:07\"\n        ],\n        \"semantic_type\": \"\",\n        \"description\": \"\"\n      }\n    },\n    {\n      \"column\": \"tempoAcesso\",\n      \"properties\": {\n        \"dtype\": \"number\",\n        \"std\": 112,\n        \"min\": 1,\n        \"max\": 629,\n        \"num_unique_values\": 401,\n        \"samples\": [\n          109\n        ],\n        \"semantic_type\": \"\",\n        \"description\": \"\"\n      }\n    },\n    {\n      \"column\": \"codigo\",\n      \"properties\": {\n        \"dtype\": \"number\",\n        \"std\": 24,\n        \"min\": 500,\n        \"max\": 550,\n        \"num_unique_values\": 2,\n        \"samples\": [\n          500\n        ],\n        \"semantic_type\": \"\",\n        \"description\": \"\"\n      }\n    },\n    {\n      \"column\": \"erro\",\n      \"properties\": {\n        \"dtype\": \"category\",\n        \"num_unique_values\": 12,\n        \"samples\": [\n          \"\\\"CHAVE PIX INCORRETA\\\"\"\n        ],\n        \"semantic_type\": \"\",\n        \"description\": \"\"\n      }\n    }\n  ]\n}"
            }
          },
          "metadata": {},
          "execution_count": 6
        }
      ]
    },
    {
      "cell_type": "code",
      "source": [
        "dados_renda = pd.read_csv('dados_renda_municipios_2010.csv')"
      ],
      "metadata": {
        "id": "GU4jAoOV_cir"
      },
      "execution_count": null,
      "outputs": []
    },
    {
      "cell_type": "code",
      "source": [
        "dados_renda.head()"
      ],
      "metadata": {
        "id": "0Nx9SXn6TFoU",
        "outputId": "fd028abe-0567-49fb-8a1e-51572e18dada",
        "colab": {
          "base_uri": "https://localhost:8080/",
          "height": 206
        }
      },
      "execution_count": null,
      "outputs": [
        {
          "output_type": "execute_result",
          "data": {
            "text/plain": [
              "  state                    city    RDPC\n",
              "0    GO      Abadia de Goiás/GO  574.96\n",
              "1    MG  Abadia dos Dourados/MG  596.18\n",
              "2    GO            Abadiânia/GO  519.87\n",
              "3    PA           Abaetetuba/PA  293.01\n",
              "4    MG               Abaeté/MG  707.24"
            ],
            "text/html": [
              "\n",
              "  <div id=\"df-d109b262-74a0-4093-a3d2-69e6dcdf412c\" class=\"colab-df-container\">\n",
              "    <div>\n",
              "<style scoped>\n",
              "    .dataframe tbody tr th:only-of-type {\n",
              "        vertical-align: middle;\n",
              "    }\n",
              "\n",
              "    .dataframe tbody tr th {\n",
              "        vertical-align: top;\n",
              "    }\n",
              "\n",
              "    .dataframe thead th {\n",
              "        text-align: right;\n",
              "    }\n",
              "</style>\n",
              "<table border=\"1\" class=\"dataframe\">\n",
              "  <thead>\n",
              "    <tr style=\"text-align: right;\">\n",
              "      <th></th>\n",
              "      <th>state</th>\n",
              "      <th>city</th>\n",
              "      <th>RDPC</th>\n",
              "    </tr>\n",
              "  </thead>\n",
              "  <tbody>\n",
              "    <tr>\n",
              "      <th>0</th>\n",
              "      <td>GO</td>\n",
              "      <td>Abadia de Goiás/GO</td>\n",
              "      <td>574.96</td>\n",
              "    </tr>\n",
              "    <tr>\n",
              "      <th>1</th>\n",
              "      <td>MG</td>\n",
              "      <td>Abadia dos Dourados/MG</td>\n",
              "      <td>596.18</td>\n",
              "    </tr>\n",
              "    <tr>\n",
              "      <th>2</th>\n",
              "      <td>GO</td>\n",
              "      <td>Abadiânia/GO</td>\n",
              "      <td>519.87</td>\n",
              "    </tr>\n",
              "    <tr>\n",
              "      <th>3</th>\n",
              "      <td>PA</td>\n",
              "      <td>Abaetetuba/PA</td>\n",
              "      <td>293.01</td>\n",
              "    </tr>\n",
              "    <tr>\n",
              "      <th>4</th>\n",
              "      <td>MG</td>\n",
              "      <td>Abaeté/MG</td>\n",
              "      <td>707.24</td>\n",
              "    </tr>\n",
              "  </tbody>\n",
              "</table>\n",
              "</div>\n",
              "    <div class=\"colab-df-buttons\">\n",
              "\n",
              "  <div class=\"colab-df-container\">\n",
              "    <button class=\"colab-df-convert\" onclick=\"convertToInteractive('df-d109b262-74a0-4093-a3d2-69e6dcdf412c')\"\n",
              "            title=\"Convert this dataframe to an interactive table.\"\n",
              "            style=\"display:none;\">\n",
              "\n",
              "  <svg xmlns=\"http://www.w3.org/2000/svg\" height=\"24px\" viewBox=\"0 -960 960 960\">\n",
              "    <path d=\"M120-120v-720h720v720H120Zm60-500h600v-160H180v160Zm220 220h160v-160H400v160Zm0 220h160v-160H400v160ZM180-400h160v-160H180v160Zm440 0h160v-160H620v160ZM180-180h160v-160H180v160Zm440 0h160v-160H620v160Z\"/>\n",
              "  </svg>\n",
              "    </button>\n",
              "\n",
              "  <style>\n",
              "    .colab-df-container {\n",
              "      display:flex;\n",
              "      gap: 12px;\n",
              "    }\n",
              "\n",
              "    .colab-df-convert {\n",
              "      background-color: #E8F0FE;\n",
              "      border: none;\n",
              "      border-radius: 50%;\n",
              "      cursor: pointer;\n",
              "      display: none;\n",
              "      fill: #1967D2;\n",
              "      height: 32px;\n",
              "      padding: 0 0 0 0;\n",
              "      width: 32px;\n",
              "    }\n",
              "\n",
              "    .colab-df-convert:hover {\n",
              "      background-color: #E2EBFA;\n",
              "      box-shadow: 0px 1px 2px rgba(60, 64, 67, 0.3), 0px 1px 3px 1px rgba(60, 64, 67, 0.15);\n",
              "      fill: #174EA6;\n",
              "    }\n",
              "\n",
              "    .colab-df-buttons div {\n",
              "      margin-bottom: 4px;\n",
              "    }\n",
              "\n",
              "    [theme=dark] .colab-df-convert {\n",
              "      background-color: #3B4455;\n",
              "      fill: #D2E3FC;\n",
              "    }\n",
              "\n",
              "    [theme=dark] .colab-df-convert:hover {\n",
              "      background-color: #434B5C;\n",
              "      box-shadow: 0px 1px 3px 1px rgba(0, 0, 0, 0.15);\n",
              "      filter: drop-shadow(0px 1px 2px rgba(0, 0, 0, 0.3));\n",
              "      fill: #FFFFFF;\n",
              "    }\n",
              "  </style>\n",
              "\n",
              "    <script>\n",
              "      const buttonEl =\n",
              "        document.querySelector('#df-d109b262-74a0-4093-a3d2-69e6dcdf412c button.colab-df-convert');\n",
              "      buttonEl.style.display =\n",
              "        google.colab.kernel.accessAllowed ? 'block' : 'none';\n",
              "\n",
              "      async function convertToInteractive(key) {\n",
              "        const element = document.querySelector('#df-d109b262-74a0-4093-a3d2-69e6dcdf412c');\n",
              "        const dataTable =\n",
              "          await google.colab.kernel.invokeFunction('convertToInteractive',\n",
              "                                                    [key], {});\n",
              "        if (!dataTable) return;\n",
              "\n",
              "        const docLinkHtml = 'Like what you see? Visit the ' +\n",
              "          '<a target=\"_blank\" href=https://colab.research.google.com/notebooks/data_table.ipynb>data table notebook</a>'\n",
              "          + ' to learn more about interactive tables.';\n",
              "        element.innerHTML = '';\n",
              "        dataTable['output_type'] = 'display_data';\n",
              "        await google.colab.output.renderOutput(dataTable, element);\n",
              "        const docLink = document.createElement('div');\n",
              "        docLink.innerHTML = docLinkHtml;\n",
              "        element.appendChild(docLink);\n",
              "      }\n",
              "    </script>\n",
              "  </div>\n",
              "\n",
              "\n",
              "<div id=\"df-4aff0f1d-f608-4d6e-ac0d-262146776799\">\n",
              "  <button class=\"colab-df-quickchart\" onclick=\"quickchart('df-4aff0f1d-f608-4d6e-ac0d-262146776799')\"\n",
              "            title=\"Suggest charts\"\n",
              "            style=\"display:none;\">\n",
              "\n",
              "<svg xmlns=\"http://www.w3.org/2000/svg\" height=\"24px\"viewBox=\"0 0 24 24\"\n",
              "     width=\"24px\">\n",
              "    <g>\n",
              "        <path d=\"M19 3H5c-1.1 0-2 .9-2 2v14c0 1.1.9 2 2 2h14c1.1 0 2-.9 2-2V5c0-1.1-.9-2-2-2zM9 17H7v-7h2v7zm4 0h-2V7h2v10zm4 0h-2v-4h2v4z\"/>\n",
              "    </g>\n",
              "</svg>\n",
              "  </button>\n",
              "\n",
              "<style>\n",
              "  .colab-df-quickchart {\n",
              "      --bg-color: #E8F0FE;\n",
              "      --fill-color: #1967D2;\n",
              "      --hover-bg-color: #E2EBFA;\n",
              "      --hover-fill-color: #174EA6;\n",
              "      --disabled-fill-color: #AAA;\n",
              "      --disabled-bg-color: #DDD;\n",
              "  }\n",
              "\n",
              "  [theme=dark] .colab-df-quickchart {\n",
              "      --bg-color: #3B4455;\n",
              "      --fill-color: #D2E3FC;\n",
              "      --hover-bg-color: #434B5C;\n",
              "      --hover-fill-color: #FFFFFF;\n",
              "      --disabled-bg-color: #3B4455;\n",
              "      --disabled-fill-color: #666;\n",
              "  }\n",
              "\n",
              "  .colab-df-quickchart {\n",
              "    background-color: var(--bg-color);\n",
              "    border: none;\n",
              "    border-radius: 50%;\n",
              "    cursor: pointer;\n",
              "    display: none;\n",
              "    fill: var(--fill-color);\n",
              "    height: 32px;\n",
              "    padding: 0;\n",
              "    width: 32px;\n",
              "  }\n",
              "\n",
              "  .colab-df-quickchart:hover {\n",
              "    background-color: var(--hover-bg-color);\n",
              "    box-shadow: 0 1px 2px rgba(60, 64, 67, 0.3), 0 1px 3px 1px rgba(60, 64, 67, 0.15);\n",
              "    fill: var(--button-hover-fill-color);\n",
              "  }\n",
              "\n",
              "  .colab-df-quickchart-complete:disabled,\n",
              "  .colab-df-quickchart-complete:disabled:hover {\n",
              "    background-color: var(--disabled-bg-color);\n",
              "    fill: var(--disabled-fill-color);\n",
              "    box-shadow: none;\n",
              "  }\n",
              "\n",
              "  .colab-df-spinner {\n",
              "    border: 2px solid var(--fill-color);\n",
              "    border-color: transparent;\n",
              "    border-bottom-color: var(--fill-color);\n",
              "    animation:\n",
              "      spin 1s steps(1) infinite;\n",
              "  }\n",
              "\n",
              "  @keyframes spin {\n",
              "    0% {\n",
              "      border-color: transparent;\n",
              "      border-bottom-color: var(--fill-color);\n",
              "      border-left-color: var(--fill-color);\n",
              "    }\n",
              "    20% {\n",
              "      border-color: transparent;\n",
              "      border-left-color: var(--fill-color);\n",
              "      border-top-color: var(--fill-color);\n",
              "    }\n",
              "    30% {\n",
              "      border-color: transparent;\n",
              "      border-left-color: var(--fill-color);\n",
              "      border-top-color: var(--fill-color);\n",
              "      border-right-color: var(--fill-color);\n",
              "    }\n",
              "    40% {\n",
              "      border-color: transparent;\n",
              "      border-right-color: var(--fill-color);\n",
              "      border-top-color: var(--fill-color);\n",
              "    }\n",
              "    60% {\n",
              "      border-color: transparent;\n",
              "      border-right-color: var(--fill-color);\n",
              "    }\n",
              "    80% {\n",
              "      border-color: transparent;\n",
              "      border-right-color: var(--fill-color);\n",
              "      border-bottom-color: var(--fill-color);\n",
              "    }\n",
              "    90% {\n",
              "      border-color: transparent;\n",
              "      border-bottom-color: var(--fill-color);\n",
              "    }\n",
              "  }\n",
              "</style>\n",
              "\n",
              "  <script>\n",
              "    async function quickchart(key) {\n",
              "      const quickchartButtonEl =\n",
              "        document.querySelector('#' + key + ' button');\n",
              "      quickchartButtonEl.disabled = true;  // To prevent multiple clicks.\n",
              "      quickchartButtonEl.classList.add('colab-df-spinner');\n",
              "      try {\n",
              "        const charts = await google.colab.kernel.invokeFunction(\n",
              "            'suggestCharts', [key], {});\n",
              "      } catch (error) {\n",
              "        console.error('Error during call to suggestCharts:', error);\n",
              "      }\n",
              "      quickchartButtonEl.classList.remove('colab-df-spinner');\n",
              "      quickchartButtonEl.classList.add('colab-df-quickchart-complete');\n",
              "    }\n",
              "    (() => {\n",
              "      let quickchartButtonEl =\n",
              "        document.querySelector('#df-4aff0f1d-f608-4d6e-ac0d-262146776799 button');\n",
              "      quickchartButtonEl.style.display =\n",
              "        google.colab.kernel.accessAllowed ? 'block' : 'none';\n",
              "    })();\n",
              "  </script>\n",
              "</div>\n",
              "\n",
              "    </div>\n",
              "  </div>\n"
            ],
            "application/vnd.google.colaboratory.intrinsic+json": {
              "type": "dataframe",
              "variable_name": "dados_renda",
              "summary": "{\n  \"name\": \"dados_renda\",\n  \"rows\": 5565,\n  \"fields\": [\n    {\n      \"column\": \"state\",\n      \"properties\": {\n        \"dtype\": \"category\",\n        \"num_unique_values\": 27,\n        \"samples\": [\n          \"TO\",\n          \"AC\",\n          \"RN\"\n        ],\n        \"semantic_type\": \"\",\n        \"description\": \"\"\n      }\n    },\n    {\n      \"column\": \"city\",\n      \"properties\": {\n        \"dtype\": \"string\",\n        \"num_unique_values\": 5565,\n        \"samples\": [\n          \"Bod\\u00f3/RN\",\n          \"S\\u00e3o Domingos das Dores/MG\",\n          \"Miranorte/TO\"\n        ],\n        \"semantic_type\": \"\",\n        \"description\": \"\"\n      }\n    },\n    {\n      \"column\": \"RDPC\",\n      \"properties\": {\n        \"dtype\": \"number\",\n        \"std\": 243.26933326461477,\n        \"min\": 96.25,\n        \"max\": 2043.74,\n        \"num_unique_values\": 5351,\n        \"samples\": [\n          311.09,\n          1048.6,\n          531.2\n        ],\n        \"semantic_type\": \"\",\n        \"description\": \"\"\n      }\n    }\n  ]\n}"
            }
          },
          "metadata": {},
          "execution_count": 8
        }
      ]
    },
    {
      "cell_type": "markdown",
      "source": [
        "## Funções"
      ],
      "metadata": {
        "id": "AAV_gqbBBODN"
      }
    },
    {
      "cell_type": "markdown",
      "source": [
        "- Índice de Gini\n",
        "\n",
        "Utilizar esta função para calcular o índice de gini para cada estado."
      ],
      "metadata": {
        "id": "BD80nsWOCqEa"
      }
    },
    {
      "cell_type": "code",
      "source": [
        "def gini(array):\n",
        "    \"\"\"Calculate the Gini coefficient of a numpy array.\"\"\"\n",
        "    # Garantir que o array seja unidimensional\n",
        "    array = np.asarray(array).flatten()\n",
        "\n",
        "    # Verificar se há valores negativos e fazer ajuste se necessário\n",
        "    if np.amin(array) < 0:\n",
        "        array -= np.amin(array)\n",
        "\n",
        "    # Verificar e ajustar valores zero\n",
        "    if np.any(array == 0):\n",
        "        # Adicionar um valor pequeno aos elementos zero para evitar divisão por zero\n",
        "        array[array == 0] = 0.000001\n",
        "\n",
        "    # Ordenar o array\n",
        "    array = np.sort(array)\n",
        "\n",
        "    # Índice para cada elemento do array\n",
        "    index = np.arange(1, array.shape[0] + 1)\n",
        "\n",
        "    # Número de elementos do array\n",
        "    n = array.shape[0]\n",
        "\n",
        "    # Calcular o coeficiente de Gini\n",
        "    gini_coefficient = ((np.sum((2 * index - n - 1) * array)) / (n * np.sum(array)))\n",
        "\n",
        "    return gini_coefficient"
      ],
      "metadata": {
        "id": "jX2ychuaGH_r"
      },
      "execution_count": null,
      "outputs": []
    },
    {
      "cell_type": "markdown",
      "source": [
        "## Questões"
      ],
      "metadata": {
        "id": "0f_I0Zaw_cml"
      }
    },
    {
      "cell_type": "markdown",
      "source": [
        "1- Na tabela do censo de 2010, obter o índice de Gini por UF (state)\n",
        "\n",
        " Criar um dataframe como\n",
        "df_gini_estado"
      ],
      "metadata": {
        "id": "vJx29HxIIx_E"
      }
    },
    {
      "cell_type": "code",
      "source": [
        "df_gini_state = dados_renda.groupby('state')['RDPC'].apply(gini).reset_index(name= 'Indice de Gini')\n",
        "print(df_gini_state)"
      ],
      "metadata": {
        "id": "kP6Q7NY4bYLv",
        "outputId": "849417b4-07c8-45c9-ba4e-94d959081a8f",
        "colab": {
          "base_uri": "https://localhost:8080/"
        }
      },
      "execution_count": null,
      "outputs": [
        {
          "output_type": "stream",
          "name": "stdout",
          "text": [
            "   state  Indice de Gini\n",
            "0     AC        0.195495\n",
            "1     AL        0.140823\n",
            "2     AM        0.180262\n",
            "3     AP        0.177035\n",
            "4     BA        0.160275\n",
            "5     CE        0.132551\n",
            "6     DF        0.000000\n",
            "7     ES        0.153020\n",
            "8     GO        0.138104\n",
            "9     MA        0.187907\n",
            "10    MG        0.192143\n",
            "11    MS        0.134532\n",
            "12    MT        0.154616\n",
            "13    PA        0.208619\n",
            "14    PB        0.134084\n",
            "15    PE        0.169153\n",
            "16    PI        0.149203\n",
            "17    PR        0.131235\n",
            "18    RJ        0.146672\n",
            "19    RN        0.144012\n",
            "20    RO        0.127922\n",
            "21    RR        0.241690\n",
            "22    RS        0.153786\n",
            "23    SC        0.137464\n",
            "24    SE        0.140378\n",
            "25    SP        0.140590\n",
            "26    TO        0.173719\n"
          ]
        }
      ]
    },
    {
      "cell_type": "markdown",
      "source": [
        "2- Realizar o join das tabelas de atendimento e df_gini_estado"
      ],
      "metadata": {
        "id": "3lyfQjaNI4lT"
      }
    },
    {
      "cell_type": "code",
      "source": [
        "dados_atendimentos_com_gini = pd.merge(dados_atendimentos, df_gini_state, on='state', how='left')\n",
        "dados_atendimentos_com_gini"
      ],
      "metadata": {
        "id": "bjxbYt8pse-S",
        "outputId": "49f47938-dfb8-45b6-d54f-7ecfed3d12a7",
        "colab": {
          "base_uri": "https://localhost:8080/",
          "height": 701
        }
      },
      "execution_count": null,
      "outputs": [
        {
          "output_type": "execute_result",
          "data": {
            "text/plain": [
              "     idEntrada state  usuarioOnline statusSaida  paginaSaida avaliacao  \\\n",
              "0            1    CE              1         80%            1  positiva   \n",
              "1            2    PE              0         40%            3  negativa   \n",
              "2            3    CE              0         60%            2  negativa   \n",
              "3            4    PR              0         20%            4  negativa   \n",
              "4            5    TO              0         20%            4  positiva   \n",
              "..         ...   ...            ...         ...          ...       ...   \n",
              "995        996    CE              0         40%            3  positiva   \n",
              "996        997    AP              0         40%            3  negativa   \n",
              "997        998    AM              0         60%            2  negativa   \n",
              "998        999    ES              0         40%            3  negativa   \n",
              "999       1000    RO              0        100%            0  negativa   \n",
              "\n",
              "      dataHoraEntrada     dataHoraSaida      dataHoraErro  tempoAcesso  \\\n",
              "0    18/05/2021 17:57  18/05/2021 18:00  18/05/2021 17:59          173   \n",
              "1    18/05/2021 17:57  18/05/2021 18:01  18/05/2021 18:00          212   \n",
              "2    18/05/2021 17:57  18/05/2021 18:04  18/05/2021 18:03          427   \n",
              "3    18/05/2021 17:57  18/05/2021 18:01  18/05/2021 18:00          248   \n",
              "4    18/05/2021 17:57  18/05/2021 18:01  18/05/2021 18:02          256   \n",
              "..                ...               ...               ...          ...   \n",
              "995  18/05/2021 17:57  18/05/2021 18:01  18/05/2021 18:00          229   \n",
              "996  18/05/2021 17:57  18/05/2021 18:03  18/05/2021 18:02          368   \n",
              "997  18/05/2021 17:57  18/05/2021 17:58  18/05/2021 17:57           78   \n",
              "998  18/05/2021 17:57  18/05/2021 18:00  18/05/2021 17:59          177   \n",
              "999  18/05/2021 17:57  18/05/2021 18:01  18/05/2021 18:00          210   \n",
              "\n",
              "     codigo                                               erro  Indice de Gini  \n",
              "0       550  \"NO MOMENTO ESTE SERIVCO ESTA INDISPONIVEL. PO...        0.132551  \n",
              "1       550        \"ERRO NA VALIDACAO DE DADOS COMPLEMENTARES\"        0.169153  \n",
              "2       500                            \"INTERNAL SERVER ERROR\"        0.132551  \n",
              "3       550                 \"CPF -CNPJ CLIENTE NAO CADASTRADO\"        0.131235  \n",
              "4       500  \"OPS! NÃO FOI POSSIVEL CONSULTAR O SALDO. TENT...        0.173719  \n",
              "..      ...                                                ...             ...  \n",
              "995     550                 \"CPF -CNPJ CLIENTE NAO CADASTRADO\"        0.132551  \n",
              "996     500  \"OPS! NÃO FOI POSSIVEL CONSULTAR O SALDO. TENT...        0.177035  \n",
              "997     550  \"NO MOMENTO ESTE SERIVCO ESTA INDISPONIVEL. PO...        0.180262  \n",
              "998     500                           \"CLIENTE NAO CADASTRADO\"        0.153020  \n",
              "999     550               \"NAO ENCONTROU DADOS PARA A SELECAO\"        0.127922  \n",
              "\n",
              "[1000 rows x 13 columns]"
            ],
            "text/html": [
              "\n",
              "  <div id=\"df-2bd66409-3121-467c-b0ab-bb95231ff0a1\" class=\"colab-df-container\">\n",
              "    <div>\n",
              "<style scoped>\n",
              "    .dataframe tbody tr th:only-of-type {\n",
              "        vertical-align: middle;\n",
              "    }\n",
              "\n",
              "    .dataframe tbody tr th {\n",
              "        vertical-align: top;\n",
              "    }\n",
              "\n",
              "    .dataframe thead th {\n",
              "        text-align: right;\n",
              "    }\n",
              "</style>\n",
              "<table border=\"1\" class=\"dataframe\">\n",
              "  <thead>\n",
              "    <tr style=\"text-align: right;\">\n",
              "      <th></th>\n",
              "      <th>idEntrada</th>\n",
              "      <th>state</th>\n",
              "      <th>usuarioOnline</th>\n",
              "      <th>statusSaida</th>\n",
              "      <th>paginaSaida</th>\n",
              "      <th>avaliacao</th>\n",
              "      <th>dataHoraEntrada</th>\n",
              "      <th>dataHoraSaida</th>\n",
              "      <th>dataHoraErro</th>\n",
              "      <th>tempoAcesso</th>\n",
              "      <th>codigo</th>\n",
              "      <th>erro</th>\n",
              "      <th>Indice de Gini</th>\n",
              "    </tr>\n",
              "  </thead>\n",
              "  <tbody>\n",
              "    <tr>\n",
              "      <th>0</th>\n",
              "      <td>1</td>\n",
              "      <td>CE</td>\n",
              "      <td>1</td>\n",
              "      <td>80%</td>\n",
              "      <td>1</td>\n",
              "      <td>positiva</td>\n",
              "      <td>18/05/2021 17:57</td>\n",
              "      <td>18/05/2021 18:00</td>\n",
              "      <td>18/05/2021 17:59</td>\n",
              "      <td>173</td>\n",
              "      <td>550</td>\n",
              "      <td>\"NO MOMENTO ESTE SERIVCO ESTA INDISPONIVEL. PO...</td>\n",
              "      <td>0.132551</td>\n",
              "    </tr>\n",
              "    <tr>\n",
              "      <th>1</th>\n",
              "      <td>2</td>\n",
              "      <td>PE</td>\n",
              "      <td>0</td>\n",
              "      <td>40%</td>\n",
              "      <td>3</td>\n",
              "      <td>negativa</td>\n",
              "      <td>18/05/2021 17:57</td>\n",
              "      <td>18/05/2021 18:01</td>\n",
              "      <td>18/05/2021 18:00</td>\n",
              "      <td>212</td>\n",
              "      <td>550</td>\n",
              "      <td>\"ERRO NA VALIDACAO DE DADOS COMPLEMENTARES\"</td>\n",
              "      <td>0.169153</td>\n",
              "    </tr>\n",
              "    <tr>\n",
              "      <th>2</th>\n",
              "      <td>3</td>\n",
              "      <td>CE</td>\n",
              "      <td>0</td>\n",
              "      <td>60%</td>\n",
              "      <td>2</td>\n",
              "      <td>negativa</td>\n",
              "      <td>18/05/2021 17:57</td>\n",
              "      <td>18/05/2021 18:04</td>\n",
              "      <td>18/05/2021 18:03</td>\n",
              "      <td>427</td>\n",
              "      <td>500</td>\n",
              "      <td>\"INTERNAL SERVER ERROR\"</td>\n",
              "      <td>0.132551</td>\n",
              "    </tr>\n",
              "    <tr>\n",
              "      <th>3</th>\n",
              "      <td>4</td>\n",
              "      <td>PR</td>\n",
              "      <td>0</td>\n",
              "      <td>20%</td>\n",
              "      <td>4</td>\n",
              "      <td>negativa</td>\n",
              "      <td>18/05/2021 17:57</td>\n",
              "      <td>18/05/2021 18:01</td>\n",
              "      <td>18/05/2021 18:00</td>\n",
              "      <td>248</td>\n",
              "      <td>550</td>\n",
              "      <td>\"CPF -CNPJ CLIENTE NAO CADASTRADO\"</td>\n",
              "      <td>0.131235</td>\n",
              "    </tr>\n",
              "    <tr>\n",
              "      <th>4</th>\n",
              "      <td>5</td>\n",
              "      <td>TO</td>\n",
              "      <td>0</td>\n",
              "      <td>20%</td>\n",
              "      <td>4</td>\n",
              "      <td>positiva</td>\n",
              "      <td>18/05/2021 17:57</td>\n",
              "      <td>18/05/2021 18:01</td>\n",
              "      <td>18/05/2021 18:02</td>\n",
              "      <td>256</td>\n",
              "      <td>500</td>\n",
              "      <td>\"OPS! NÃO FOI POSSIVEL CONSULTAR O SALDO. TENT...</td>\n",
              "      <td>0.173719</td>\n",
              "    </tr>\n",
              "    <tr>\n",
              "      <th>...</th>\n",
              "      <td>...</td>\n",
              "      <td>...</td>\n",
              "      <td>...</td>\n",
              "      <td>...</td>\n",
              "      <td>...</td>\n",
              "      <td>...</td>\n",
              "      <td>...</td>\n",
              "      <td>...</td>\n",
              "      <td>...</td>\n",
              "      <td>...</td>\n",
              "      <td>...</td>\n",
              "      <td>...</td>\n",
              "      <td>...</td>\n",
              "    </tr>\n",
              "    <tr>\n",
              "      <th>995</th>\n",
              "      <td>996</td>\n",
              "      <td>CE</td>\n",
              "      <td>0</td>\n",
              "      <td>40%</td>\n",
              "      <td>3</td>\n",
              "      <td>positiva</td>\n",
              "      <td>18/05/2021 17:57</td>\n",
              "      <td>18/05/2021 18:01</td>\n",
              "      <td>18/05/2021 18:00</td>\n",
              "      <td>229</td>\n",
              "      <td>550</td>\n",
              "      <td>\"CPF -CNPJ CLIENTE NAO CADASTRADO\"</td>\n",
              "      <td>0.132551</td>\n",
              "    </tr>\n",
              "    <tr>\n",
              "      <th>996</th>\n",
              "      <td>997</td>\n",
              "      <td>AP</td>\n",
              "      <td>0</td>\n",
              "      <td>40%</td>\n",
              "      <td>3</td>\n",
              "      <td>negativa</td>\n",
              "      <td>18/05/2021 17:57</td>\n",
              "      <td>18/05/2021 18:03</td>\n",
              "      <td>18/05/2021 18:02</td>\n",
              "      <td>368</td>\n",
              "      <td>500</td>\n",
              "      <td>\"OPS! NÃO FOI POSSIVEL CONSULTAR O SALDO. TENT...</td>\n",
              "      <td>0.177035</td>\n",
              "    </tr>\n",
              "    <tr>\n",
              "      <th>997</th>\n",
              "      <td>998</td>\n",
              "      <td>AM</td>\n",
              "      <td>0</td>\n",
              "      <td>60%</td>\n",
              "      <td>2</td>\n",
              "      <td>negativa</td>\n",
              "      <td>18/05/2021 17:57</td>\n",
              "      <td>18/05/2021 17:58</td>\n",
              "      <td>18/05/2021 17:57</td>\n",
              "      <td>78</td>\n",
              "      <td>550</td>\n",
              "      <td>\"NO MOMENTO ESTE SERIVCO ESTA INDISPONIVEL. PO...</td>\n",
              "      <td>0.180262</td>\n",
              "    </tr>\n",
              "    <tr>\n",
              "      <th>998</th>\n",
              "      <td>999</td>\n",
              "      <td>ES</td>\n",
              "      <td>0</td>\n",
              "      <td>40%</td>\n",
              "      <td>3</td>\n",
              "      <td>negativa</td>\n",
              "      <td>18/05/2021 17:57</td>\n",
              "      <td>18/05/2021 18:00</td>\n",
              "      <td>18/05/2021 17:59</td>\n",
              "      <td>177</td>\n",
              "      <td>500</td>\n",
              "      <td>\"CLIENTE NAO CADASTRADO\"</td>\n",
              "      <td>0.153020</td>\n",
              "    </tr>\n",
              "    <tr>\n",
              "      <th>999</th>\n",
              "      <td>1000</td>\n",
              "      <td>RO</td>\n",
              "      <td>0</td>\n",
              "      <td>100%</td>\n",
              "      <td>0</td>\n",
              "      <td>negativa</td>\n",
              "      <td>18/05/2021 17:57</td>\n",
              "      <td>18/05/2021 18:01</td>\n",
              "      <td>18/05/2021 18:00</td>\n",
              "      <td>210</td>\n",
              "      <td>550</td>\n",
              "      <td>\"NAO ENCONTROU DADOS PARA A SELECAO\"</td>\n",
              "      <td>0.127922</td>\n",
              "    </tr>\n",
              "  </tbody>\n",
              "</table>\n",
              "<p>1000 rows × 13 columns</p>\n",
              "</div>\n",
              "    <div class=\"colab-df-buttons\">\n",
              "\n",
              "  <div class=\"colab-df-container\">\n",
              "    <button class=\"colab-df-convert\" onclick=\"convertToInteractive('df-2bd66409-3121-467c-b0ab-bb95231ff0a1')\"\n",
              "            title=\"Convert this dataframe to an interactive table.\"\n",
              "            style=\"display:none;\">\n",
              "\n",
              "  <svg xmlns=\"http://www.w3.org/2000/svg\" height=\"24px\" viewBox=\"0 -960 960 960\">\n",
              "    <path d=\"M120-120v-720h720v720H120Zm60-500h600v-160H180v160Zm220 220h160v-160H400v160Zm0 220h160v-160H400v160ZM180-400h160v-160H180v160Zm440 0h160v-160H620v160ZM180-180h160v-160H180v160Zm440 0h160v-160H620v160Z\"/>\n",
              "  </svg>\n",
              "    </button>\n",
              "\n",
              "  <style>\n",
              "    .colab-df-container {\n",
              "      display:flex;\n",
              "      gap: 12px;\n",
              "    }\n",
              "\n",
              "    .colab-df-convert {\n",
              "      background-color: #E8F0FE;\n",
              "      border: none;\n",
              "      border-radius: 50%;\n",
              "      cursor: pointer;\n",
              "      display: none;\n",
              "      fill: #1967D2;\n",
              "      height: 32px;\n",
              "      padding: 0 0 0 0;\n",
              "      width: 32px;\n",
              "    }\n",
              "\n",
              "    .colab-df-convert:hover {\n",
              "      background-color: #E2EBFA;\n",
              "      box-shadow: 0px 1px 2px rgba(60, 64, 67, 0.3), 0px 1px 3px 1px rgba(60, 64, 67, 0.15);\n",
              "      fill: #174EA6;\n",
              "    }\n",
              "\n",
              "    .colab-df-buttons div {\n",
              "      margin-bottom: 4px;\n",
              "    }\n",
              "\n",
              "    [theme=dark] .colab-df-convert {\n",
              "      background-color: #3B4455;\n",
              "      fill: #D2E3FC;\n",
              "    }\n",
              "\n",
              "    [theme=dark] .colab-df-convert:hover {\n",
              "      background-color: #434B5C;\n",
              "      box-shadow: 0px 1px 3px 1px rgba(0, 0, 0, 0.15);\n",
              "      filter: drop-shadow(0px 1px 2px rgba(0, 0, 0, 0.3));\n",
              "      fill: #FFFFFF;\n",
              "    }\n",
              "  </style>\n",
              "\n",
              "    <script>\n",
              "      const buttonEl =\n",
              "        document.querySelector('#df-2bd66409-3121-467c-b0ab-bb95231ff0a1 button.colab-df-convert');\n",
              "      buttonEl.style.display =\n",
              "        google.colab.kernel.accessAllowed ? 'block' : 'none';\n",
              "\n",
              "      async function convertToInteractive(key) {\n",
              "        const element = document.querySelector('#df-2bd66409-3121-467c-b0ab-bb95231ff0a1');\n",
              "        const dataTable =\n",
              "          await google.colab.kernel.invokeFunction('convertToInteractive',\n",
              "                                                    [key], {});\n",
              "        if (!dataTable) return;\n",
              "\n",
              "        const docLinkHtml = 'Like what you see? Visit the ' +\n",
              "          '<a target=\"_blank\" href=https://colab.research.google.com/notebooks/data_table.ipynb>data table notebook</a>'\n",
              "          + ' to learn more about interactive tables.';\n",
              "        element.innerHTML = '';\n",
              "        dataTable['output_type'] = 'display_data';\n",
              "        await google.colab.output.renderOutput(dataTable, element);\n",
              "        const docLink = document.createElement('div');\n",
              "        docLink.innerHTML = docLinkHtml;\n",
              "        element.appendChild(docLink);\n",
              "      }\n",
              "    </script>\n",
              "  </div>\n",
              "\n",
              "\n",
              "<div id=\"df-45864eff-b648-4b0c-9366-d1af29a11a11\">\n",
              "  <button class=\"colab-df-quickchart\" onclick=\"quickchart('df-45864eff-b648-4b0c-9366-d1af29a11a11')\"\n",
              "            title=\"Suggest charts\"\n",
              "            style=\"display:none;\">\n",
              "\n",
              "<svg xmlns=\"http://www.w3.org/2000/svg\" height=\"24px\"viewBox=\"0 0 24 24\"\n",
              "     width=\"24px\">\n",
              "    <g>\n",
              "        <path d=\"M19 3H5c-1.1 0-2 .9-2 2v14c0 1.1.9 2 2 2h14c1.1 0 2-.9 2-2V5c0-1.1-.9-2-2-2zM9 17H7v-7h2v7zm4 0h-2V7h2v10zm4 0h-2v-4h2v4z\"/>\n",
              "    </g>\n",
              "</svg>\n",
              "  </button>\n",
              "\n",
              "<style>\n",
              "  .colab-df-quickchart {\n",
              "      --bg-color: #E8F0FE;\n",
              "      --fill-color: #1967D2;\n",
              "      --hover-bg-color: #E2EBFA;\n",
              "      --hover-fill-color: #174EA6;\n",
              "      --disabled-fill-color: #AAA;\n",
              "      --disabled-bg-color: #DDD;\n",
              "  }\n",
              "\n",
              "  [theme=dark] .colab-df-quickchart {\n",
              "      --bg-color: #3B4455;\n",
              "      --fill-color: #D2E3FC;\n",
              "      --hover-bg-color: #434B5C;\n",
              "      --hover-fill-color: #FFFFFF;\n",
              "      --disabled-bg-color: #3B4455;\n",
              "      --disabled-fill-color: #666;\n",
              "  }\n",
              "\n",
              "  .colab-df-quickchart {\n",
              "    background-color: var(--bg-color);\n",
              "    border: none;\n",
              "    border-radius: 50%;\n",
              "    cursor: pointer;\n",
              "    display: none;\n",
              "    fill: var(--fill-color);\n",
              "    height: 32px;\n",
              "    padding: 0;\n",
              "    width: 32px;\n",
              "  }\n",
              "\n",
              "  .colab-df-quickchart:hover {\n",
              "    background-color: var(--hover-bg-color);\n",
              "    box-shadow: 0 1px 2px rgba(60, 64, 67, 0.3), 0 1px 3px 1px rgba(60, 64, 67, 0.15);\n",
              "    fill: var(--button-hover-fill-color);\n",
              "  }\n",
              "\n",
              "  .colab-df-quickchart-complete:disabled,\n",
              "  .colab-df-quickchart-complete:disabled:hover {\n",
              "    background-color: var(--disabled-bg-color);\n",
              "    fill: var(--disabled-fill-color);\n",
              "    box-shadow: none;\n",
              "  }\n",
              "\n",
              "  .colab-df-spinner {\n",
              "    border: 2px solid var(--fill-color);\n",
              "    border-color: transparent;\n",
              "    border-bottom-color: var(--fill-color);\n",
              "    animation:\n",
              "      spin 1s steps(1) infinite;\n",
              "  }\n",
              "\n",
              "  @keyframes spin {\n",
              "    0% {\n",
              "      border-color: transparent;\n",
              "      border-bottom-color: var(--fill-color);\n",
              "      border-left-color: var(--fill-color);\n",
              "    }\n",
              "    20% {\n",
              "      border-color: transparent;\n",
              "      border-left-color: var(--fill-color);\n",
              "      border-top-color: var(--fill-color);\n",
              "    }\n",
              "    30% {\n",
              "      border-color: transparent;\n",
              "      border-left-color: var(--fill-color);\n",
              "      border-top-color: var(--fill-color);\n",
              "      border-right-color: var(--fill-color);\n",
              "    }\n",
              "    40% {\n",
              "      border-color: transparent;\n",
              "      border-right-color: var(--fill-color);\n",
              "      border-top-color: var(--fill-color);\n",
              "    }\n",
              "    60% {\n",
              "      border-color: transparent;\n",
              "      border-right-color: var(--fill-color);\n",
              "    }\n",
              "    80% {\n",
              "      border-color: transparent;\n",
              "      border-right-color: var(--fill-color);\n",
              "      border-bottom-color: var(--fill-color);\n",
              "    }\n",
              "    90% {\n",
              "      border-color: transparent;\n",
              "      border-bottom-color: var(--fill-color);\n",
              "    }\n",
              "  }\n",
              "</style>\n",
              "\n",
              "  <script>\n",
              "    async function quickchart(key) {\n",
              "      const quickchartButtonEl =\n",
              "        document.querySelector('#' + key + ' button');\n",
              "      quickchartButtonEl.disabled = true;  // To prevent multiple clicks.\n",
              "      quickchartButtonEl.classList.add('colab-df-spinner');\n",
              "      try {\n",
              "        const charts = await google.colab.kernel.invokeFunction(\n",
              "            'suggestCharts', [key], {});\n",
              "      } catch (error) {\n",
              "        console.error('Error during call to suggestCharts:', error);\n",
              "      }\n",
              "      quickchartButtonEl.classList.remove('colab-df-spinner');\n",
              "      quickchartButtonEl.classList.add('colab-df-quickchart-complete');\n",
              "    }\n",
              "    (() => {\n",
              "      let quickchartButtonEl =\n",
              "        document.querySelector('#df-45864eff-b648-4b0c-9366-d1af29a11a11 button');\n",
              "      quickchartButtonEl.style.display =\n",
              "        google.colab.kernel.accessAllowed ? 'block' : 'none';\n",
              "    })();\n",
              "  </script>\n",
              "</div>\n",
              "\n",
              "  <div id=\"id_95003d4d-f4ea-4e76-ae52-67bd28842318\">\n",
              "    <style>\n",
              "      .colab-df-generate {\n",
              "        background-color: #E8F0FE;\n",
              "        border: none;\n",
              "        border-radius: 50%;\n",
              "        cursor: pointer;\n",
              "        display: none;\n",
              "        fill: #1967D2;\n",
              "        height: 32px;\n",
              "        padding: 0 0 0 0;\n",
              "        width: 32px;\n",
              "      }\n",
              "\n",
              "      .colab-df-generate:hover {\n",
              "        background-color: #E2EBFA;\n",
              "        box-shadow: 0px 1px 2px rgba(60, 64, 67, 0.3), 0px 1px 3px 1px rgba(60, 64, 67, 0.15);\n",
              "        fill: #174EA6;\n",
              "      }\n",
              "\n",
              "      [theme=dark] .colab-df-generate {\n",
              "        background-color: #3B4455;\n",
              "        fill: #D2E3FC;\n",
              "      }\n",
              "\n",
              "      [theme=dark] .colab-df-generate:hover {\n",
              "        background-color: #434B5C;\n",
              "        box-shadow: 0px 1px 3px 1px rgba(0, 0, 0, 0.15);\n",
              "        filter: drop-shadow(0px 1px 2px rgba(0, 0, 0, 0.3));\n",
              "        fill: #FFFFFF;\n",
              "      }\n",
              "    </style>\n",
              "    <button class=\"colab-df-generate\" onclick=\"generateWithVariable('dados_atendimentos_com_gini')\"\n",
              "            title=\"Generate code using this dataframe.\"\n",
              "            style=\"display:none;\">\n",
              "\n",
              "  <svg xmlns=\"http://www.w3.org/2000/svg\" height=\"24px\"viewBox=\"0 0 24 24\"\n",
              "       width=\"24px\">\n",
              "    <path d=\"M7,19H8.4L18.45,9,17,7.55,7,17.6ZM5,21V16.75L18.45,3.32a2,2,0,0,1,2.83,0l1.4,1.43a1.91,1.91,0,0,1,.58,1.4,1.91,1.91,0,0,1-.58,1.4L9.25,21ZM18.45,9,17,7.55Zm-12,3A5.31,5.31,0,0,0,4.9,8.1,5.31,5.31,0,0,0,1,6.5,5.31,5.31,0,0,0,4.9,4.9,5.31,5.31,0,0,0,6.5,1,5.31,5.31,0,0,0,8.1,4.9,5.31,5.31,0,0,0,12,6.5,5.46,5.46,0,0,0,6.5,12Z\"/>\n",
              "  </svg>\n",
              "    </button>\n",
              "    <script>\n",
              "      (() => {\n",
              "      const buttonEl =\n",
              "        document.querySelector('#id_95003d4d-f4ea-4e76-ae52-67bd28842318 button.colab-df-generate');\n",
              "      buttonEl.style.display =\n",
              "        google.colab.kernel.accessAllowed ? 'block' : 'none';\n",
              "\n",
              "      buttonEl.onclick = () => {\n",
              "        google.colab.notebook.generateWithVariable('dados_atendimentos_com_gini');\n",
              "      }\n",
              "      })();\n",
              "    </script>\n",
              "  </div>\n",
              "\n",
              "    </div>\n",
              "  </div>\n"
            ],
            "application/vnd.google.colaboratory.intrinsic+json": {
              "type": "dataframe",
              "variable_name": "dados_atendimentos_com_gini",
              "summary": "{\n  \"name\": \"dados_atendimentos_com_gini\",\n  \"rows\": 1000,\n  \"fields\": [\n    {\n      \"column\": \"idEntrada\",\n      \"properties\": {\n        \"dtype\": \"number\",\n        \"std\": 288,\n        \"min\": 1,\n        \"max\": 1000,\n        \"num_unique_values\": 1000,\n        \"samples\": [\n          522,\n          738,\n          741\n        ],\n        \"semantic_type\": \"\",\n        \"description\": \"\"\n      }\n    },\n    {\n      \"column\": \"state\",\n      \"properties\": {\n        \"dtype\": \"category\",\n        \"num_unique_values\": 26,\n        \"samples\": [\n          \"SE\",\n          \"MA\",\n          \"CE\"\n        ],\n        \"semantic_type\": \"\",\n        \"description\": \"\"\n      }\n    },\n    {\n      \"column\": \"usuarioOnline\",\n      \"properties\": {\n        \"dtype\": \"number\",\n        \"std\": 0,\n        \"min\": 0,\n        \"max\": 1,\n        \"num_unique_values\": 2,\n        \"samples\": [\n          0,\n          1\n        ],\n        \"semantic_type\": \"\",\n        \"description\": \"\"\n      }\n    },\n    {\n      \"column\": \"statusSaida\",\n      \"properties\": {\n        \"dtype\": \"category\",\n        \"num_unique_values\": 5,\n        \"samples\": [\n          \"40%\",\n          \"100%\"\n        ],\n        \"semantic_type\": \"\",\n        \"description\": \"\"\n      }\n    },\n    {\n      \"column\": \"paginaSaida\",\n      \"properties\": {\n        \"dtype\": \"number\",\n        \"std\": 1,\n        \"min\": 0,\n        \"max\": 4,\n        \"num_unique_values\": 5,\n        \"samples\": [\n          3,\n          0\n        ],\n        \"semantic_type\": \"\",\n        \"description\": \"\"\n      }\n    },\n    {\n      \"column\": \"avaliacao\",\n      \"properties\": {\n        \"dtype\": \"category\",\n        \"num_unique_values\": 3,\n        \"samples\": [\n          \"positiva\",\n          \"negativa\"\n        ],\n        \"semantic_type\": \"\",\n        \"description\": \"\"\n      }\n    },\n    {\n      \"column\": \"dataHoraEntrada\",\n      \"properties\": {\n        \"dtype\": \"object\",\n        \"num_unique_values\": 1,\n        \"samples\": [\n          \"18/05/2021 17:57\"\n        ],\n        \"semantic_type\": \"\",\n        \"description\": \"\"\n      }\n    },\n    {\n      \"column\": \"dataHoraSaida\",\n      \"properties\": {\n        \"dtype\": \"object\",\n        \"num_unique_values\": 13,\n        \"samples\": [\n          \"18/05/2021 18:06\"\n        ],\n        \"semantic_type\": \"\",\n        \"description\": \"\"\n      }\n    },\n    {\n      \"column\": \"dataHoraErro\",\n      \"properties\": {\n        \"dtype\": \"object\",\n        \"num_unique_values\": 14,\n        \"samples\": [\n          \"18/05/2021 18:07\"\n        ],\n        \"semantic_type\": \"\",\n        \"description\": \"\"\n      }\n    },\n    {\n      \"column\": \"tempoAcesso\",\n      \"properties\": {\n        \"dtype\": \"number\",\n        \"std\": 112,\n        \"min\": 1,\n        \"max\": 629,\n        \"num_unique_values\": 401,\n        \"samples\": [\n          109\n        ],\n        \"semantic_type\": \"\",\n        \"description\": \"\"\n      }\n    },\n    {\n      \"column\": \"codigo\",\n      \"properties\": {\n        \"dtype\": \"number\",\n        \"std\": 24,\n        \"min\": 500,\n        \"max\": 550,\n        \"num_unique_values\": 2,\n        \"samples\": [\n          500\n        ],\n        \"semantic_type\": \"\",\n        \"description\": \"\"\n      }\n    },\n    {\n      \"column\": \"erro\",\n      \"properties\": {\n        \"dtype\": \"category\",\n        \"num_unique_values\": 12,\n        \"samples\": [\n          \"\\\"CHAVE PIX INCORRETA\\\"\"\n        ],\n        \"semantic_type\": \"\",\n        \"description\": \"\"\n      }\n    },\n    {\n      \"column\": \"Indice de Gini\",\n      \"properties\": {\n        \"dtype\": \"number\",\n        \"std\": 0.027156255037660847,\n        \"min\": 0.1279216211122826,\n        \"max\": 0.24168958349604625,\n        \"num_unique_values\": 26,\n        \"samples\": [\n          0.14037778791473335\n        ],\n        \"semantic_type\": \"\",\n        \"description\": \"\"\n      }\n    }\n  ]\n}"
            }
          },
          "metadata": {},
          "execution_count": 11
        }
      ]
    },
    {
      "cell_type": "markdown",
      "source": [
        "3 – Obter as distribuições de probabilidade (histograma) das variáveis listadas, depois informar\n",
        "qual das distribuições de probabilidade estudadas é mais similar:"
      ],
      "metadata": {
        "id": "bkNeyTkjIdM0"
      }
    },
    {
      "cell_type": "markdown",
      "source": [
        "A) Tempo Acesso"
      ],
      "metadata": {
        "id": "klcR9DTYJVbM"
      }
    },
    {
      "cell_type": "code",
      "source": [
        "dados_atendimentos"
      ],
      "metadata": {
        "id": "Caf90vjXCiRl",
        "outputId": "a52f8c5c-4401-4d11-eea6-004c7111a2f2",
        "colab": {
          "base_uri": "https://localhost:8080/",
          "height": 597
        }
      },
      "execution_count": null,
      "outputs": [
        {
          "output_type": "execute_result",
          "data": {
            "text/plain": [
              "     idEntrada state  usuarioOnline statusSaida  paginaSaida avaliacao  \\\n",
              "0            1    CE              1         80%            1  positiva   \n",
              "1            2    PE              0         40%            3  negativa   \n",
              "2            3    CE              0         60%            2  negativa   \n",
              "3            4    PR              0         20%            4  negativa   \n",
              "4            5    TO              0         20%            4  positiva   \n",
              "..         ...   ...            ...         ...          ...       ...   \n",
              "995        996    CE              0         40%            3  positiva   \n",
              "996        997    AP              0         40%            3  negativa   \n",
              "997        998    AM              0         60%            2  negativa   \n",
              "998        999    ES              0         40%            3  negativa   \n",
              "999       1000    RO              0        100%            0  negativa   \n",
              "\n",
              "      dataHoraEntrada     dataHoraSaida      dataHoraErro  tempoAcesso  \\\n",
              "0    18/05/2021 17:57  18/05/2021 18:00  18/05/2021 17:59          173   \n",
              "1    18/05/2021 17:57  18/05/2021 18:01  18/05/2021 18:00          212   \n",
              "2    18/05/2021 17:57  18/05/2021 18:04  18/05/2021 18:03          427   \n",
              "3    18/05/2021 17:57  18/05/2021 18:01  18/05/2021 18:00          248   \n",
              "4    18/05/2021 17:57  18/05/2021 18:01  18/05/2021 18:02          256   \n",
              "..                ...               ...               ...          ...   \n",
              "995  18/05/2021 17:57  18/05/2021 18:01  18/05/2021 18:00          229   \n",
              "996  18/05/2021 17:57  18/05/2021 18:03  18/05/2021 18:02          368   \n",
              "997  18/05/2021 17:57  18/05/2021 17:58  18/05/2021 17:57           78   \n",
              "998  18/05/2021 17:57  18/05/2021 18:00  18/05/2021 17:59          177   \n",
              "999  18/05/2021 17:57  18/05/2021 18:01  18/05/2021 18:00          210   \n",
              "\n",
              "     codigo                                               erro  \n",
              "0       550  \"NO MOMENTO ESTE SERIVCO ESTA INDISPONIVEL. PO...  \n",
              "1       550        \"ERRO NA VALIDACAO DE DADOS COMPLEMENTARES\"  \n",
              "2       500                            \"INTERNAL SERVER ERROR\"  \n",
              "3       550                 \"CPF -CNPJ CLIENTE NAO CADASTRADO\"  \n",
              "4       500  \"OPS! NÃO FOI POSSIVEL CONSULTAR O SALDO. TENT...  \n",
              "..      ...                                                ...  \n",
              "995     550                 \"CPF -CNPJ CLIENTE NAO CADASTRADO\"  \n",
              "996     500  \"OPS! NÃO FOI POSSIVEL CONSULTAR O SALDO. TENT...  \n",
              "997     550  \"NO MOMENTO ESTE SERIVCO ESTA INDISPONIVEL. PO...  \n",
              "998     500                           \"CLIENTE NAO CADASTRADO\"  \n",
              "999     550               \"NAO ENCONTROU DADOS PARA A SELECAO\"  \n",
              "\n",
              "[1000 rows x 12 columns]"
            ],
            "text/html": [
              "\n",
              "  <div id=\"df-c2458d76-5ee5-4310-9e55-6d42fc640e80\" class=\"colab-df-container\">\n",
              "    <div>\n",
              "<style scoped>\n",
              "    .dataframe tbody tr th:only-of-type {\n",
              "        vertical-align: middle;\n",
              "    }\n",
              "\n",
              "    .dataframe tbody tr th {\n",
              "        vertical-align: top;\n",
              "    }\n",
              "\n",
              "    .dataframe thead th {\n",
              "        text-align: right;\n",
              "    }\n",
              "</style>\n",
              "<table border=\"1\" class=\"dataframe\">\n",
              "  <thead>\n",
              "    <tr style=\"text-align: right;\">\n",
              "      <th></th>\n",
              "      <th>idEntrada</th>\n",
              "      <th>state</th>\n",
              "      <th>usuarioOnline</th>\n",
              "      <th>statusSaida</th>\n",
              "      <th>paginaSaida</th>\n",
              "      <th>avaliacao</th>\n",
              "      <th>dataHoraEntrada</th>\n",
              "      <th>dataHoraSaida</th>\n",
              "      <th>dataHoraErro</th>\n",
              "      <th>tempoAcesso</th>\n",
              "      <th>codigo</th>\n",
              "      <th>erro</th>\n",
              "    </tr>\n",
              "  </thead>\n",
              "  <tbody>\n",
              "    <tr>\n",
              "      <th>0</th>\n",
              "      <td>1</td>\n",
              "      <td>CE</td>\n",
              "      <td>1</td>\n",
              "      <td>80%</td>\n",
              "      <td>1</td>\n",
              "      <td>positiva</td>\n",
              "      <td>18/05/2021 17:57</td>\n",
              "      <td>18/05/2021 18:00</td>\n",
              "      <td>18/05/2021 17:59</td>\n",
              "      <td>173</td>\n",
              "      <td>550</td>\n",
              "      <td>\"NO MOMENTO ESTE SERIVCO ESTA INDISPONIVEL. PO...</td>\n",
              "    </tr>\n",
              "    <tr>\n",
              "      <th>1</th>\n",
              "      <td>2</td>\n",
              "      <td>PE</td>\n",
              "      <td>0</td>\n",
              "      <td>40%</td>\n",
              "      <td>3</td>\n",
              "      <td>negativa</td>\n",
              "      <td>18/05/2021 17:57</td>\n",
              "      <td>18/05/2021 18:01</td>\n",
              "      <td>18/05/2021 18:00</td>\n",
              "      <td>212</td>\n",
              "      <td>550</td>\n",
              "      <td>\"ERRO NA VALIDACAO DE DADOS COMPLEMENTARES\"</td>\n",
              "    </tr>\n",
              "    <tr>\n",
              "      <th>2</th>\n",
              "      <td>3</td>\n",
              "      <td>CE</td>\n",
              "      <td>0</td>\n",
              "      <td>60%</td>\n",
              "      <td>2</td>\n",
              "      <td>negativa</td>\n",
              "      <td>18/05/2021 17:57</td>\n",
              "      <td>18/05/2021 18:04</td>\n",
              "      <td>18/05/2021 18:03</td>\n",
              "      <td>427</td>\n",
              "      <td>500</td>\n",
              "      <td>\"INTERNAL SERVER ERROR\"</td>\n",
              "    </tr>\n",
              "    <tr>\n",
              "      <th>3</th>\n",
              "      <td>4</td>\n",
              "      <td>PR</td>\n",
              "      <td>0</td>\n",
              "      <td>20%</td>\n",
              "      <td>4</td>\n",
              "      <td>negativa</td>\n",
              "      <td>18/05/2021 17:57</td>\n",
              "      <td>18/05/2021 18:01</td>\n",
              "      <td>18/05/2021 18:00</td>\n",
              "      <td>248</td>\n",
              "      <td>550</td>\n",
              "      <td>\"CPF -CNPJ CLIENTE NAO CADASTRADO\"</td>\n",
              "    </tr>\n",
              "    <tr>\n",
              "      <th>4</th>\n",
              "      <td>5</td>\n",
              "      <td>TO</td>\n",
              "      <td>0</td>\n",
              "      <td>20%</td>\n",
              "      <td>4</td>\n",
              "      <td>positiva</td>\n",
              "      <td>18/05/2021 17:57</td>\n",
              "      <td>18/05/2021 18:01</td>\n",
              "      <td>18/05/2021 18:02</td>\n",
              "      <td>256</td>\n",
              "      <td>500</td>\n",
              "      <td>\"OPS! NÃO FOI POSSIVEL CONSULTAR O SALDO. TENT...</td>\n",
              "    </tr>\n",
              "    <tr>\n",
              "      <th>...</th>\n",
              "      <td>...</td>\n",
              "      <td>...</td>\n",
              "      <td>...</td>\n",
              "      <td>...</td>\n",
              "      <td>...</td>\n",
              "      <td>...</td>\n",
              "      <td>...</td>\n",
              "      <td>...</td>\n",
              "      <td>...</td>\n",
              "      <td>...</td>\n",
              "      <td>...</td>\n",
              "      <td>...</td>\n",
              "    </tr>\n",
              "    <tr>\n",
              "      <th>995</th>\n",
              "      <td>996</td>\n",
              "      <td>CE</td>\n",
              "      <td>0</td>\n",
              "      <td>40%</td>\n",
              "      <td>3</td>\n",
              "      <td>positiva</td>\n",
              "      <td>18/05/2021 17:57</td>\n",
              "      <td>18/05/2021 18:01</td>\n",
              "      <td>18/05/2021 18:00</td>\n",
              "      <td>229</td>\n",
              "      <td>550</td>\n",
              "      <td>\"CPF -CNPJ CLIENTE NAO CADASTRADO\"</td>\n",
              "    </tr>\n",
              "    <tr>\n",
              "      <th>996</th>\n",
              "      <td>997</td>\n",
              "      <td>AP</td>\n",
              "      <td>0</td>\n",
              "      <td>40%</td>\n",
              "      <td>3</td>\n",
              "      <td>negativa</td>\n",
              "      <td>18/05/2021 17:57</td>\n",
              "      <td>18/05/2021 18:03</td>\n",
              "      <td>18/05/2021 18:02</td>\n",
              "      <td>368</td>\n",
              "      <td>500</td>\n",
              "      <td>\"OPS! NÃO FOI POSSIVEL CONSULTAR O SALDO. TENT...</td>\n",
              "    </tr>\n",
              "    <tr>\n",
              "      <th>997</th>\n",
              "      <td>998</td>\n",
              "      <td>AM</td>\n",
              "      <td>0</td>\n",
              "      <td>60%</td>\n",
              "      <td>2</td>\n",
              "      <td>negativa</td>\n",
              "      <td>18/05/2021 17:57</td>\n",
              "      <td>18/05/2021 17:58</td>\n",
              "      <td>18/05/2021 17:57</td>\n",
              "      <td>78</td>\n",
              "      <td>550</td>\n",
              "      <td>\"NO MOMENTO ESTE SERIVCO ESTA INDISPONIVEL. PO...</td>\n",
              "    </tr>\n",
              "    <tr>\n",
              "      <th>998</th>\n",
              "      <td>999</td>\n",
              "      <td>ES</td>\n",
              "      <td>0</td>\n",
              "      <td>40%</td>\n",
              "      <td>3</td>\n",
              "      <td>negativa</td>\n",
              "      <td>18/05/2021 17:57</td>\n",
              "      <td>18/05/2021 18:00</td>\n",
              "      <td>18/05/2021 17:59</td>\n",
              "      <td>177</td>\n",
              "      <td>500</td>\n",
              "      <td>\"CLIENTE NAO CADASTRADO\"</td>\n",
              "    </tr>\n",
              "    <tr>\n",
              "      <th>999</th>\n",
              "      <td>1000</td>\n",
              "      <td>RO</td>\n",
              "      <td>0</td>\n",
              "      <td>100%</td>\n",
              "      <td>0</td>\n",
              "      <td>negativa</td>\n",
              "      <td>18/05/2021 17:57</td>\n",
              "      <td>18/05/2021 18:01</td>\n",
              "      <td>18/05/2021 18:00</td>\n",
              "      <td>210</td>\n",
              "      <td>550</td>\n",
              "      <td>\"NAO ENCONTROU DADOS PARA A SELECAO\"</td>\n",
              "    </tr>\n",
              "  </tbody>\n",
              "</table>\n",
              "<p>1000 rows × 12 columns</p>\n",
              "</div>\n",
              "    <div class=\"colab-df-buttons\">\n",
              "\n",
              "  <div class=\"colab-df-container\">\n",
              "    <button class=\"colab-df-convert\" onclick=\"convertToInteractive('df-c2458d76-5ee5-4310-9e55-6d42fc640e80')\"\n",
              "            title=\"Convert this dataframe to an interactive table.\"\n",
              "            style=\"display:none;\">\n",
              "\n",
              "  <svg xmlns=\"http://www.w3.org/2000/svg\" height=\"24px\" viewBox=\"0 -960 960 960\">\n",
              "    <path d=\"M120-120v-720h720v720H120Zm60-500h600v-160H180v160Zm220 220h160v-160H400v160Zm0 220h160v-160H400v160ZM180-400h160v-160H180v160Zm440 0h160v-160H620v160ZM180-180h160v-160H180v160Zm440 0h160v-160H620v160Z\"/>\n",
              "  </svg>\n",
              "    </button>\n",
              "\n",
              "  <style>\n",
              "    .colab-df-container {\n",
              "      display:flex;\n",
              "      gap: 12px;\n",
              "    }\n",
              "\n",
              "    .colab-df-convert {\n",
              "      background-color: #E8F0FE;\n",
              "      border: none;\n",
              "      border-radius: 50%;\n",
              "      cursor: pointer;\n",
              "      display: none;\n",
              "      fill: #1967D2;\n",
              "      height: 32px;\n",
              "      padding: 0 0 0 0;\n",
              "      width: 32px;\n",
              "    }\n",
              "\n",
              "    .colab-df-convert:hover {\n",
              "      background-color: #E2EBFA;\n",
              "      box-shadow: 0px 1px 2px rgba(60, 64, 67, 0.3), 0px 1px 3px 1px rgba(60, 64, 67, 0.15);\n",
              "      fill: #174EA6;\n",
              "    }\n",
              "\n",
              "    .colab-df-buttons div {\n",
              "      margin-bottom: 4px;\n",
              "    }\n",
              "\n",
              "    [theme=dark] .colab-df-convert {\n",
              "      background-color: #3B4455;\n",
              "      fill: #D2E3FC;\n",
              "    }\n",
              "\n",
              "    [theme=dark] .colab-df-convert:hover {\n",
              "      background-color: #434B5C;\n",
              "      box-shadow: 0px 1px 3px 1px rgba(0, 0, 0, 0.15);\n",
              "      filter: drop-shadow(0px 1px 2px rgba(0, 0, 0, 0.3));\n",
              "      fill: #FFFFFF;\n",
              "    }\n",
              "  </style>\n",
              "\n",
              "    <script>\n",
              "      const buttonEl =\n",
              "        document.querySelector('#df-c2458d76-5ee5-4310-9e55-6d42fc640e80 button.colab-df-convert');\n",
              "      buttonEl.style.display =\n",
              "        google.colab.kernel.accessAllowed ? 'block' : 'none';\n",
              "\n",
              "      async function convertToInteractive(key) {\n",
              "        const element = document.querySelector('#df-c2458d76-5ee5-4310-9e55-6d42fc640e80');\n",
              "        const dataTable =\n",
              "          await google.colab.kernel.invokeFunction('convertToInteractive',\n",
              "                                                    [key], {});\n",
              "        if (!dataTable) return;\n",
              "\n",
              "        const docLinkHtml = 'Like what you see? Visit the ' +\n",
              "          '<a target=\"_blank\" href=https://colab.research.google.com/notebooks/data_table.ipynb>data table notebook</a>'\n",
              "          + ' to learn more about interactive tables.';\n",
              "        element.innerHTML = '';\n",
              "        dataTable['output_type'] = 'display_data';\n",
              "        await google.colab.output.renderOutput(dataTable, element);\n",
              "        const docLink = document.createElement('div');\n",
              "        docLink.innerHTML = docLinkHtml;\n",
              "        element.appendChild(docLink);\n",
              "      }\n",
              "    </script>\n",
              "  </div>\n",
              "\n",
              "\n",
              "<div id=\"df-30ded6a1-1b92-44f6-b7c3-4a063bb4e69c\">\n",
              "  <button class=\"colab-df-quickchart\" onclick=\"quickchart('df-30ded6a1-1b92-44f6-b7c3-4a063bb4e69c')\"\n",
              "            title=\"Suggest charts\"\n",
              "            style=\"display:none;\">\n",
              "\n",
              "<svg xmlns=\"http://www.w3.org/2000/svg\" height=\"24px\"viewBox=\"0 0 24 24\"\n",
              "     width=\"24px\">\n",
              "    <g>\n",
              "        <path d=\"M19 3H5c-1.1 0-2 .9-2 2v14c0 1.1.9 2 2 2h14c1.1 0 2-.9 2-2V5c0-1.1-.9-2-2-2zM9 17H7v-7h2v7zm4 0h-2V7h2v10zm4 0h-2v-4h2v4z\"/>\n",
              "    </g>\n",
              "</svg>\n",
              "  </button>\n",
              "\n",
              "<style>\n",
              "  .colab-df-quickchart {\n",
              "      --bg-color: #E8F0FE;\n",
              "      --fill-color: #1967D2;\n",
              "      --hover-bg-color: #E2EBFA;\n",
              "      --hover-fill-color: #174EA6;\n",
              "      --disabled-fill-color: #AAA;\n",
              "      --disabled-bg-color: #DDD;\n",
              "  }\n",
              "\n",
              "  [theme=dark] .colab-df-quickchart {\n",
              "      --bg-color: #3B4455;\n",
              "      --fill-color: #D2E3FC;\n",
              "      --hover-bg-color: #434B5C;\n",
              "      --hover-fill-color: #FFFFFF;\n",
              "      --disabled-bg-color: #3B4455;\n",
              "      --disabled-fill-color: #666;\n",
              "  }\n",
              "\n",
              "  .colab-df-quickchart {\n",
              "    background-color: var(--bg-color);\n",
              "    border: none;\n",
              "    border-radius: 50%;\n",
              "    cursor: pointer;\n",
              "    display: none;\n",
              "    fill: var(--fill-color);\n",
              "    height: 32px;\n",
              "    padding: 0;\n",
              "    width: 32px;\n",
              "  }\n",
              "\n",
              "  .colab-df-quickchart:hover {\n",
              "    background-color: var(--hover-bg-color);\n",
              "    box-shadow: 0 1px 2px rgba(60, 64, 67, 0.3), 0 1px 3px 1px rgba(60, 64, 67, 0.15);\n",
              "    fill: var(--button-hover-fill-color);\n",
              "  }\n",
              "\n",
              "  .colab-df-quickchart-complete:disabled,\n",
              "  .colab-df-quickchart-complete:disabled:hover {\n",
              "    background-color: var(--disabled-bg-color);\n",
              "    fill: var(--disabled-fill-color);\n",
              "    box-shadow: none;\n",
              "  }\n",
              "\n",
              "  .colab-df-spinner {\n",
              "    border: 2px solid var(--fill-color);\n",
              "    border-color: transparent;\n",
              "    border-bottom-color: var(--fill-color);\n",
              "    animation:\n",
              "      spin 1s steps(1) infinite;\n",
              "  }\n",
              "\n",
              "  @keyframes spin {\n",
              "    0% {\n",
              "      border-color: transparent;\n",
              "      border-bottom-color: var(--fill-color);\n",
              "      border-left-color: var(--fill-color);\n",
              "    }\n",
              "    20% {\n",
              "      border-color: transparent;\n",
              "      border-left-color: var(--fill-color);\n",
              "      border-top-color: var(--fill-color);\n",
              "    }\n",
              "    30% {\n",
              "      border-color: transparent;\n",
              "      border-left-color: var(--fill-color);\n",
              "      border-top-color: var(--fill-color);\n",
              "      border-right-color: var(--fill-color);\n",
              "    }\n",
              "    40% {\n",
              "      border-color: transparent;\n",
              "      border-right-color: var(--fill-color);\n",
              "      border-top-color: var(--fill-color);\n",
              "    }\n",
              "    60% {\n",
              "      border-color: transparent;\n",
              "      border-right-color: var(--fill-color);\n",
              "    }\n",
              "    80% {\n",
              "      border-color: transparent;\n",
              "      border-right-color: var(--fill-color);\n",
              "      border-bottom-color: var(--fill-color);\n",
              "    }\n",
              "    90% {\n",
              "      border-color: transparent;\n",
              "      border-bottom-color: var(--fill-color);\n",
              "    }\n",
              "  }\n",
              "</style>\n",
              "\n",
              "  <script>\n",
              "    async function quickchart(key) {\n",
              "      const quickchartButtonEl =\n",
              "        document.querySelector('#' + key + ' button');\n",
              "      quickchartButtonEl.disabled = true;  // To prevent multiple clicks.\n",
              "      quickchartButtonEl.classList.add('colab-df-spinner');\n",
              "      try {\n",
              "        const charts = await google.colab.kernel.invokeFunction(\n",
              "            'suggestCharts', [key], {});\n",
              "      } catch (error) {\n",
              "        console.error('Error during call to suggestCharts:', error);\n",
              "      }\n",
              "      quickchartButtonEl.classList.remove('colab-df-spinner');\n",
              "      quickchartButtonEl.classList.add('colab-df-quickchart-complete');\n",
              "    }\n",
              "    (() => {\n",
              "      let quickchartButtonEl =\n",
              "        document.querySelector('#df-30ded6a1-1b92-44f6-b7c3-4a063bb4e69c button');\n",
              "      quickchartButtonEl.style.display =\n",
              "        google.colab.kernel.accessAllowed ? 'block' : 'none';\n",
              "    })();\n",
              "  </script>\n",
              "</div>\n",
              "\n",
              "  <div id=\"id_2e10c14a-b7a1-4225-8a44-739a9e05e314\">\n",
              "    <style>\n",
              "      .colab-df-generate {\n",
              "        background-color: #E8F0FE;\n",
              "        border: none;\n",
              "        border-radius: 50%;\n",
              "        cursor: pointer;\n",
              "        display: none;\n",
              "        fill: #1967D2;\n",
              "        height: 32px;\n",
              "        padding: 0 0 0 0;\n",
              "        width: 32px;\n",
              "      }\n",
              "\n",
              "      .colab-df-generate:hover {\n",
              "        background-color: #E2EBFA;\n",
              "        box-shadow: 0px 1px 2px rgba(60, 64, 67, 0.3), 0px 1px 3px 1px rgba(60, 64, 67, 0.15);\n",
              "        fill: #174EA6;\n",
              "      }\n",
              "\n",
              "      [theme=dark] .colab-df-generate {\n",
              "        background-color: #3B4455;\n",
              "        fill: #D2E3FC;\n",
              "      }\n",
              "\n",
              "      [theme=dark] .colab-df-generate:hover {\n",
              "        background-color: #434B5C;\n",
              "        box-shadow: 0px 1px 3px 1px rgba(0, 0, 0, 0.15);\n",
              "        filter: drop-shadow(0px 1px 2px rgba(0, 0, 0, 0.3));\n",
              "        fill: #FFFFFF;\n",
              "      }\n",
              "    </style>\n",
              "    <button class=\"colab-df-generate\" onclick=\"generateWithVariable('dados_atendimentos')\"\n",
              "            title=\"Generate code using this dataframe.\"\n",
              "            style=\"display:none;\">\n",
              "\n",
              "  <svg xmlns=\"http://www.w3.org/2000/svg\" height=\"24px\"viewBox=\"0 0 24 24\"\n",
              "       width=\"24px\">\n",
              "    <path d=\"M7,19H8.4L18.45,9,17,7.55,7,17.6ZM5,21V16.75L18.45,3.32a2,2,0,0,1,2.83,0l1.4,1.43a1.91,1.91,0,0,1,.58,1.4,1.91,1.91,0,0,1-.58,1.4L9.25,21ZM18.45,9,17,7.55Zm-12,3A5.31,5.31,0,0,0,4.9,8.1,5.31,5.31,0,0,0,1,6.5,5.31,5.31,0,0,0,4.9,4.9,5.31,5.31,0,0,0,6.5,1,5.31,5.31,0,0,0,8.1,4.9,5.31,5.31,0,0,0,12,6.5,5.46,5.46,0,0,0,6.5,12Z\"/>\n",
              "  </svg>\n",
              "    </button>\n",
              "    <script>\n",
              "      (() => {\n",
              "      const buttonEl =\n",
              "        document.querySelector('#id_2e10c14a-b7a1-4225-8a44-739a9e05e314 button.colab-df-generate');\n",
              "      buttonEl.style.display =\n",
              "        google.colab.kernel.accessAllowed ? 'block' : 'none';\n",
              "\n",
              "      buttonEl.onclick = () => {\n",
              "        google.colab.notebook.generateWithVariable('dados_atendimentos');\n",
              "      }\n",
              "      })();\n",
              "    </script>\n",
              "  </div>\n",
              "\n",
              "    </div>\n",
              "  </div>\n"
            ],
            "application/vnd.google.colaboratory.intrinsic+json": {
              "type": "dataframe",
              "variable_name": "dados_atendimentos",
              "summary": "{\n  \"name\": \"dados_atendimentos\",\n  \"rows\": 1000,\n  \"fields\": [\n    {\n      \"column\": \"idEntrada\",\n      \"properties\": {\n        \"dtype\": \"number\",\n        \"std\": 288,\n        \"min\": 1,\n        \"max\": 1000,\n        \"num_unique_values\": 1000,\n        \"samples\": [\n          522,\n          738,\n          741\n        ],\n        \"semantic_type\": \"\",\n        \"description\": \"\"\n      }\n    },\n    {\n      \"column\": \"state\",\n      \"properties\": {\n        \"dtype\": \"category\",\n        \"num_unique_values\": 26,\n        \"samples\": [\n          \"SE\",\n          \"MA\",\n          \"CE\"\n        ],\n        \"semantic_type\": \"\",\n        \"description\": \"\"\n      }\n    },\n    {\n      \"column\": \"usuarioOnline\",\n      \"properties\": {\n        \"dtype\": \"number\",\n        \"std\": 0,\n        \"min\": 0,\n        \"max\": 1,\n        \"num_unique_values\": 2,\n        \"samples\": [\n          0,\n          1\n        ],\n        \"semantic_type\": \"\",\n        \"description\": \"\"\n      }\n    },\n    {\n      \"column\": \"statusSaida\",\n      \"properties\": {\n        \"dtype\": \"category\",\n        \"num_unique_values\": 5,\n        \"samples\": [\n          \"40%\",\n          \"100%\"\n        ],\n        \"semantic_type\": \"\",\n        \"description\": \"\"\n      }\n    },\n    {\n      \"column\": \"paginaSaida\",\n      \"properties\": {\n        \"dtype\": \"number\",\n        \"std\": 1,\n        \"min\": 0,\n        \"max\": 4,\n        \"num_unique_values\": 5,\n        \"samples\": [\n          3,\n          0\n        ],\n        \"semantic_type\": \"\",\n        \"description\": \"\"\n      }\n    },\n    {\n      \"column\": \"avaliacao\",\n      \"properties\": {\n        \"dtype\": \"category\",\n        \"num_unique_values\": 3,\n        \"samples\": [\n          \"positiva\",\n          \"negativa\"\n        ],\n        \"semantic_type\": \"\",\n        \"description\": \"\"\n      }\n    },\n    {\n      \"column\": \"dataHoraEntrada\",\n      \"properties\": {\n        \"dtype\": \"object\",\n        \"num_unique_values\": 1,\n        \"samples\": [\n          \"18/05/2021 17:57\"\n        ],\n        \"semantic_type\": \"\",\n        \"description\": \"\"\n      }\n    },\n    {\n      \"column\": \"dataHoraSaida\",\n      \"properties\": {\n        \"dtype\": \"object\",\n        \"num_unique_values\": 13,\n        \"samples\": [\n          \"18/05/2021 18:06\"\n        ],\n        \"semantic_type\": \"\",\n        \"description\": \"\"\n      }\n    },\n    {\n      \"column\": \"dataHoraErro\",\n      \"properties\": {\n        \"dtype\": \"object\",\n        \"num_unique_values\": 14,\n        \"samples\": [\n          \"18/05/2021 18:07\"\n        ],\n        \"semantic_type\": \"\",\n        \"description\": \"\"\n      }\n    },\n    {\n      \"column\": \"tempoAcesso\",\n      \"properties\": {\n        \"dtype\": \"number\",\n        \"std\": 112,\n        \"min\": 1,\n        \"max\": 629,\n        \"num_unique_values\": 401,\n        \"samples\": [\n          109\n        ],\n        \"semantic_type\": \"\",\n        \"description\": \"\"\n      }\n    },\n    {\n      \"column\": \"codigo\",\n      \"properties\": {\n        \"dtype\": \"number\",\n        \"std\": 24,\n        \"min\": 500,\n        \"max\": 550,\n        \"num_unique_values\": 2,\n        \"samples\": [\n          500\n        ],\n        \"semantic_type\": \"\",\n        \"description\": \"\"\n      }\n    },\n    {\n      \"column\": \"erro\",\n      \"properties\": {\n        \"dtype\": \"category\",\n        \"num_unique_values\": 12,\n        \"samples\": [\n          \"\\\"CHAVE PIX INCORRETA\\\"\"\n        ],\n        \"semantic_type\": \"\",\n        \"description\": \"\"\n      }\n    }\n  ]\n}"
            }
          },
          "metadata": {},
          "execution_count": 12
        }
      ]
    },
    {
      "cell_type": "code",
      "source": [
        "plt.hist(dados_atendimentos['tempoAcesso'], alpha = 0.95, rwidth = 0.6)\n",
        "plt.xlabel('Tempo de Acesso')\n",
        "plt.ylabel('Distribuição')"
      ],
      "metadata": {
        "id": "NBicF2rBKdgq",
        "outputId": "b535c944-974f-4530-e2f6-0d842861199b",
        "colab": {
          "base_uri": "https://localhost:8080/",
          "height": 467
        }
      },
      "execution_count": null,
      "outputs": [
        {
          "output_type": "execute_result",
          "data": {
            "text/plain": [
              "Text(0, 0.5, 'Distribuição')"
            ]
          },
          "metadata": {},
          "execution_count": 13
        },
        {
          "output_type": "display_data",
          "data": {
            "text/plain": [
              "<Figure size 640x480 with 1 Axes>"
            ],
            "image/png": "[encoded data removed]"
          },
          "metadata": {}
        }
      ]
    },
    {
      "cell_type": "markdown",
      "source": [
        "A distribuição que mais se assemelha ao gráfico é a distribuição binomial"
      ],
      "metadata": {
        "id": "4ryzO3ClL8Fs"
      }
    },
    {
      "cell_type": "markdown",
      "source": [
        "B) Gini"
      ],
      "metadata": {
        "id": "2A0LCELWJZbX"
      }
    },
    {
      "cell_type": "code",
      "source": [
        "plt.hist(dados_atendimentos_com_gini['Indice de Gini'], alpha = 0.98, rwidth = 0.6)\n",
        "plt.xlabel('Indice de Gini')\n",
        "plt.ylabel('Distribuição')"
      ],
      "metadata": {
        "id": "tz2ukx8SLnP4",
        "outputId": "a93220b8-0b44-41e9-deca-9df7d0abbdfa",
        "colab": {
          "base_uri": "https://localhost:8080/",
          "height": 467
        }
      },
      "execution_count": null,
      "outputs": [
        {
          "output_type": "execute_result",
          "data": {
            "text/plain": [
              "Text(0, 0.5, 'Distribuição')"
            ]
          },
          "metadata": {},
          "execution_count": 14
        },
        {
          "output_type": "display_data",
          "data": {
            "text/plain": [
              "<Figure size 640x480 with 1 Axes>"
            ],
            "image/png": "[encoded data removed]"
          },
          "metadata": {}
        }
      ]
    },
    {
      "cell_type": "markdown",
      "source": [
        "Mais se assemelha à distribuição exponencial."
      ],
      "metadata": {
        "id": "y3FvSTy4Dh4C"
      }
    },
    {
      "cell_type": "markdown",
      "source": [
        "4 – Assumindo que TempoAcesso (em segundos) e Gini tendem a seguir uma distribuição de\n",
        "NORMAL. Obtenha as seguintes probabilidades:\n"
      ],
      "metadata": {
        "id": "pOUWQzzqJOv8"
      }
    },
    {
      "cell_type": "markdown",
      "source": [
        "A) P(Tempo Acesso > 2 minutos)"
      ],
      "metadata": {
        "id": "QIFZjlvTJodi"
      }
    },
    {
      "cell_type": "code",
      "source": [
        "media = dados_atendimentos_com_gini['tempoAcesso'].mean()\n",
        "desvio_padrao = dados_atendimentos_com_gini['tempoAcesso'].std()\n",
        "print(\"Média do Tempo de Acesso:\", media)\n",
        "print(\"Desvio Padrão do Tempo de Acesso:\", desvio_padrao)\n"
      ],
      "metadata": {
        "colab": {
          "base_uri": "https://localhost:8080/"
        },
        "id": "dGg7pGMzAp7P",
        "outputId": "be995c23-1412-45eb-a669-6bc73c725beb"
      },
      "execution_count": null,
      "outputs": [
        {
          "output_type": "stream",
          "name": "stdout",
          "text": [
            "Média do Tempo de Acesso: 246.371\n",
            "Desvio Padrão do Tempo de Acesso: 112.7615649480333\n"
          ]
        }
      ]
    },
    {
      "cell_type": "code",
      "source": [],
      "metadata": {
        "id": "bFVgUwWzaj2W"
      },
      "execution_count": null,
      "outputs": []
    },
    {
      "cell_type": "code",
      "source": [
        "from scipy.stats import norm\n",
        "\n",
        "probabilidade = 1 - norm.cdf(120, media, desvio_padrao)\n",
        "print(\"Probabilidade de TempoAcesso > 2 minutos:\", probabilidade)\n"
      ],
      "metadata": {
        "colab": {
          "base_uri": "https://localhost:8080/"
        },
        "id": "AkGHNhyjG83J",
        "outputId": "f72631e5-33bf-4b57-f9c8-453fca094e03"
      },
      "execution_count": null,
      "outputs": [
        {
          "output_type": "stream",
          "name": "stdout",
          "text": [
            "Probabilidade de TempoAcesso > 2 minutos: 0.8687905363637898\n"
          ]
        }
      ]
    },
    {
      "cell_type": "markdown",
      "source": [
        "b) P(1,5 minutos > Tempo Acesso > 2 minutos)"
      ],
      "metadata": {
        "id": "fufUFwjTKMcD"
      }
    },
    {
      "cell_type": "code",
      "source": [
        "probabilidade_entre_90_120 = norm.cdf(120, media, desvio_padrao) - norm.cdf(90, media, desvio_padrao)\n",
        "print(\"Probabilidade de TempoAcesso entre 1,5 minuto e 2 minutos:\", probabilidade_entre_90_120)\n"
      ],
      "metadata": {
        "colab": {
          "base_uri": "https://localhost:8080/"
        },
        "id": "dvee51PLHrjZ",
        "outputId": "ed965bf1-a4dd-4cd3-99f5-68fc36a472f4"
      },
      "execution_count": null,
      "outputs": [
        {
          "output_type": "stream",
          "name": "stdout",
          "text": [
            "Probabilidade de TempoAcesso entre 90 e 120: 0.04844897137630427\n"
          ]
        }
      ]
    },
    {
      "cell_type": "markdown",
      "source": [
        "c) P( Tempo Acesso < 0,5 minuto)"
      ],
      "metadata": {
        "id": "bfbJvnaaKNlL"
      }
    },
    {
      "cell_type": "code",
      "source": [
        "probabilidade_menor_30 = norm.cdf(30, media, desvio_padrao)\n",
        "print(\"Probabilidade de TempoAcesso < 0,5 minuto:\", probabilidade_menor_30)\n"
      ],
      "metadata": {
        "colab": {
          "base_uri": "https://localhost:8080/"
        },
        "id": "YvSbKhnnHezB",
        "outputId": "6b3f5919-442a-4b36-d948-5c1f14c4571b"
      },
      "execution_count": null,
      "outputs": [
        {
          "output_type": "stream",
          "name": "stdout",
          "text": [
            "Probabilidade de TempoAcesso < 30: 0.027502518200551704\n"
          ]
        }
      ]
    },
    {
      "cell_type": "markdown",
      "source": [
        "d) P(Gini > 20%)"
      ],
      "metadata": {
        "id": "Ool1PyiLKNbT"
      }
    },
    {
      "cell_type": "code",
      "source": [
        "probabilidade_gini_maior_20 = norm.cdf(0.2, dados_atendimentos_com_gini['Indice de Gini'].mean(), dados_atendimentos_com_gini['Indice de Gini'].std())\n",
        "print(\"Probabilidade de Indice de Gini > 20%:\", probabilidade_gini_maior_20)\n"
      ],
      "metadata": {
        "colab": {
          "base_uri": "https://localhost:8080/"
        },
        "id": "EZJabJLjHsKo",
        "outputId": "7b8922f7-4812-43dc-bbd6-753752b50a14"
      },
      "execution_count": null,
      "outputs": [
        {
          "output_type": "stream",
          "name": "stdout",
          "text": [
            "Probabilidade de Indice de Gini > 20%: 0.9381829798147041\n"
          ]
        }
      ]
    },
    {
      "cell_type": "markdown",
      "source": [
        "e) P(10% > Gini > 15%)"
      ],
      "metadata": {
        "id": "hcJguasrKNSa"
      }
    },
    {
      "cell_type": "code",
      "source": [
        "probabilidade_gini_10_15 = norm.cdf(0.15, dados_atendimentos_com_gini['Indice de Gini'].mean(), dados_atendimentos_com_gini['Indice de Gini'].std()) - norm.cdf(0.1, dados_atendimentos_com_gini['Indice de Gini'].mean(), dados_atendimentos_com_gini['Indice de Gini'].std())\n",
        "print(\"Probabilidade de Indice de Gini entre 10% e 15%:\", probabilidade_gini_10_15)\n"
      ],
      "metadata": {
        "colab": {
          "base_uri": "https://localhost:8080/"
        },
        "id": "Xdq_TfINHsd_",
        "outputId": "21316f1c-c0b5-4a7a-b16f-d8e7d51d835e"
      },
      "execution_count": null,
      "outputs": [
        {
          "output_type": "stream",
          "name": "stdout",
          "text": [
            "Probabilidade de Indice de Gini entre 10% e 15%: 0.365448339380282\n"
          ]
        }
      ]
    },
    {
      "cell_type": "markdown",
      "source": [
        "f) P( Gini < 12%)"
      ],
      "metadata": {
        "id": "-eoCqqldJrmi"
      }
    },
    {
      "cell_type": "code",
      "source": [
        "probabilidade_gini_menor_12 = norm.cdf(0.12, dados_atendimentos_com_gini['Indice de Gini'].mean(), dados_atendimentos_com_gini['Indice de Gini'].std())\n",
        "print(\"Probabilidade de Indice de Gini < 12%:\", probabilidade_gini_menor_12)\n"
      ],
      "metadata": {
        "colab": {
          "base_uri": "https://localhost:8080/"
        },
        "id": "TV7NL4ZSHs13",
        "outputId": "d9ba4646-1e90-436d-bb5d-23a1dccdad6f"
      },
      "execution_count": null,
      "outputs": [
        {
          "output_type": "stream",
          "name": "stdout",
          "text": [
            "Probabilidade de Indice de Gini < 12%: 0.07982991901346398\n"
          ]
        }
      ]
    },
    {
      "cell_type": "markdown",
      "source": [
        "5 – Baseando-se na variável TempoAcesso, qual o tamanho de amostra para realizar um estudo\n",
        "com estes dados? Utilizar margem de erro de 15 segundos e nível de confiança de 95%."
      ],
      "metadata": {
        "id": "pZkJecQHK1xq"
      }
    },
    {
      "cell_type": "code",
      "source": [
        "tamanho_amostra = dados_atendimentos.agg(media_tempoAcesso = pd.NamedAgg('tempoAcesso', 'mean'),\n",
        "                                   dp_tempoAcesso = pd.NamedAgg('tempoAcesso', 'std'),\n",
        "                               N = pd.NamedAgg('tempoAcesso', 'count'))"
      ],
      "metadata": {
        "id": "6Js32XB0DO_Z"
      },
      "execution_count": null,
      "outputs": []
    },
    {
      "cell_type": "code",
      "source": [
        "tamanho_amostra"
      ],
      "metadata": {
        "id": "Y-wUbDBbg9ws",
        "outputId": "514a7cf2-8cff-41b5-a070-7e9746b03b47",
        "colab": {
          "base_uri": "https://localhost:8080/",
          "height": 143
        }
      },
      "execution_count": null,
      "outputs": [
        {
          "output_type": "execute_result",
          "data": {
            "text/plain": [
              "                   tempoAcesso\n",
              "media_tempoAcesso   246.371000\n",
              "dp_tempoAcesso      112.761565\n",
              "N                  1000.000000"
            ],
            "text/html": [
              "\n",
              "  <div id=\"df-26f182b8-30e8-443b-95cc-2216838e0cd3\" class=\"colab-df-container\">\n",
              "    <div>\n",
              "<style scoped>\n",
              "    .dataframe tbody tr th:only-of-type {\n",
              "        vertical-align: middle;\n",
              "    }\n",
              "\n",
              "    .dataframe tbody tr th {\n",
              "        vertical-align: top;\n",
              "    }\n",
              "\n",
              "    .dataframe thead th {\n",
              "        text-align: right;\n",
              "    }\n",
              "</style>\n",
              "<table border=\"1\" class=\"dataframe\">\n",
              "  <thead>\n",
              "    <tr style=\"text-align: right;\">\n",
              "      <th></th>\n",
              "      <th>tempoAcesso</th>\n",
              "    </tr>\n",
              "  </thead>\n",
              "  <tbody>\n",
              "    <tr>\n",
              "      <th>media_tempoAcesso</th>\n",
              "      <td>246.371000</td>\n",
              "    </tr>\n",
              "    <tr>\n",
              "      <th>dp_tempoAcesso</th>\n",
              "      <td>112.761565</td>\n",
              "    </tr>\n",
              "    <tr>\n",
              "      <th>N</th>\n",
              "      <td>1000.000000</td>\n",
              "    </tr>\n",
              "  </tbody>\n",
              "</table>\n",
              "</div>\n",
              "    <div class=\"colab-df-buttons\">\n",
              "\n",
              "  <div class=\"colab-df-container\">\n",
              "    <button class=\"colab-df-convert\" onclick=\"convertToInteractive('df-26f182b8-30e8-443b-95cc-2216838e0cd3')\"\n",
              "            title=\"Convert this dataframe to an interactive table.\"\n",
              "            style=\"display:none;\">\n",
              "\n",
              "  <svg xmlns=\"http://www.w3.org/2000/svg\" height=\"24px\" viewBox=\"0 -960 960 960\">\n",
              "    <path d=\"M120-120v-720h720v720H120Zm60-500h600v-160H180v160Zm220 220h160v-160H400v160Zm0 220h160v-160H400v160ZM180-400h160v-160H180v160Zm440 0h160v-160H620v160ZM180-180h160v-160H180v160Zm440 0h160v-160H620v160Z\"/>\n",
              "  </svg>\n",
              "    </button>\n",
              "\n",
              "  <style>\n",
              "    .colab-df-container {\n",
              "      display:flex;\n",
              "      gap: 12px;\n",
              "    }\n",
              "\n",
              "    .colab-df-convert {\n",
              "      background-color: #E8F0FE;\n",
              "      border: none;\n",
              "      border-radius: 50%;\n",
              "      cursor: pointer;\n",
              "      display: none;\n",
              "      fill: #1967D2;\n",
              "      height: 32px;\n",
              "      padding: 0 0 0 0;\n",
              "      width: 32px;\n",
              "    }\n",
              "\n",
              "    .colab-df-convert:hover {\n",
              "      background-color: #E2EBFA;\n",
              "      box-shadow: 0px 1px 2px rgba(60, 64, 67, 0.3), 0px 1px 3px 1px rgba(60, 64, 67, 0.15);\n",
              "      fill: #174EA6;\n",
              "    }\n",
              "\n",
              "    .colab-df-buttons div {\n",
              "      margin-bottom: 4px;\n",
              "    }\n",
              "\n",
              "    [theme=dark] .colab-df-convert {\n",
              "      background-color: #3B4455;\n",
              "      fill: #D2E3FC;\n",
              "    }\n",
              "\n",
              "    [theme=dark] .colab-df-convert:hover {\n",
              "      background-color: #434B5C;\n",
              "      box-shadow: 0px 1px 3px 1px rgba(0, 0, 0, 0.15);\n",
              "      filter: drop-shadow(0px 1px 2px rgba(0, 0, 0, 0.3));\n",
              "      fill: #FFFFFF;\n",
              "    }\n",
              "  </style>\n",
              "\n",
              "    <script>\n",
              "      const buttonEl =\n",
              "        document.querySelector('#df-26f182b8-30e8-443b-95cc-2216838e0cd3 button.colab-df-convert');\n",
              "      buttonEl.style.display =\n",
              "        google.colab.kernel.accessAllowed ? 'block' : 'none';\n",
              "\n",
              "      async function convertToInteractive(key) {\n",
              "        const element = document.querySelector('#df-26f182b8-30e8-443b-95cc-2216838e0cd3');\n",
              "        const dataTable =\n",
              "          await google.colab.kernel.invokeFunction('convertToInteractive',\n",
              "                                                    [key], {});\n",
              "        if (!dataTable) return;\n",
              "\n",
              "        const docLinkHtml = 'Like what you see? Visit the ' +\n",
              "          '<a target=\"_blank\" href=https://colab.research.google.com/notebooks/data_table.ipynb>data table notebook</a>'\n",
              "          + ' to learn more about interactive tables.';\n",
              "        element.innerHTML = '';\n",
              "        dataTable['output_type'] = 'display_data';\n",
              "        await google.colab.output.renderOutput(dataTable, element);\n",
              "        const docLink = document.createElement('div');\n",
              "        docLink.innerHTML = docLinkHtml;\n",
              "        element.appendChild(docLink);\n",
              "      }\n",
              "    </script>\n",
              "  </div>\n",
              "\n",
              "\n",
              "<div id=\"df-f23ddd9d-9efd-4527-889a-ebf55e8c78c6\">\n",
              "  <button class=\"colab-df-quickchart\" onclick=\"quickchart('df-f23ddd9d-9efd-4527-889a-ebf55e8c78c6')\"\n",
              "            title=\"Suggest charts\"\n",
              "            style=\"display:none;\">\n",
              "\n",
              "<svg xmlns=\"http://www.w3.org/2000/svg\" height=\"24px\"viewBox=\"0 0 24 24\"\n",
              "     width=\"24px\">\n",
              "    <g>\n",
              "        <path d=\"M19 3H5c-1.1 0-2 .9-2 2v14c0 1.1.9 2 2 2h14c1.1 0 2-.9 2-2V5c0-1.1-.9-2-2-2zM9 17H7v-7h2v7zm4 0h-2V7h2v10zm4 0h-2v-4h2v4z\"/>\n",
              "    </g>\n",
              "</svg>\n",
              "  </button>\n",
              "\n",
              "<style>\n",
              "  .colab-df-quickchart {\n",
              "      --bg-color: #E8F0FE;\n",
              "      --fill-color: #1967D2;\n",
              "      --hover-bg-color: #E2EBFA;\n",
              "      --hover-fill-color: #174EA6;\n",
              "      --disabled-fill-color: #AAA;\n",
              "      --disabled-bg-color: #DDD;\n",
              "  }\n",
              "\n",
              "  [theme=dark] .colab-df-quickchart {\n",
              "      --bg-color: #3B4455;\n",
              "      --fill-color: #D2E3FC;\n",
              "      --hover-bg-color: #434B5C;\n",
              "      --hover-fill-color: #FFFFFF;\n",
              "      --disabled-bg-color: #3B4455;\n",
              "      --disabled-fill-color: #666;\n",
              "  }\n",
              "\n",
              "  .colab-df-quickchart {\n",
              "    background-color: var(--bg-color);\n",
              "    border: none;\n",
              "    border-radius: 50%;\n",
              "    cursor: pointer;\n",
              "    display: none;\n",
              "    fill: var(--fill-color);\n",
              "    height: 32px;\n",
              "    padding: 0;\n",
              "    width: 32px;\n",
              "  }\n",
              "\n",
              "  .colab-df-quickchart:hover {\n",
              "    background-color: var(--hover-bg-color);\n",
              "    box-shadow: 0 1px 2px rgba(60, 64, 67, 0.3), 0 1px 3px 1px rgba(60, 64, 67, 0.15);\n",
              "    fill: var(--button-hover-fill-color);\n",
              "  }\n",
              "\n",
              "  .colab-df-quickchart-complete:disabled,\n",
              "  .colab-df-quickchart-complete:disabled:hover {\n",
              "    background-color: var(--disabled-bg-color);\n",
              "    fill: var(--disabled-fill-color);\n",
              "    box-shadow: none;\n",
              "  }\n",
              "\n",
              "  .colab-df-spinner {\n",
              "    border: 2px solid var(--fill-color);\n",
              "    border-color: transparent;\n",
              "    border-bottom-color: var(--fill-color);\n",
              "    animation:\n",
              "      spin 1s steps(1) infinite;\n",
              "  }\n",
              "\n",
              "  @keyframes spin {\n",
              "    0% {\n",
              "      border-color: transparent;\n",
              "      border-bottom-color: var(--fill-color);\n",
              "      border-left-color: var(--fill-color);\n",
              "    }\n",
              "    20% {\n",
              "      border-color: transparent;\n",
              "      border-left-color: var(--fill-color);\n",
              "      border-top-color: var(--fill-color);\n",
              "    }\n",
              "    30% {\n",
              "      border-color: transparent;\n",
              "      border-left-color: var(--fill-color);\n",
              "      border-top-color: var(--fill-color);\n",
              "      border-right-color: var(--fill-color);\n",
              "    }\n",
              "    40% {\n",
              "      border-color: transparent;\n",
              "      border-right-color: var(--fill-color);\n",
              "      border-top-color: var(--fill-color);\n",
              "    }\n",
              "    60% {\n",
              "      border-color: transparent;\n",
              "      border-right-color: var(--fill-color);\n",
              "    }\n",
              "    80% {\n",
              "      border-color: transparent;\n",
              "      border-right-color: var(--fill-color);\n",
              "      border-bottom-color: var(--fill-color);\n",
              "    }\n",
              "    90% {\n",
              "      border-color: transparent;\n",
              "      border-bottom-color: var(--fill-color);\n",
              "    }\n",
              "  }\n",
              "</style>\n",
              "\n",
              "  <script>\n",
              "    async function quickchart(key) {\n",
              "      const quickchartButtonEl =\n",
              "        document.querySelector('#' + key + ' button');\n",
              "      quickchartButtonEl.disabled = true;  // To prevent multiple clicks.\n",
              "      quickchartButtonEl.classList.add('colab-df-spinner');\n",
              "      try {\n",
              "        const charts = await google.colab.kernel.invokeFunction(\n",
              "            'suggestCharts', [key], {});\n",
              "      } catch (error) {\n",
              "        console.error('Error during call to suggestCharts:', error);\n",
              "      }\n",
              "      quickchartButtonEl.classList.remove('colab-df-spinner');\n",
              "      quickchartButtonEl.classList.add('colab-df-quickchart-complete');\n",
              "    }\n",
              "    (() => {\n",
              "      let quickchartButtonEl =\n",
              "        document.querySelector('#df-f23ddd9d-9efd-4527-889a-ebf55e8c78c6 button');\n",
              "      quickchartButtonEl.style.display =\n",
              "        google.colab.kernel.accessAllowed ? 'block' : 'none';\n",
              "    })();\n",
              "  </script>\n",
              "</div>\n",
              "\n",
              "  <div id=\"id_84861cb7-1b02-4ddd-b41b-76b91b0b210c\">\n",
              "    <style>\n",
              "      .colab-df-generate {\n",
              "        background-color: #E8F0FE;\n",
              "        border: none;\n",
              "        border-radius: 50%;\n",
              "        cursor: pointer;\n",
              "        display: none;\n",
              "        fill: #1967D2;\n",
              "        height: 32px;\n",
              "        padding: 0 0 0 0;\n",
              "        width: 32px;\n",
              "      }\n",
              "\n",
              "      .colab-df-generate:hover {\n",
              "        background-color: #E2EBFA;\n",
              "        box-shadow: 0px 1px 2px rgba(60, 64, 67, 0.3), 0px 1px 3px 1px rgba(60, 64, 67, 0.15);\n",
              "        fill: #174EA6;\n",
              "      }\n",
              "\n",
              "      [theme=dark] .colab-df-generate {\n",
              "        background-color: #3B4455;\n",
              "        fill: #D2E3FC;\n",
              "      }\n",
              "\n",
              "      [theme=dark] .colab-df-generate:hover {\n",
              "        background-color: #434B5C;\n",
              "        box-shadow: 0px 1px 3px 1px rgba(0, 0, 0, 0.15);\n",
              "        filter: drop-shadow(0px 1px 2px rgba(0, 0, 0, 0.3));\n",
              "        fill: #FFFFFF;\n",
              "      }\n",
              "    </style>\n",
              "    <button class=\"colab-df-generate\" onclick=\"generateWithVariable('tamanho_amostra')\"\n",
              "            title=\"Generate code using this dataframe.\"\n",
              "            style=\"display:none;\">\n",
              "\n",
              "  <svg xmlns=\"http://www.w3.org/2000/svg\" height=\"24px\"viewBox=\"0 0 24 24\"\n",
              "       width=\"24px\">\n",
              "    <path d=\"M7,19H8.4L18.45,9,17,7.55,7,17.6ZM5,21V16.75L18.45,3.32a2,2,0,0,1,2.83,0l1.4,1.43a1.91,1.91,0,0,1,.58,1.4,1.91,1.91,0,0,1-.58,1.4L9.25,21ZM18.45,9,17,7.55Zm-12,3A5.31,5.31,0,0,0,4.9,8.1,5.31,5.31,0,0,0,1,6.5,5.31,5.31,0,0,0,4.9,4.9,5.31,5.31,0,0,0,6.5,1,5.31,5.31,0,0,0,8.1,4.9,5.31,5.31,0,0,0,12,6.5,5.46,5.46,0,0,0,6.5,12Z\"/>\n",
              "  </svg>\n",
              "    </button>\n",
              "    <script>\n",
              "      (() => {\n",
              "      const buttonEl =\n",
              "        document.querySelector('#id_84861cb7-1b02-4ddd-b41b-76b91b0b210c button.colab-df-generate');\n",
              "      buttonEl.style.display =\n",
              "        google.colab.kernel.accessAllowed ? 'block' : 'none';\n",
              "\n",
              "      buttonEl.onclick = () => {\n",
              "        google.colab.notebook.generateWithVariable('tamanho_amostra');\n",
              "      }\n",
              "      })();\n",
              "    </script>\n",
              "  </div>\n",
              "\n",
              "    </div>\n",
              "  </div>\n"
            ],
            "application/vnd.google.colaboratory.intrinsic+json": {
              "type": "dataframe",
              "variable_name": "tamanho_amostra",
              "summary": "{\n  \"name\": \"tamanho_amostra\",\n  \"rows\": 3,\n  \"fields\": [\n    {\n      \"column\": \"tempoAcesso\",\n      \"properties\": {\n        \"dtype\": \"number\",\n        \"std\": 478.3653052165204,\n        \"min\": 112.7615649480333,\n        \"max\": 1000.0,\n        \"num_unique_values\": 3,\n        \"samples\": [\n          246.371,\n          112.7615649480333,\n          1000.0\n        ],\n        \"semantic_type\": \"\",\n        \"description\": \"\"\n      }\n    }\n  ]\n}"
            }
          },
          "metadata": {},
          "execution_count": 17
        }
      ]
    },
    {
      "cell_type": "code",
      "source": [
        "def formula_amostra_continua(N, S, Z, ME):\n",
        "  n = (Z**2 * S**2 * N) / ((ME**2 * (N-1)) + (Z**2 * S**2))\n",
        "  return int(n)"
      ],
      "metadata": {
        "id": "00h7oVKuhHcE"
      },
      "execution_count": null,
      "outputs": []
    },
    {
      "cell_type": "code",
      "source": [
        "N = 1000 #dados_atendimentos.shape[0] #População\n",
        "Z = 1.96 #Nivel de confiança adotado\n",
        "S = 112 #Desvio padrão da variável TempoAcesso\n",
        "ME = 15 #Margem de erro"
      ],
      "metadata": {
        "id": "cfqdIiIehH8r"
      },
      "execution_count": null,
      "outputs": []
    },
    {
      "cell_type": "code",
      "source": [
        "n = formula_amostra_continua(N, S, Z, ME)\n",
        "n"
      ],
      "metadata": {
        "id": "Wx9HsqFohKGT",
        "outputId": "aa1d53a4-179f-40a3-e978-94a89efb9bd4",
        "colab": {
          "base_uri": "https://localhost:8080/"
        }
      },
      "execution_count": null,
      "outputs": [
        {
          "output_type": "execute_result",
          "data": {
            "text/plain": [
              "176"
            ]
          },
          "metadata": {},
          "execution_count": 20
        }
      ]
    },
    {
      "cell_type": "markdown",
      "source": [
        "6 – Após obter o tamanho de amostra, gerar dois novos dataframes conforme o seguinte:"
      ],
      "metadata": {
        "id": "3BZhz5PqK5qs"
      }
    },
    {
      "cell_type": "markdown",
      "source": [
        "a) Criar um dataframe chamado df_aas usando amostra aleatória simples."
      ],
      "metadata": {
        "id": "QgAFNnywLAvb"
      }
    },
    {
      "cell_type": "code",
      "source": [
        "df_aas = dados_atendimentos_com_gini.sample(n=n, random_state=1245)"
      ],
      "metadata": {
        "id": "dgegJcc7pDw_"
      },
      "execution_count": null,
      "outputs": []
    },
    {
      "cell_type": "code",
      "source": [
        "df_aas.head()"
      ],
      "metadata": {
        "colab": {
          "base_uri": "https://localhost:8080/",
          "height": 362
        },
        "id": "KVzQ3oidpwFF",
        "outputId": "67117f72-39c5-45dc-cde7-fa5b605854e9"
      },
      "execution_count": null,
      "outputs": [
        {
          "output_type": "execute_result",
          "data": {
            "text/plain": [
              "     idEntrada state  usuarioOnline statusSaida  paginaSaida    avaliacao  \\\n",
              "376        377    PR              0         40%            3  n/ avaliado   \n",
              "761        762    PI              1         80%            1     positiva   \n",
              "70          71    MG              0         40%            3     negativa   \n",
              "942        943    AM              0         60%            2     positiva   \n",
              "558        559    RO              0         60%            2     positiva   \n",
              "\n",
              "      dataHoraEntrada     dataHoraSaida      dataHoraErro  tempoAcesso  \\\n",
              "376  18/05/2021 17:57  18/05/2021 17:59  18/05/2021 17:59          120   \n",
              "761  18/05/2021 17:57  18/05/2021 18:02  18/05/2021 18:02          314   \n",
              "70   18/05/2021 17:57  18/05/2021 18:00  18/05/2021 17:59          181   \n",
              "942  18/05/2021 17:57  18/05/2021 17:58  18/05/2021 17:56           38   \n",
              "558  18/05/2021 17:57  18/05/2021 18:01  18/05/2021 18:00          216   \n",
              "\n",
              "     codigo                                               erro  Indice de Gini  \n",
              "376     500                            \"INTERNAL SERVER ERROR\"        0.131235  \n",
              "761     550  \"NO MOMENTO ESTE SERIVCO ESTA INDISPONIVEL. PO...        0.149203  \n",
              "70      500  \"DESCULPE TIVEMOS UM PROBLEMA E NAO CONSEGUIMO...        0.192143  \n",
              "942     500                            \"INTERNAL SERVER ERROR\"        0.180262  \n",
              "558     550  \"NO MOMENTO ESTE SERIVCO ESTA INDISPONIVEL. PO...        0.127922  "
            ],
            "text/html": [
              "\n",
              "  <div id=\"df-b4e9d2dd-47fe-4636-8636-f707332bb0bb\" class=\"colab-df-container\">\n",
              "    <div>\n",
              "<style scoped>\n",
              "    .dataframe tbody tr th:only-of-type {\n",
              "        vertical-align: middle;\n",
              "    }\n",
              "\n",
              "    .dataframe tbody tr th {\n",
              "        vertical-align: top;\n",
              "    }\n",
              "\n",
              "    .dataframe thead th {\n",
              "        text-align: right;\n",
              "    }\n",
              "</style>\n",
              "<table border=\"1\" class=\"dataframe\">\n",
              "  <thead>\n",
              "    <tr style=\"text-align: right;\">\n",
              "      <th></th>\n",
              "      <th>idEntrada</th>\n",
              "      <th>state</th>\n",
              "      <th>usuarioOnline</th>\n",
              "      <th>statusSaida</th>\n",
              "      <th>paginaSaida</th>\n",
              "      <th>avaliacao</th>\n",
              "      <th>dataHoraEntrada</th>\n",
              "      <th>dataHoraSaida</th>\n",
              "      <th>dataHoraErro</th>\n",
              "      <th>tempoAcesso</th>\n",
              "      <th>codigo</th>\n",
              "      <th>erro</th>\n",
              "      <th>Indice de Gini</th>\n",
              "    </tr>\n",
              "  </thead>\n",
              "  <tbody>\n",
              "    <tr>\n",
              "      <th>376</th>\n",
              "      <td>377</td>\n",
              "      <td>PR</td>\n",
              "      <td>0</td>\n",
              "      <td>40%</td>\n",
              "      <td>3</td>\n",
              "      <td>n/ avaliado</td>\n",
              "      <td>18/05/2021 17:57</td>\n",
              "      <td>18/05/2021 17:59</td>\n",
              "      <td>18/05/2021 17:59</td>\n",
              "      <td>120</td>\n",
              "      <td>500</td>\n",
              "      <td>\"INTERNAL SERVER ERROR\"</td>\n",
              "      <td>0.131235</td>\n",
              "    </tr>\n",
              "    <tr>\n",
              "      <th>761</th>\n",
              "      <td>762</td>\n",
              "      <td>PI</td>\n",
              "      <td>1</td>\n",
              "      <td>80%</td>\n",
              "      <td>1</td>\n",
              "      <td>positiva</td>\n",
              "      <td>18/05/2021 17:57</td>\n",
              "      <td>18/05/2021 18:02</td>\n",
              "      <td>18/05/2021 18:02</td>\n",
              "      <td>314</td>\n",
              "      <td>550</td>\n",
              "      <td>\"NO MOMENTO ESTE SERIVCO ESTA INDISPONIVEL. PO...</td>\n",
              "      <td>0.149203</td>\n",
              "    </tr>\n",
              "    <tr>\n",
              "      <th>70</th>\n",
              "      <td>71</td>\n",
              "      <td>MG</td>\n",
              "      <td>0</td>\n",
              "      <td>40%</td>\n",
              "      <td>3</td>\n",
              "      <td>negativa</td>\n",
              "      <td>18/05/2021 17:57</td>\n",
              "      <td>18/05/2021 18:00</td>\n",
              "      <td>18/05/2021 17:59</td>\n",
              "      <td>181</td>\n",
              "      <td>500</td>\n",
              "      <td>\"DESCULPE TIVEMOS UM PROBLEMA E NAO CONSEGUIMO...</td>\n",
              "      <td>0.192143</td>\n",
              "    </tr>\n",
              "    <tr>\n",
              "      <th>942</th>\n",
              "      <td>943</td>\n",
              "      <td>AM</td>\n",
              "      <td>0</td>\n",
              "      <td>60%</td>\n",
              "      <td>2</td>\n",
              "      <td>positiva</td>\n",
              "      <td>18/05/2021 17:57</td>\n",
              "      <td>18/05/2021 17:58</td>\n",
              "      <td>18/05/2021 17:56</td>\n",
              "      <td>38</td>\n",
              "      <td>500</td>\n",
              "      <td>\"INTERNAL SERVER ERROR\"</td>\n",
              "      <td>0.180262</td>\n",
              "    </tr>\n",
              "    <tr>\n",
              "      <th>558</th>\n",
              "      <td>559</td>\n",
              "      <td>RO</td>\n",
              "      <td>0</td>\n",
              "      <td>60%</td>\n",
              "      <td>2</td>\n",
              "      <td>positiva</td>\n",
              "      <td>18/05/2021 17:57</td>\n",
              "      <td>18/05/2021 18:01</td>\n",
              "      <td>18/05/2021 18:00</td>\n",
              "      <td>216</td>\n",
              "      <td>550</td>\n",
              "      <td>\"NO MOMENTO ESTE SERIVCO ESTA INDISPONIVEL. PO...</td>\n",
              "      <td>0.127922</td>\n",
              "    </tr>\n",
              "  </tbody>\n",
              "</table>\n",
              "</div>\n",
              "    <div class=\"colab-df-buttons\">\n",
              "\n",
              "  <div class=\"colab-df-container\">\n",
              "    <button class=\"colab-df-convert\" onclick=\"convertToInteractive('df-b4e9d2dd-47fe-4636-8636-f707332bb0bb')\"\n",
              "            title=\"Convert this dataframe to an interactive table.\"\n",
              "            style=\"display:none;\">\n",
              "\n",
              "  <svg xmlns=\"http://www.w3.org/2000/svg\" height=\"24px\" viewBox=\"0 -960 960 960\">\n",
              "    <path d=\"M120-120v-720h720v720H120Zm60-500h600v-160H180v160Zm220 220h160v-160H400v160Zm0 220h160v-160H400v160ZM180-400h160v-160H180v160Zm440 0h160v-160H620v160ZM180-180h160v-160H180v160Zm440 0h160v-160H620v160Z\"/>\n",
              "  </svg>\n",
              "    </button>\n",
              "\n",
              "  <style>\n",
              "    .colab-df-container {\n",
              "      display:flex;\n",
              "      gap: 12px;\n",
              "    }\n",
              "\n",
              "    .colab-df-convert {\n",
              "      background-color: #E8F0FE;\n",
              "      border: none;\n",
              "      border-radius: 50%;\n",
              "      cursor: pointer;\n",
              "      display: none;\n",
              "      fill: #1967D2;\n",
              "      height: 32px;\n",
              "      padding: 0 0 0 0;\n",
              "      width: 32px;\n",
              "    }\n",
              "\n",
              "    .colab-df-convert:hover {\n",
              "      background-color: #E2EBFA;\n",
              "      box-shadow: 0px 1px 2px rgba(60, 64, 67, 0.3), 0px 1px 3px 1px rgba(60, 64, 67, 0.15);\n",
              "      fill: #174EA6;\n",
              "    }\n",
              "\n",
              "    .colab-df-buttons div {\n",
              "      margin-bottom: 4px;\n",
              "    }\n",
              "\n",
              "    [theme=dark] .colab-df-convert {\n",
              "      background-color: #3B4455;\n",
              "      fill: #D2E3FC;\n",
              "    }\n",
              "\n",
              "    [theme=dark] .colab-df-convert:hover {\n",
              "      background-color: #434B5C;\n",
              "      box-shadow: 0px 1px 3px 1px rgba(0, 0, 0, 0.15);\n",
              "      filter: drop-shadow(0px 1px 2px rgba(0, 0, 0, 0.3));\n",
              "      fill: #FFFFFF;\n",
              "    }\n",
              "  </style>\n",
              "\n",
              "    <script>\n",
              "      const buttonEl =\n",
              "        document.querySelector('#df-b4e9d2dd-47fe-4636-8636-f707332bb0bb button.colab-df-convert');\n",
              "      buttonEl.style.display =\n",
              "        google.colab.kernel.accessAllowed ? 'block' : 'none';\n",
              "\n",
              "      async function convertToInteractive(key) {\n",
              "        const element = document.querySelector('#df-b4e9d2dd-47fe-4636-8636-f707332bb0bb');\n",
              "        const dataTable =\n",
              "          await google.colab.kernel.invokeFunction('convertToInteractive',\n",
              "                                                    [key], {});\n",
              "        if (!dataTable) return;\n",
              "\n",
              "        const docLinkHtml = 'Like what you see? Visit the ' +\n",
              "          '<a target=\"_blank\" href=https://colab.research.google.com/notebooks/data_table.ipynb>data table notebook</a>'\n",
              "          + ' to learn more about interactive tables.';\n",
              "        element.innerHTML = '';\n",
              "        dataTable['output_type'] = 'display_data';\n",
              "        await google.colab.output.renderOutput(dataTable, element);\n",
              "        const docLink = document.createElement('div');\n",
              "        docLink.innerHTML = docLinkHtml;\n",
              "        element.appendChild(docLink);\n",
              "      }\n",
              "    </script>\n",
              "  </div>\n",
              "\n",
              "\n",
              "<div id=\"df-bd4a5ba7-bc93-4f98-bad7-fdf74585bb6f\">\n",
              "  <button class=\"colab-df-quickchart\" onclick=\"quickchart('df-bd4a5ba7-bc93-4f98-bad7-fdf74585bb6f')\"\n",
              "            title=\"Suggest charts\"\n",
              "            style=\"display:none;\">\n",
              "\n",
              "<svg xmlns=\"http://www.w3.org/2000/svg\" height=\"24px\"viewBox=\"0 0 24 24\"\n",
              "     width=\"24px\">\n",
              "    <g>\n",
              "        <path d=\"M19 3H5c-1.1 0-2 .9-2 2v14c0 1.1.9 2 2 2h14c1.1 0 2-.9 2-2V5c0-1.1-.9-2-2-2zM9 17H7v-7h2v7zm4 0h-2V7h2v10zm4 0h-2v-4h2v4z\"/>\n",
              "    </g>\n",
              "</svg>\n",
              "  </button>\n",
              "\n",
              "<style>\n",
              "  .colab-df-quickchart {\n",
              "      --bg-color: #E8F0FE;\n",
              "      --fill-color: #1967D2;\n",
              "      --hover-bg-color: #E2EBFA;\n",
              "      --hover-fill-color: #174EA6;\n",
              "      --disabled-fill-color: #AAA;\n",
              "      --disabled-bg-color: #DDD;\n",
              "  }\n",
              "\n",
              "  [theme=dark] .colab-df-quickchart {\n",
              "      --bg-color: #3B4455;\n",
              "      --fill-color: #D2E3FC;\n",
              "      --hover-bg-color: #434B5C;\n",
              "      --hover-fill-color: #FFFFFF;\n",
              "      --disabled-bg-color: #3B4455;\n",
              "      --disabled-fill-color: #666;\n",
              "  }\n",
              "\n",
              "  .colab-df-quickchart {\n",
              "    background-color: var(--bg-color);\n",
              "    border: none;\n",
              "    border-radius: 50%;\n",
              "    cursor: pointer;\n",
              "    display: none;\n",
              "    fill: var(--fill-color);\n",
              "    height: 32px;\n",
              "    padding: 0;\n",
              "    width: 32px;\n",
              "  }\n",
              "\n",
              "  .colab-df-quickchart:hover {\n",
              "    background-color: var(--hover-bg-color);\n",
              "    box-shadow: 0 1px 2px rgba(60, 64, 67, 0.3), 0 1px 3px 1px rgba(60, 64, 67, 0.15);\n",
              "    fill: var(--button-hover-fill-color);\n",
              "  }\n",
              "\n",
              "  .colab-df-quickchart-complete:disabled,\n",
              "  .colab-df-quickchart-complete:disabled:hover {\n",
              "    background-color: var(--disabled-bg-color);\n",
              "    fill: var(--disabled-fill-color);\n",
              "    box-shadow: none;\n",
              "  }\n",
              "\n",
              "  .colab-df-spinner {\n",
              "    border: 2px solid var(--fill-color);\n",
              "    border-color: transparent;\n",
              "    border-bottom-color: var(--fill-color);\n",
              "    animation:\n",
              "      spin 1s steps(1) infinite;\n",
              "  }\n",
              "\n",
              "  @keyframes spin {\n",
              "    0% {\n",
              "      border-color: transparent;\n",
              "      border-bottom-color: var(--fill-color);\n",
              "      border-left-color: var(--fill-color);\n",
              "    }\n",
              "    20% {\n",
              "      border-color: transparent;\n",
              "      border-left-color: var(--fill-color);\n",
              "      border-top-color: var(--fill-color);\n",
              "    }\n",
              "    30% {\n",
              "      border-color: transparent;\n",
              "      border-left-color: var(--fill-color);\n",
              "      border-top-color: var(--fill-color);\n",
              "      border-right-color: var(--fill-color);\n",
              "    }\n",
              "    40% {\n",
              "      border-color: transparent;\n",
              "      border-right-color: var(--fill-color);\n",
              "      border-top-color: var(--fill-color);\n",
              "    }\n",
              "    60% {\n",
              "      border-color: transparent;\n",
              "      border-right-color: var(--fill-color);\n",
              "    }\n",
              "    80% {\n",
              "      border-color: transparent;\n",
              "      border-right-color: var(--fill-color);\n",
              "      border-bottom-color: var(--fill-color);\n",
              "    }\n",
              "    90% {\n",
              "      border-color: transparent;\n",
              "      border-bottom-color: var(--fill-color);\n",
              "    }\n",
              "  }\n",
              "</style>\n",
              "\n",
              "  <script>\n",
              "    async function quickchart(key) {\n",
              "      const quickchartButtonEl =\n",
              "        document.querySelector('#' + key + ' button');\n",
              "      quickchartButtonEl.disabled = true;  // To prevent multiple clicks.\n",
              "      quickchartButtonEl.classList.add('colab-df-spinner');\n",
              "      try {\n",
              "        const charts = await google.colab.kernel.invokeFunction(\n",
              "            'suggestCharts', [key], {});\n",
              "      } catch (error) {\n",
              "        console.error('Error during call to suggestCharts:', error);\n",
              "      }\n",
              "      quickchartButtonEl.classList.remove('colab-df-spinner');\n",
              "      quickchartButtonEl.classList.add('colab-df-quickchart-complete');\n",
              "    }\n",
              "    (() => {\n",
              "      let quickchartButtonEl =\n",
              "        document.querySelector('#df-bd4a5ba7-bc93-4f98-bad7-fdf74585bb6f button');\n",
              "      quickchartButtonEl.style.display =\n",
              "        google.colab.kernel.accessAllowed ? 'block' : 'none';\n",
              "    })();\n",
              "  </script>\n",
              "</div>\n",
              "\n",
              "    </div>\n",
              "  </div>\n"
            ],
            "application/vnd.google.colaboratory.intrinsic+json": {
              "type": "dataframe",
              "variable_name": "df_aas",
              "repr_error": "0"
            }
          },
          "metadata": {},
          "execution_count": 33
        }
      ]
    },
    {
      "cell_type": "markdown",
      "source": [
        "b) Criar um dataframe chamado df_aae usando amostra aleatória estratificada. Utilizar\n",
        "como estrato a variável “avaliacao”."
      ],
      "metadata": {
        "id": "PaIVkdlyLBZb"
      }
    },
    {
      "cell_type": "code",
      "source": [
        "df_aae = train_test_split(dados_atendimentos_com_gini,\n",
        "                                        test_size = n,\n",
        "                                        random_state=1245,\n",
        "                                        stratify=dados_atendimentos['avaliacao'])[1]"
      ],
      "metadata": {
        "id": "J2L4s25apEJv"
      },
      "execution_count": null,
      "outputs": []
    },
    {
      "cell_type": "code",
      "source": [
        "df_aae.head()"
      ],
      "metadata": {
        "id": "qkE0GK8Op4QM",
        "outputId": "845f88c9-bd3d-4b7c-93b0-6289f8f3216e",
        "colab": {
          "base_uri": "https://localhost:8080/",
          "height": 380
        }
      },
      "execution_count": null,
      "outputs": [
        {
          "output_type": "execute_result",
          "data": {
            "text/plain": [
              "     idEntrada state  usuarioOnline statusSaida  paginaSaida    avaliacao  \\\n",
              "335        336    RO              0         60%            2     negativa   \n",
              "474        475    RS              0         40%            3     positiva   \n",
              "853        854    PA              0         40%            3  n/ avaliado   \n",
              "442        443    PB              0         40%            3  n/ avaliado   \n",
              "982        983    AP              0         20%            4     positiva   \n",
              "\n",
              "      dataHoraEntrada     dataHoraSaida      dataHoraErro  tempoAcesso  \\\n",
              "335  18/05/2021 17:57  18/05/2021 17:57  18/05/2021 17:57          200   \n",
              "474  18/05/2021 17:57  18/05/2021 18:01  18/05/2021 18:00          214   \n",
              "853  18/05/2021 17:57  18/05/2021 17:59  18/05/2021 17:58          101   \n",
              "442  18/05/2021 17:57  18/05/2021 18:02  18/05/2021 18:02          319   \n",
              "982  18/05/2021 17:57  18/05/2021 18:00  18/05/2021 18:00          203   \n",
              "\n",
              "     codigo                                               erro  Indice de Gini  \n",
              "335     500  \"DESCULPE TIVEMOS UM PROBLEMA E NAO CONSEGUIMO...        0.127922  \n",
              "474     550               \"NAO ENCONTROU DADOS PARA A SELECAO\"        0.153786  \n",
              "853     550               \"ERRO NA VALIDACAO DE DADOS BASICOS\"        0.208619  \n",
              "442     500  \"DESCULPE TIVEMOS UM PROBLEMA E NAO CONSEGUIMO...        0.134084  \n",
              "982     550  \"NO MOMENTO ESTE SERIVCO ESTA INDISPONIVEL. PO...        0.177035  "
            ],
            "text/html": [
              "\n",
              "  <div id=\"df-bd923af6-95e8-465f-9f8b-9884188f9fa5\" class=\"colab-df-container\">\n",
              "    <div>\n",
              "<style scoped>\n",
              "    .dataframe tbody tr th:only-of-type {\n",
              "        vertical-align: middle;\n",
              "    }\n",
              "\n",
              "    .dataframe tbody tr th {\n",
              "        vertical-align: top;\n",
              "    }\n",
              "\n",
              "    .dataframe thead th {\n",
              "        text-align: right;\n",
              "    }\n",
              "</style>\n",
              "<table border=\"1\" class=\"dataframe\">\n",
              "  <thead>\n",
              "    <tr style=\"text-align: right;\">\n",
              "      <th></th>\n",
              "      <th>idEntrada</th>\n",
              "      <th>state</th>\n",
              "      <th>usuarioOnline</th>\n",
              "      <th>statusSaida</th>\n",
              "      <th>paginaSaida</th>\n",
              "      <th>avaliacao</th>\n",
              "      <th>dataHoraEntrada</th>\n",
              "      <th>dataHoraSaida</th>\n",
              "      <th>dataHoraErro</th>\n",
              "      <th>tempoAcesso</th>\n",
              "      <th>codigo</th>\n",
              "      <th>erro</th>\n",
              "      <th>Indice de Gini</th>\n",
              "    </tr>\n",
              "  </thead>\n",
              "  <tbody>\n",
              "    <tr>\n",
              "      <th>335</th>\n",
              "      <td>336</td>\n",
              "      <td>RO</td>\n",
              "      <td>0</td>\n",
              "      <td>60%</td>\n",
              "      <td>2</td>\n",
              "      <td>negativa</td>\n",
              "      <td>18/05/2021 17:57</td>\n",
              "      <td>18/05/2021 17:57</td>\n",
              "      <td>18/05/2021 17:57</td>\n",
              "      <td>200</td>\n",
              "      <td>500</td>\n",
              "      <td>\"DESCULPE TIVEMOS UM PROBLEMA E NAO CONSEGUIMO...</td>\n",
              "      <td>0.127922</td>\n",
              "    </tr>\n",
              "    <tr>\n",
              "      <th>474</th>\n",
              "      <td>475</td>\n",
              "      <td>RS</td>\n",
              "      <td>0</td>\n",
              "      <td>40%</td>\n",
              "      <td>3</td>\n",
              "      <td>positiva</td>\n",
              "      <td>18/05/2021 17:57</td>\n",
              "      <td>18/05/2021 18:01</td>\n",
              "      <td>18/05/2021 18:00</td>\n",
              "      <td>214</td>\n",
              "      <td>550</td>\n",
              "      <td>\"NAO ENCONTROU DADOS PARA A SELECAO\"</td>\n",
              "      <td>0.153786</td>\n",
              "    </tr>\n",
              "    <tr>\n",
              "      <th>853</th>\n",
              "      <td>854</td>\n",
              "      <td>PA</td>\n",
              "      <td>0</td>\n",
              "      <td>40%</td>\n",
              "      <td>3</td>\n",
              "      <td>n/ avaliado</td>\n",
              "      <td>18/05/2021 17:57</td>\n",
              "      <td>18/05/2021 17:59</td>\n",
              "      <td>18/05/2021 17:58</td>\n",
              "      <td>101</td>\n",
              "      <td>550</td>\n",
              "      <td>\"ERRO NA VALIDACAO DE DADOS BASICOS\"</td>\n",
              "      <td>0.208619</td>\n",
              "    </tr>\n",
              "    <tr>\n",
              "      <th>442</th>\n",
              "      <td>443</td>\n",
              "      <td>PB</td>\n",
              "      <td>0</td>\n",
              "      <td>40%</td>\n",
              "      <td>3</td>\n",
              "      <td>n/ avaliado</td>\n",
              "      <td>18/05/2021 17:57</td>\n",
              "      <td>18/05/2021 18:02</td>\n",
              "      <td>18/05/2021 18:02</td>\n",
              "      <td>319</td>\n",
              "      <td>500</td>\n",
              "      <td>\"DESCULPE TIVEMOS UM PROBLEMA E NAO CONSEGUIMO...</td>\n",
              "      <td>0.134084</td>\n",
              "    </tr>\n",
              "    <tr>\n",
              "      <th>982</th>\n",
              "      <td>983</td>\n",
              "      <td>AP</td>\n",
              "      <td>0</td>\n",
              "      <td>20%</td>\n",
              "      <td>4</td>\n",
              "      <td>positiva</td>\n",
              "      <td>18/05/2021 17:57</td>\n",
              "      <td>18/05/2021 18:00</td>\n",
              "      <td>18/05/2021 18:00</td>\n",
              "      <td>203</td>\n",
              "      <td>550</td>\n",
              "      <td>\"NO MOMENTO ESTE SERIVCO ESTA INDISPONIVEL. PO...</td>\n",
              "      <td>0.177035</td>\n",
              "    </tr>\n",
              "  </tbody>\n",
              "</table>\n",
              "</div>\n",
              "    <div class=\"colab-df-buttons\">\n",
              "\n",
              "  <div class=\"colab-df-container\">\n",
              "    <button class=\"colab-df-convert\" onclick=\"convertToInteractive('df-bd923af6-95e8-465f-9f8b-9884188f9fa5')\"\n",
              "            title=\"Convert this dataframe to an interactive table.\"\n",
              "            style=\"display:none;\">\n",
              "\n",
              "  <svg xmlns=\"http://www.w3.org/2000/svg\" height=\"24px\" viewBox=\"0 -960 960 960\">\n",
              "    <path d=\"M120-120v-720h720v720H120Zm60-500h600v-160H180v160Zm220 220h160v-160H400v160Zm0 220h160v-160H400v160ZM180-400h160v-160H180v160Zm440 0h160v-160H620v160ZM180-180h160v-160H180v160Zm440 0h160v-160H620v160Z\"/>\n",
              "  </svg>\n",
              "    </button>\n",
              "\n",
              "  <style>\n",
              "    .colab-df-container {\n",
              "      display:flex;\n",
              "      gap: 12px;\n",
              "    }\n",
              "\n",
              "    .colab-df-convert {\n",
              "      background-color: #E8F0FE;\n",
              "      border: none;\n",
              "      border-radius: 50%;\n",
              "      cursor: pointer;\n",
              "      display: none;\n",
              "      fill: #1967D2;\n",
              "      height: 32px;\n",
              "      padding: 0 0 0 0;\n",
              "      width: 32px;\n",
              "    }\n",
              "\n",
              "    .colab-df-convert:hover {\n",
              "      background-color: #E2EBFA;\n",
              "      box-shadow: 0px 1px 2px rgba(60, 64, 67, 0.3), 0px 1px 3px 1px rgba(60, 64, 67, 0.15);\n",
              "      fill: #174EA6;\n",
              "    }\n",
              "\n",
              "    .colab-df-buttons div {\n",
              "      margin-bottom: 4px;\n",
              "    }\n",
              "\n",
              "    [theme=dark] .colab-df-convert {\n",
              "      background-color: #3B4455;\n",
              "      fill: #D2E3FC;\n",
              "    }\n",
              "\n",
              "    [theme=dark] .colab-df-convert:hover {\n",
              "      background-color: #434B5C;\n",
              "      box-shadow: 0px 1px 3px 1px rgba(0, 0, 0, 0.15);\n",
              "      filter: drop-shadow(0px 1px 2px rgba(0, 0, 0, 0.3));\n",
              "      fill: #FFFFFF;\n",
              "    }\n",
              "  </style>\n",
              "\n",
              "    <script>\n",
              "      const buttonEl =\n",
              "        document.querySelector('#df-bd923af6-95e8-465f-9f8b-9884188f9fa5 button.colab-df-convert');\n",
              "      buttonEl.style.display =\n",
              "        google.colab.kernel.accessAllowed ? 'block' : 'none';\n",
              "\n",
              "      async function convertToInteractive(key) {\n",
              "        const element = document.querySelector('#df-bd923af6-95e8-465f-9f8b-9884188f9fa5');\n",
              "        const dataTable =\n",
              "          await google.colab.kernel.invokeFunction('convertToInteractive',\n",
              "                                                    [key], {});\n",
              "        if (!dataTable) return;\n",
              "\n",
              "        const docLinkHtml = 'Like what you see? Visit the ' +\n",
              "          '<a target=\"_blank\" href=https://colab.research.google.com/notebooks/data_table.ipynb>data table notebook</a>'\n",
              "          + ' to learn more about interactive tables.';\n",
              "        element.innerHTML = '';\n",
              "        dataTable['output_type'] = 'display_data';\n",
              "        await google.colab.output.renderOutput(dataTable, element);\n",
              "        const docLink = document.createElement('div');\n",
              "        docLink.innerHTML = docLinkHtml;\n",
              "        element.appendChild(docLink);\n",
              "      }\n",
              "    </script>\n",
              "  </div>\n",
              "\n",
              "\n",
              "<div id=\"df-0382af2e-16d1-4dd7-897f-668cc51a4a5e\">\n",
              "  <button class=\"colab-df-quickchart\" onclick=\"quickchart('df-0382af2e-16d1-4dd7-897f-668cc51a4a5e')\"\n",
              "            title=\"Suggest charts\"\n",
              "            style=\"display:none;\">\n",
              "\n",
              "<svg xmlns=\"http://www.w3.org/2000/svg\" height=\"24px\"viewBox=\"0 0 24 24\"\n",
              "     width=\"24px\">\n",
              "    <g>\n",
              "        <path d=\"M19 3H5c-1.1 0-2 .9-2 2v14c0 1.1.9 2 2 2h14c1.1 0 2-.9 2-2V5c0-1.1-.9-2-2-2zM9 17H7v-7h2v7zm4 0h-2V7h2v10zm4 0h-2v-4h2v4z\"/>\n",
              "    </g>\n",
              "</svg>\n",
              "  </button>\n",
              "\n",
              "<style>\n",
              "  .colab-df-quickchart {\n",
              "      --bg-color: #E8F0FE;\n",
              "      --fill-color: #1967D2;\n",
              "      --hover-bg-color: #E2EBFA;\n",
              "      --hover-fill-color: #174EA6;\n",
              "      --disabled-fill-color: #AAA;\n",
              "      --disabled-bg-color: #DDD;\n",
              "  }\n",
              "\n",
              "  [theme=dark] .colab-df-quickchart {\n",
              "      --bg-color: #3B4455;\n",
              "      --fill-color: #D2E3FC;\n",
              "      --hover-bg-color: #434B5C;\n",
              "      --hover-fill-color: #FFFFFF;\n",
              "      --disabled-bg-color: #3B4455;\n",
              "      --disabled-fill-color: #666;\n",
              "  }\n",
              "\n",
              "  .colab-df-quickchart {\n",
              "    background-color: var(--bg-color);\n",
              "    border: none;\n",
              "    border-radius: 50%;\n",
              "    cursor: pointer;\n",
              "    display: none;\n",
              "    fill: var(--fill-color);\n",
              "    height: 32px;\n",
              "    padding: 0;\n",
              "    width: 32px;\n",
              "  }\n",
              "\n",
              "  .colab-df-quickchart:hover {\n",
              "    background-color: var(--hover-bg-color);\n",
              "    box-shadow: 0 1px 2px rgba(60, 64, 67, 0.3), 0 1px 3px 1px rgba(60, 64, 67, 0.15);\n",
              "    fill: var(--button-hover-fill-color);\n",
              "  }\n",
              "\n",
              "  .colab-df-quickchart-complete:disabled,\n",
              "  .colab-df-quickchart-complete:disabled:hover {\n",
              "    background-color: var(--disabled-bg-color);\n",
              "    fill: var(--disabled-fill-color);\n",
              "    box-shadow: none;\n",
              "  }\n",
              "\n",
              "  .colab-df-spinner {\n",
              "    border: 2px solid var(--fill-color);\n",
              "    border-color: transparent;\n",
              "    border-bottom-color: var(--fill-color);\n",
              "    animation:\n",
              "      spin 1s steps(1) infinite;\n",
              "  }\n",
              "\n",
              "  @keyframes spin {\n",
              "    0% {\n",
              "      border-color: transparent;\n",
              "      border-bottom-color: var(--fill-color);\n",
              "      border-left-color: var(--fill-color);\n",
              "    }\n",
              "    20% {\n",
              "      border-color: transparent;\n",
              "      border-left-color: var(--fill-color);\n",
              "      border-top-color: var(--fill-color);\n",
              "    }\n",
              "    30% {\n",
              "      border-color: transparent;\n",
              "      border-left-color: var(--fill-color);\n",
              "      border-top-color: var(--fill-color);\n",
              "      border-right-color: var(--fill-color);\n",
              "    }\n",
              "    40% {\n",
              "      border-color: transparent;\n",
              "      border-right-color: var(--fill-color);\n",
              "      border-top-color: var(--fill-color);\n",
              "    }\n",
              "    60% {\n",
              "      border-color: transparent;\n",
              "      border-right-color: var(--fill-color);\n",
              "    }\n",
              "    80% {\n",
              "      border-color: transparent;\n",
              "      border-right-color: var(--fill-color);\n",
              "      border-bottom-color: var(--fill-color);\n",
              "    }\n",
              "    90% {\n",
              "      border-color: transparent;\n",
              "      border-bottom-color: var(--fill-color);\n",
              "    }\n",
              "  }\n",
              "</style>\n",
              "\n",
              "  <script>\n",
              "    async function quickchart(key) {\n",
              "      const quickchartButtonEl =\n",
              "        document.querySelector('#' + key + ' button');\n",
              "      quickchartButtonEl.disabled = true;  // To prevent multiple clicks.\n",
              "      quickchartButtonEl.classList.add('colab-df-spinner');\n",
              "      try {\n",
              "        const charts = await google.colab.kernel.invokeFunction(\n",
              "            'suggestCharts', [key], {});\n",
              "      } catch (error) {\n",
              "        console.error('Error during call to suggestCharts:', error);\n",
              "      }\n",
              "      quickchartButtonEl.classList.remove('colab-df-spinner');\n",
              "      quickchartButtonEl.classList.add('colab-df-quickchart-complete');\n",
              "    }\n",
              "    (() => {\n",
              "      let quickchartButtonEl =\n",
              "        document.querySelector('#df-0382af2e-16d1-4dd7-897f-668cc51a4a5e button');\n",
              "      quickchartButtonEl.style.display =\n",
              "        google.colab.kernel.accessAllowed ? 'block' : 'none';\n",
              "    })();\n",
              "  </script>\n",
              "</div>\n",
              "\n",
              "    </div>\n",
              "  </div>\n"
            ],
            "application/vnd.google.colaboratory.intrinsic+json": {
              "type": "dataframe",
              "variable_name": "df_aae",
              "repr_error": "0"
            }
          },
          "metadata": {},
          "execution_count": 35
        }
      ]
    },
    {
      "cell_type": "markdown",
      "source": [
        "7 – No dataframe df_aas realizar as seguintes análises:\n"
      ],
      "metadata": {
        "id": "-U9EJZ88LEmT"
      }
    },
    {
      "cell_type": "markdown",
      "source": [
        "a) Comparar as medidas descritivas para TempoAcesso com o dataset original. Houve\n",
        "diferenças significativas?"
      ],
      "metadata": {
        "id": "LgZCxHHaLJwD"
      }
    },
    {
      "cell_type": "code",
      "source": [
        "print(\"Medidas Descritivas - Dataset Original (TempoAcesso):\")\n",
        "print(dados_atendimentos_com_gini['tempoAcesso'].describe())"
      ],
      "metadata": {
        "id": "TJOvLJFMoeU4",
        "colab": {
          "base_uri": "https://localhost:8080/"
        },
        "outputId": "2160027b-d9da-4891-d843-1e208719ddf0"
      },
      "execution_count": null,
      "outputs": [
        {
          "output_type": "stream",
          "name": "stdout",
          "text": [
            "Medidas Descritivas - Dataset Original (TempoAcesso):\n",
            "count    1000.000000\n",
            "mean      246.371000\n",
            "std       112.761565\n",
            "min         1.000000\n",
            "25%       171.000000\n",
            "50%       241.000000\n",
            "75%       320.000000\n",
            "max       629.000000\n",
            "Name: tempoAcesso, dtype: float64\n"
          ]
        }
      ]
    },
    {
      "cell_type": "code",
      "source": [
        "print(\"\\nMedidas Descritivas - Amostra Aleatória Simples (df_aas):\")\n",
        "print(df_aas['tempoAcesso'].describe())"
      ],
      "metadata": {
        "colab": {
          "base_uri": "https://localhost:8080/"
        },
        "id": "V9xc0UfzJpLv",
        "outputId": "3f893a39-e880-490e-f927-d92695d08a03"
      },
      "execution_count": null,
      "outputs": [
        {
          "output_type": "stream",
          "name": "stdout",
          "text": [
            "\n",
            "Medidas Descritivas - Amostra Aleatória Simples (df_aas):\n",
            "count    176.000000\n",
            "mean     245.625000\n",
            "std      118.836869\n",
            "min        7.000000\n",
            "25%      166.500000\n",
            "50%      237.000000\n",
            "75%      332.000000\n",
            "max      549.000000\n",
            "Name: tempoAcesso, dtype: float64\n"
          ]
        }
      ]
    },
    {
      "cell_type": "code",
      "source": [
        "from google.colab import drive\n",
        "drive.mount('/content/drive')"
      ],
      "metadata": {
        "id": "L9X8G0BzUcjO"
      },
      "execution_count": null,
      "outputs": []
    },
    {
      "cell_type": "markdown",
      "source": [
        "**Média:** A média do tempo de acesso na amostra (df_aas) é ligeiramente menor (0,75 segundos) do que a média do dataset original.\n",
        "\n",
        "**Desvio Padrão:** O desvio padrão na amostra é um pouco maior (6,07 segundos) do que na população original.\n",
        "\n",
        "**Mínimo e Máximo:** Os valores mínimo e máximo do tempo de acesso na amostra se encontram dentro da faixa observada no dataset original.\n",
        "\n",
        "**Quartis**: Os quartis (Q1, Q2 e Q3) na amostra estão próximos dos valores do dataset original, indicando distribuições semelhantes.\n",
        "\n",
        "*As diferenças nas medidas descritivas são pequenas e não apresentam um padrão consistente (maior ou menor em todas as medidas). Considerando o tamanho da amostra (n=176), podemos concluir que não há diferenças significativas entre a amostra e o dataset original em relação ao tempo de acesso.*\n",
        "\n"
      ],
      "metadata": {
        "id": "DZYapfgBSSNk"
      }
    },
    {
      "cell_type": "markdown",
      "source": [
        "b) Comparar as medidas descritivas para Gini com o dataset original. Houve diferenças\n",
        "significativas?\n"
      ],
      "metadata": {
        "id": "XcUVZ_nsLMYS"
      }
    },
    {
      "cell_type": "code",
      "source": [
        "print(\"Medidas Descritivas - Dataset Original (Indice de Gini):\")\n",
        "print(dados_atendimentos_com_gini['Indice de Gini'].describe())"
      ],
      "metadata": {
        "id": "9aV0n2geoeHw",
        "colab": {
          "base_uri": "https://localhost:8080/"
        },
        "outputId": "80f391ec-42ec-4611-8962-aee3bc091d76"
      },
      "execution_count": null,
      "outputs": [
        {
          "output_type": "stream",
          "name": "stdout",
          "text": [
            "Medidas Descritivas - Dataset Original (Indice de Gini):\n",
            "count    1000.000000\n",
            "mean        0.158188\n",
            "std         0.027156\n",
            "min         0.127922\n",
            "25%         0.138104\n",
            "50%         0.149203\n",
            "75%         0.173719\n",
            "max         0.241690\n",
            "Name: Indice de Gini, dtype: float64\n"
          ]
        }
      ]
    },
    {
      "cell_type": "code",
      "source": [
        "print(\"\\nMedidas Descritivas - Amostra Aleatória Simples (df_aas):\")\n",
        "print(df_aas['Indice de Gini'].describe())"
      ],
      "metadata": {
        "colab": {
          "base_uri": "https://localhost:8080/"
        },
        "id": "bOmuukvxUXXL",
        "outputId": "4ccde554-bb99-4fb3-c2fb-604ae004b73d"
      },
      "execution_count": null,
      "outputs": [
        {
          "output_type": "stream",
          "name": "stdout",
          "text": [
            "\n",
            "Medidas Descritivas - Amostra Aleatória Simples (df_aas):\n",
            "count    176.000000\n",
            "mean       0.159748\n",
            "std        0.028520\n",
            "min        0.127922\n",
            "25%        0.138104\n",
            "50%        0.153020\n",
            "75%        0.177035\n",
            "max        0.241690\n",
            "Name: Indice de Gini, dtype: float64\n"
          ]
        }
      ]
    },
    {
      "cell_type": "markdown",
      "source": [
        "**Média:** A média do índice de Gini na amostra (df_aas) é ligeiramente maior (0,16%) do que a média do dataset original.\n",
        "\n",
        "**Desvio Padrão**: O desvio padrão na amostra é um pouco maior (0,50%) do que na população original.\n",
        "\n",
        "**Mínimo e Máximo:** Os valores mínimo e máximo do índice de Gini na amostra se encontram dentro da faixa observada no dataset original.\n",
        "\n",
        "**Quartis:** Os quartis (Q1 e Q3) na amostra estão próximos dos valores do dataset original, mas o Q2 apresenta uma diferença um pouco maior (0,38%).\n",
        "\n",
        "\n",
        "*As diferenças nas medidas descritivas do índice de Gini, embora pequenas, podem indicar que a amostra aleatória simples (df_aas) não representa perfeitamente o dataset original em relação a essa variável.*\n",
        "\n",
        "A média ligeiramente maior pode indicar que a amostra contém uma proporção um pouco maior de cidades com maior índice de Gini.\n",
        "Desvio padrão maior: Sugere que a variabilidade do índice de Gini na amostra é um pouco maior do que na população original."
      ],
      "metadata": {
        "id": "Qgccu96PVcu5"
      }
    },
    {
      "cell_type": "markdown",
      "source": [
        "c) Obter as proporções da variável “avaliacao” e compare com o dataset original."
      ],
      "metadata": {
        "id": "jTN221LMLSya"
      }
    },
    {
      "cell_type": "code",
      "source": [
        "# Proporções por avaliação no dataset original\n",
        "print(\"Proporções por Avaliação - Dataset Original:\")\n",
        "print(dados_atendimentos_com_gini['avaliacao'].value_counts(normalize=True))"
      ],
      "metadata": {
        "id": "8zTkXaVgodyv",
        "colab": {
          "base_uri": "https://localhost:8080/"
        },
        "outputId": "f8ddae1a-602d-4b58-ef8e-c20c59cc596e"
      },
      "execution_count": null,
      "outputs": [
        {
          "output_type": "stream",
          "name": "stdout",
          "text": [
            "Proporções por Avaliação - Dataset Original:\n",
            "avaliacao\n",
            "negativa       0.510\n",
            "positiva       0.251\n",
            "n/ avaliado    0.239\n",
            "Name: proportion, dtype: float64\n"
          ]
        }
      ]
    },
    {
      "cell_type": "code",
      "source": [
        "# Proporções por avaliação na amostra aleatória simples (df_aas)\n",
        "print(\"\\nProporções por Avaliação - Amostra Aleatória Simples (df_aas):\")\n",
        "print(df_aas['avaliacao'].value_counts(normalize=True))"
      ],
      "metadata": {
        "colab": {
          "base_uri": "https://localhost:8080/"
        },
        "id": "eOpTBU4_W3m8",
        "outputId": "8c2082ec-01cc-4c52-fefb-7125e8b55491"
      },
      "execution_count": null,
      "outputs": [
        {
          "output_type": "stream",
          "name": "stdout",
          "text": [
            "\n",
            "Proporções por Avaliação - Amostra Aleatória Simples (df_aas):\n",
            "avaliacao\n",
            "negativa       0.573864\n",
            "positiva       0.250000\n",
            "n/ avaliado    0.176136\n",
            "Name: proportion, dtype: float64\n"
          ]
        }
      ]
    },
    {
      "cell_type": "markdown",
      "source": [
        "\n",
        "**Avaliação Negativa:** A diferença de 6,4% na proporção pode indicar que a amostra contém uma proporção maior de clientes com avaliação negativa do que o dataset original.\n",
        "\n",
        "**Avaliação Positiva:** A diferença praticamente nula (0,1%) indica que a proporção de clientes com avaliação positiva é semelhante em ambas as bases.\n",
        "\n",
        "**Não Avaliado:** A diferença de 6,3% na proporção pode indicar que a amostra contém uma proporção menor de clientes que não avaliaram o atendimento do que o dataset original.\n",
        "\n",
        "*Um tamanho de amostra maior pode levar a proporções mais precisas e confiáveis.*\n",
        "\n",
        "*A amostragem aleatória estratificada (df_aae) pode ser mais vantajosa quando há subgrupos na população com características distintas (como a variável \"avaliacao\"). *\n",
        "\n",
        "**Utilizarei o teste qui-quadrado para verificar se há diferenças estatisticamente significativas nas proporções entre o dataset original e a amostra. Utilizarei um nível de significância de 0,05:**"
      ],
      "metadata": {
        "id": "UGYdYVdRXbeh"
      }
    },
    {
      "cell_type": "code",
      "source": [
        "# Tabela de contagem\n",
        "contingency_table = pd.crosstab(dados_atendimentos_com_gini['avaliacao'], df_aas['avaliacao'])\n",
        "\n",
        "# Realização do teste\n",
        "chi2, pval, dof, expected = chi2_contingency(contingency_table.values)\n",
        "\n",
        "# Interpretação dos resultados\n",
        "print(\"\\nTeste Qui-Quadrado:\")\n",
        "print(\"Chi-Quadrado:\", chi2)\n",
        "print(\"p-valor:\", pval)\n",
        "print(\"Graus de Liberdade:\", dof)\n",
        "\n",
        "# Nível de significância\n",
        "nivel_significancia = 0.05\n",
        "\n",
        "# Conclusões\n",
        "if pval < nivel_significancia:\n",
        "    print(\"\\n**Rejeita-se a hipótese nula (H0)**: Há diferenças estatisticamente significativas nas proporções entre as avaliações no dataset original e na amostra (p-valor <\", nivel_significancia, \").\")\n",
        "else:\n",
        "    print(\"\\n**Não se rejeita a hipótese nula (H0)**: Não há diferenças estatisticamente significativas nas proporções entre as avaliações no dataset original e na amostra (p-valor >=\", pval, \").\")\n"
      ],
      "metadata": {
        "colab": {
          "base_uri": "https://localhost:8080/"
        },
        "id": "dUAbHdNxXVeH",
        "outputId": "1ea2fba8-72d1-499b-b26f-9aefd3cf1def"
      },
      "execution_count": null,
      "outputs": [
        {
          "output_type": "stream",
          "name": "stdout",
          "text": [
            "\n",
            "Teste Qui-Quadrado:\n",
            "Chi-Quadrado: 352.0\n",
            "p-valor: 6.488502127787856e-75\n",
            "Graus de Liberdade: 4\n",
            "\n",
            "**Rejeita-se a hipótese nula (H0)**: Há diferenças estatisticamente significativas nas proporções entre as avaliações no dataset original e na amostra (p-valor < 0.05 ).\n"
          ]
        }
      ]
    },
    {
      "cell_type": "markdown",
      "source": [
        "Chi-Quadrado: 352,0. Esse valor elevado indica que há uma forte associação entre as variáveis \"avaliacao\" do dataset original e da amostra.\n",
        "\n",
        "p-valor: 6,488502127787856e-75. Como o p-valor é menor que o nível de significância (0,05), rejeitamos a hipótese nula (H0). Isso significa que a probabilidade de observar um valor de chi-quadrado tão alto ou superior, assumindo que as proporções sejam iguais no dataset original e na amostra, é extremamente baixa (menos de 0,01%).\n",
        "\n",
        "Graus de Liberdade: 4. Esse valor indica que há 5 categorias nas variáveis (avaliações) menos 1.\n",
        "\n",
        "Com base no teste qui-quadrado, podemos concluir que as proporções das avaliações no dataset original são diferentes das proporções na amostra aleatória simples (df_aas).\n",
        "\n",
        "- O tamanho da amostra (176) pode ser considerado pequeno para a realização do teste qui-quadrado. É importante ter em mente que testes em amostras pequenas podem ter menor poder de detectar diferenças reais.\n"
      ],
      "metadata": {
        "id": "z7ABQ75pa43w"
      }
    },
    {
      "cell_type": "markdown",
      "source": [
        "d) Obter as medidas descritivas para TempoAcesso para cada perfil de “avaliacao” e\n",
        "compare com o dataset original"
      ],
      "metadata": {
        "id": "kOkxBDCzLVib"
      }
    },
    {
      "cell_type": "code",
      "source": [
        "# Agrupamento por avaliação no dataset original\n",
        "original_por_avaliacao = dados_atendimentos_com_gini.groupby(\"avaliacao\")\n",
        "\n",
        "original_por_avaliacao"
      ],
      "metadata": {
        "id": "JmaU2Pkwoddw",
        "colab": {
          "base_uri": "https://localhost:8080/"
        },
        "outputId": "c581b472-a465-4419-f93c-017a717abd51"
      },
      "execution_count": null,
      "outputs": [
        {
          "output_type": "execute_result",
          "data": {
            "text/plain": [
              "<pandas.core.groupby.generic.DataFrameGroupBy object at 0x7c46617f5360>"
            ]
          },
          "metadata": {},
          "execution_count": 120
        }
      ]
    },
    {
      "cell_type": "code",
      "source": [
        "\n",
        "# Cálculo das medidas descritivas para TempoAcesso\n",
        "medidas_original = original_por_avaliacao[\"tempoAcesso\"].describe()\n",
        "\n",
        "# Apresentação dos resultados\n",
        "print(\"\\nMedidas Descritivas - TempoAcesso (Dataset Original):\")\n",
        "print(medidas_original)"
      ],
      "metadata": {
        "colab": {
          "base_uri": "https://localhost:8080/"
        },
        "id": "y1Ay17nTcqsf",
        "outputId": "27aaa39c-7a40-4840-c69f-a971b8b082fc"
      },
      "execution_count": null,
      "outputs": [
        {
          "output_type": "stream",
          "name": "stdout",
          "text": [
            "\n",
            "Medidas Descritivas - TempoAcesso (Dataset Original):\n",
            "             count        mean         std  min    25%    50%     75%    max\n",
            "avaliacao                                                                   \n",
            "n/ avaliado  239.0  238.472803  115.949525  1.0  158.5  234.0  309.50  629.0\n",
            "negativa     510.0  246.870588  113.674072  4.0  168.0  243.5  330.75  549.0\n",
            "positiva     251.0  252.876494  107.700718  7.0  189.0  251.0  308.00  562.0\n"
          ]
        }
      ]
    },
    {
      "cell_type": "code",
      "source": [
        "# Agrupamento por avaliação na amostra aleatória simples\n",
        "amostra_por_avaliacao = df_aas.groupby(\"avaliacao\")"
      ],
      "metadata": {
        "id": "v6yxNy3hc53P"
      },
      "execution_count": null,
      "outputs": []
    },
    {
      "cell_type": "code",
      "source": [
        "# Cálculo das medidas descritivas para TempoAcesso\n",
        "medidas_amostra = amostra_por_avaliacao[\"tempoAcesso\"].describe()\n",
        "\n",
        "# Apresentação dos resultados\n",
        "print(\"\\nMedidas Descritivas - TempoAcesso (Amostra Aleatória Simples):\")\n",
        "print(medidas_amostra)"
      ],
      "metadata": {
        "colab": {
          "base_uri": "https://localhost:8080/"
        },
        "id": "H6Hp2mZNc7-o",
        "outputId": "60c7651d-0d01-4c44-a708-10cbea63292a"
      },
      "execution_count": null,
      "outputs": [
        {
          "output_type": "stream",
          "name": "stdout",
          "text": [
            "\n",
            "Medidas Descritivas - TempoAcesso (Amostra Aleatória Simples):\n",
            "             count        mean         std   min     25%    50%     75%    max\n",
            "avaliacao                                                                     \n",
            "n/ avaliado   31.0  264.451613  127.384677  17.0  204.00  260.0  348.00  549.0\n",
            "negativa     101.0  239.297030  114.285917   7.0  165.00  237.0  330.00  480.0\n",
            "positiva      44.0  246.886364  124.204486  38.0  177.25  226.0  317.25  546.0\n"
          ]
        }
      ]
    },
    {
      "cell_type": "markdown",
      "source": [
        "Média:\n",
        "\n",
        "- \"n/avaliado\": A média no dataset original (238,47) é menor que na amostra (264,45).\n",
        "- \"negativa\": A média na amostra é menor que no dataset original (239,29 vs. 246,87).\n",
        "- \"positiva\": A média na amostra é menor que no dataset original (246,89 vs. 252,88).\n",
        "\n",
        "Desvio Padrão:\n",
        "\n",
        "- O desvio padrão é similar para \"n/avaliado\" em ambos os conjuntos, mas na amostra é maior para as outras avaliações (\"negativa\" e \"positiva\").\n",
        "\n",
        "Mínimo:\n",
        "\n",
        "- O valor mínimo de TempoAcesso é similar para \"n/avaliado\" e \"negativa\" em ambos os conjuntos.\n",
        "\n",
        "- Na avaliação \"positiva\", o valor mínimo na amostra é maior que no dataset original.\n",
        "\n",
        "Quartis:\n",
        "\n",
        "- Os quartis (Q1, Q2 e Q3) em geral são maiores na amostra para todas as avaliações, indicando uma distribuição mais à direita (com valores mais altos).\n",
        "\n",
        "Máximo:\n",
        "\n",
        "- O valor máximo de TempoAcesso é similar para \"n/avaliado\" e \"negativa\" em ambos os conjuntos.\n",
        "- Na avaliação \"positiva\", o valor máximo na amostra é maior que no dataset original."
      ],
      "metadata": {
        "id": "F0oYdBrHgQbu"
      }
    },
    {
      "cell_type": "markdown",
      "source": [
        "*Com base nas medidas descritivas, a amostra aleatória simples não parece representar perfeitamente a distribuição do TempoAcesso por avaliacao no dataset original. A média do TempoAcesso tende a ser menor na amostra, especialmente para as avaliações \"negativa\" e \"positiva\". Os desvios padrões e os quartis também indicam algumas diferenças na distribuição dos dados.*"
      ],
      "metadata": {
        "id": "cue5YhRShOLN"
      }
    },
    {
      "cell_type": "markdown",
      "source": [
        "8 – No dataframe df_aae realizar as seguintes análises:\n",
        "\n",
        "\n",
        "\n"
      ],
      "metadata": {
        "id": "VZL8pAesoN34"
      }
    },
    {
      "cell_type": "markdown",
      "source": [
        "a) Comparar as medidas descritivas para TempoAcesso com o dataset original. Houve\n",
        "diferenças significativas?"
      ],
      "metadata": {
        "id": "C1df70sIoR-Q"
      }
    },
    {
      "cell_type": "code",
      "source": [
        "medidas_df_aae = df_aae[\"tempoAcesso\"].describe()\n",
        "print('Medidas descritivas amostra estratificada')\n",
        "print(medidas_df_aae)"
      ],
      "metadata": {
        "id": "SC801rMzoctY",
        "colab": {
          "base_uri": "https://localhost:8080/"
        },
        "outputId": "fb7dc218-7769-4b04-8b53-604db78f8645"
      },
      "execution_count": null,
      "outputs": [
        {
          "output_type": "stream",
          "name": "stdout",
          "text": [
            "Medidas descritivas amostra estratificada\n",
            "count    176.000000\n",
            "mean     239.403409\n",
            "std      105.066791\n",
            "min        7.000000\n",
            "25%      171.000000\n",
            "50%      230.000000\n",
            "75%      310.750000\n",
            "max      532.000000\n",
            "Name: tempoAcesso, dtype: float64\n"
          ]
        }
      ]
    },
    {
      "cell_type": "code",
      "source": [
        "medidas_dados_atendimentos_com_gini = dados_atendimentos_com_gini[\"tempoAcesso\"].describe()\n",
        "print('Medidas descritivas do dataset original')\n",
        "print(medidas_dados_atendimentos_com_gini)"
      ],
      "metadata": {
        "colab": {
          "base_uri": "https://localhost:8080/"
        },
        "id": "_1Ffynl6ikl1",
        "outputId": "7e4cfb12-daff-4aef-cf15-bc9c2ca57a1b"
      },
      "execution_count": null,
      "outputs": [
        {
          "output_type": "stream",
          "name": "stdout",
          "text": [
            "Medidas descritivas do dataset original\n",
            "count    1000.000000\n",
            "mean      246.371000\n",
            "std       112.761565\n",
            "min         1.000000\n",
            "25%       171.000000\n",
            "50%       241.000000\n",
            "75%       320.000000\n",
            "max       629.000000\n",
            "Name: tempoAcesso, dtype: float64\n"
          ]
        }
      ]
    },
    {
      "cell_type": "code",
      "source": [
        "# Teste de Homogeneidade de Variância (Levene)\n",
        "levene_result = stats.levene(df_aae[\"tempoAcesso\"], dados_atendimentos_com_gini[\"tempoAcesso\"])\n",
        "print(\"Teste de Levene (p-value):\", levene_result.pvalue)"
      ],
      "metadata": {
        "colab": {
          "base_uri": "https://localhost:8080/"
        },
        "id": "b_APNHQwix6o",
        "outputId": "5b37782d-cc25-4d5e-969e-16041bff41ef"
      },
      "execution_count": null,
      "outputs": [
        {
          "output_type": "stream",
          "name": "stdout",
          "text": [
            "Teste de Levene (p-value): 0.35611897539907333\n"
          ]
        }
      ]
    },
    {
      "cell_type": "code",
      "source": [
        "# Teste de Comparação de Médias (ANOVA ou Kruskal-Wallis)\n",
        "if stats.normaltest(df_aae[\"tempoAcesso\"]).pvalue > 0.05:\n",
        "    # ANOVA\n",
        "    anova_result = stats.f_oneway(df_aae[\"tempoAcesso\"], dados_atendimentos_com_gini[\"tempoAcesso\"])\n",
        "    print(\"Teste ANOVA (p-value):\", anova_result.pvalue)\n",
        "else:\n",
        "    # Kruskal-Wallis\n",
        "    kw_result = stats.kruskalwallis(df_aae[\"tempoAcesso\"], dados_atendimentos_com_gini[\"tempoAcesso\"])\n",
        "    print(\"Teste Kruskal-Wallis (p-value):\", kw_result.pvalue)"
      ],
      "metadata": {
        "colab": {
          "base_uri": "https://localhost:8080/"
        },
        "id": "eWA3prqai7S1",
        "outputId": "77052d35-858d-409b-86a7-ca652aea8030"
      },
      "execution_count": null,
      "outputs": [
        {
          "output_type": "stream",
          "name": "stdout",
          "text": [
            "Teste ANOVA (p-value): 0.44534531540878086\n"
          ]
        }
      ]
    },
    {
      "cell_type": "markdown",
      "source": [
        "**Média:** A média do TempoAcesso na amostra (239,40) é menor que a média no dataset original (246,37). Essa diferença indica que, em média, os tempos de acesso na amostra são um pouco menores que no dataset original.\n",
        "\n",
        "**Desvio Padrão:** O desvio padrão na amostra (105,07) é menor que no dataset original (112,76). Isso sugere que os tempos de acesso na amostra são mais homogêneos, com menor dispersão em relação à média.\n",
        "\n",
        "**Mínimo:** O valor mínimo do TempoAcesso é similar em ambos os conjuntos (7,00 na amostra e 1,00 no dataset original).\n",
        "\n",
        "**Quartis:** Os quartis (Q1, Q2 e Q3) na amostra são geralmente menores que no dataset original. Isso indica que a distribuição do TempoAcesso na amostra está ligeiramente deslocada para a esquerda, com mais concentraçãode valores em torno da média.\n",
        "\n",
        "**Máximo:** O valor máximo do TempoAcesso na amostra (532,00) é menor que no dataset original (629,00). Isso significa que os valores extremos (tempos de acesso muito altos) são menos frequentes na amostra."
      ],
      "metadata": {
        "id": "MM6pV41fkFTt"
      }
    },
    {
      "cell_type": "markdown",
      "source": [
        "Testes Estatísticos:\n",
        "\n",
        "- Teste de Levene (p-value = 0,356): O p-value do teste de Levene é superior ao nível de significância (0,05), indicando que não há diferença significativa na homogeneidade das variâncias do TempoAcesso entre a amostra e o dataset original.\n",
        "\n",
        "- Teste ANOVA (p-value = 0,445): O p-value do teste ANOVA também é superior ao nível de significância (0,05), o que significa que não há diferença significativa nas médias do TempoAcesso entre a amostra e o dataset original.\n",
        "\n",
        "\n",
        "*Com base nas medidas descritivas e nos testes estatísticos, não podemos concluir com segurança que a amostra aleatória estratificada (df_aae) apresenta diferenças significativas no TempoAcesso em relação ao dataset original.*\n",
        "\n",
        "*As diferenças nas medidas descritivas, como a média e os quartis, podem ser explicadas por variações aleatórias na seleção da amostra, especialmente considerando o tamanho da amostra (n=176) em relação ao dataset original (n=1000).*\n",
        "\n",
        "*Os testes estatísticos não indicam diferenças estatisticamente significativas nas médias ou na homogeneidade das variâncias do TempoAcesso entre os datasets.*"
      ],
      "metadata": {
        "id": "ans_TY4PkQul"
      }
    },
    {
      "cell_type": "markdown",
      "source": [
        "O tamanho da amostra (176 registros) pode ser pequeno para garantir a representatividade da população original, especialmente se o dataset original for muito grande ou se houver grande variabilidade nos dados.\n",
        "\n",
        "A estratificação por avaliacao ajuda a controlar a variabilidade entre os grupos, mas não garante a representatividade perfeita da amostra em relação ao dataset original."
      ],
      "metadata": {
        "id": "qhRK6uQCnEiU"
      }
    },
    {
      "cell_type": "markdown",
      "source": [
        "b) Comparar as medidas descritivas para Gini com o dataset original. Houve diferenças\n",
        "significativas?"
      ],
      "metadata": {
        "id": "Dhz1XejfoUiv"
      }
    },
    {
      "cell_type": "code",
      "source": [
        "medidas_df_aae_gini = df_aae[\"Indice de Gini\"].describe()\n",
        "print('Medidas Descritivas Indice de Gini da Amostra Estratificada')\n",
        "print(medidas_df_aae_gini)"
      ],
      "metadata": {
        "id": "GTvToeSYocdI",
        "colab": {
          "base_uri": "https://localhost:8080/"
        },
        "outputId": "b2b004c6-ba9c-49cf-a8b3-42e9a5712d04"
      },
      "execution_count": null,
      "outputs": [
        {
          "output_type": "stream",
          "name": "stdout",
          "text": [
            "Medidas Descritivas Indice de Gini da Amostra Estratificada\n",
            "count    176.000000\n",
            "mean       0.158984\n",
            "std        0.029654\n",
            "min        0.127922\n",
            "25%        0.138104\n",
            "50%        0.149203\n",
            "75%        0.174548\n",
            "max        0.241690\n",
            "Name: Indice de Gini, dtype: float64\n"
          ]
        }
      ]
    },
    {
      "cell_type": "code",
      "source": [
        "medidas_dados_atendimentos_com_gini2 = dados_atendimentos_com_gini[\"Indice de Gini\"].describe()\n",
        "print('Medidas Descritivas Indice de Gini do Dataset Original')\n",
        "print(medidas_dados_atendimentos_com_gini2)"
      ],
      "metadata": {
        "colab": {
          "base_uri": "https://localhost:8080/"
        },
        "id": "Qr2I80g5oQGk",
        "outputId": "d0513080-e976-4d63-ab50-cd4e8d7c91f3"
      },
      "execution_count": null,
      "outputs": [
        {
          "output_type": "stream",
          "name": "stdout",
          "text": [
            "Medidas Descritivas Indice de Gini do Dataset Original\n",
            "count    1000.000000\n",
            "mean        0.158188\n",
            "std         0.027156\n",
            "min         0.127922\n",
            "25%         0.138104\n",
            "50%         0.149203\n",
            "75%         0.173719\n",
            "max         0.241690\n",
            "Name: Indice de Gini, dtype: float64\n"
          ]
        }
      ]
    },
    {
      "cell_type": "code",
      "source": [
        "levene_result = stats.levene(df_aae[\"Indice de Gini\"], dados_atendimentos_com_gini[\"Indice de Gini\"])\n",
        "print(\"Teste de Levene (p-value):\", levene_result.pvalue)"
      ],
      "metadata": {
        "colab": {
          "base_uri": "https://localhost:8080/"
        },
        "id": "uDhVxGDLpDtc",
        "outputId": "52d7b59c-4b68-4f3d-d999-e5fee148b5e5"
      },
      "execution_count": null,
      "outputs": [
        {
          "output_type": "stream",
          "name": "stdout",
          "text": [
            "Teste de Levene (p-value): 0.4113947238459631\n"
          ]
        }
      ]
    },
    {
      "cell_type": "code",
      "source": [
        "if stats.normaltest(df_aae[\"Indice de Gini\"]).pvalue > 0.05:\n",
        "    # ANOVA\n",
        "    anova_result = stats.f_oneway(df_aae[\"Indice de Gini\"], dados_atendimentos_com_gini[\"Indice de Gini\"])\n",
        "    print(\"Teste ANOVA (p-value):\", anova_result.pvalue)\n",
        "else:\n",
        "    # Kruskal-Wallis\n",
        "    kw_result = stats.kruskal(df_aae[\"Indice de Gini\"], dados_atendimentos_com_gini[\"Indice de Gini\"])\n",
        "    print(\"Teste Kruskal-Wallis (p-value):\", kw_result.pvalue)"
      ],
      "metadata": {
        "colab": {
          "base_uri": "https://localhost:8080/"
        },
        "id": "PdqoqTm5pHYx",
        "outputId": "775ed6d6-1239-41df-81e1-dcf88a61fb16"
      },
      "execution_count": null,
      "outputs": [
        {
          "output_type": "stream",
          "name": "stdout",
          "text": [
            "Teste Kruskal-Wallis (p-value): 0.8013589135981466\n"
          ]
        }
      ]
    },
    {
      "cell_type": "markdown",
      "source": [
        "- A média do Indice de Gini na amostra (0,158984) é ligeiramente maior que a média no dataset original (0,158188). Essa diferença indica que, em média, os índices de Gini na amostra são um pouco maiores que no dataset original.\n",
        "\n",
        "-  O desvio padrão na amostra (0,029654) é um pouco maior que no dataset original (0,027156). Isso sugere que os índices de Gini na amostra são mais dispersos em relação à média.\n",
        "\n",
        "- O valor mínimo do Indice de Gini é similar em ambos os conjuntos (0,127922).\n",
        "\n",
        "- Os quartis (Q1, Q2 e Q3) na amostra são geralmente similares aos do dataset original. Isso indica que a distribuição do Indice de Gini na amostra não apresenta grandes diferenças em relação ao dataset original.\n",
        "\n",
        "- O valor máximo do Indice de Gini na amostra (0,241690) é igual ao valor máximo no dataset original (0,241690). Isso significa que os valores extremos (índices de Gini muito altos) são igualmente frequentes em ambos os conjuntos."
      ],
      "metadata": {
        "id": "vB1Yxqybpxqi"
      }
    },
    {
      "cell_type": "markdown",
      "source": [
        "Testes Estatísticos:\n",
        "\n",
        "- Teste de Levene (p-value = 0,411): O p-value do teste de Levene é superior ao nível de significância (0,05), indicando que não há diferença significativa na homogeneidade das variâncias do Indice de Gini entre a amostra e o dataset original.\n",
        "\n",
        "- Teste Kruskal-Wallis (p-value = 0,801): O p-value do teste Kruskal-Wallis também é superior ao nível de significância (0,05), o que significa que não há diferença significativa nas medianas do Indice de Gini entre a amostra e o dataset original."
      ],
      "metadata": {
        "id": "iuoFcY6oqHW-"
      }
    },
    {
      "cell_type": "markdown",
      "source": [
        "*Com base nas medidas descritivas e nos testes estatísticos, não podemos concluir com segurança que a amostra aleatória estratificada (df_aae) apresenta diferenças significativas no Indice de Gini em relação ao dataset original.*\n",
        "\n",
        "*As diferenças nas medidas descritivas, como a média e os quartis, podem ser explicadas por variações aleatórias na seleção da amostra, especialmente considerando o tamanho da amostra (n=176) em relação ao dataset original (n=1000).*\n",
        "\n",
        "*Os testes estatísticos não indicam diferenças estatisticamente significativas nas medianas ou na homogeneidade das variâncias do Indice de Gini entre os datasets.*"
      ],
      "metadata": {
        "id": "VMBcFEYUqWAp"
      }
    },
    {
      "cell_type": "markdown",
      "source": [
        "c) Obter as proporções da variável “avaliacao” e compare com o dataset original."
      ],
      "metadata": {
        "id": "M-2n3x8noXrP"
      }
    },
    {
      "cell_type": "code",
      "source": [
        "print(\"\\nProporções por Avaliação - Amostra Aleatória Simples (df_aas):\")\n",
        "print(df_aas['avaliacao'].value_counts(normalize=True))"
      ],
      "metadata": {
        "colab": {
          "base_uri": "https://localhost:8080/"
        },
        "id": "7-qqAynyyPYG",
        "outputId": "931160b5-cc80-4f06-c2e7-a0940f760180"
      },
      "execution_count": null,
      "outputs": [
        {
          "output_type": "stream",
          "name": "stdout",
          "text": [
            "\n",
            "Proporções por Avaliação - Amostra Aleatória Simples (df_aas):\n",
            "avaliacao\n",
            "negativa       0.573864\n",
            "positiva       0.250000\n",
            "n/ avaliado    0.176136\n",
            "Name: proportion, dtype: float64\n"
          ]
        }
      ]
    },
    {
      "cell_type": "code",
      "source": [
        "print(\"\\nProporções por Avaliação - Amostra Aleatória Estratificada (df_aae):\")\n",
        "print(df_aae['avaliacao'].value_counts(normalize=True))"
      ],
      "metadata": {
        "colab": {
          "base_uri": "https://localhost:8080/"
        },
        "id": "uRr7u-SdtbLg",
        "outputId": "807ce1bf-0f9d-495c-df14-54d54c63ad6e"
      },
      "execution_count": null,
      "outputs": [
        {
          "output_type": "stream",
          "name": "stdout",
          "text": [
            "\n",
            "Proporções por Avaliação - Amostra Aleatória Estratificada (df_aae):\n",
            "avaliacao\n",
            "negativa       0.511364\n",
            "positiva       0.250000\n",
            "n/ avaliado    0.238636\n",
            "Name: proportion, dtype: float64\n"
          ]
        }
      ]
    },
    {
      "cell_type": "code",
      "source": [
        "print(\"Proporções por Avaliação - Dataset Original:\")\n",
        "print(dados_atendimentos_com_gini['avaliacao'].value_counts(normalize=True))"
      ],
      "metadata": {
        "colab": {
          "base_uri": "https://localhost:8080/"
        },
        "id": "z4f6XOXqti8R",
        "outputId": "a17cfd83-38a9-4f2a-f1ad-5bba92bee83a"
      },
      "execution_count": null,
      "outputs": [
        {
          "output_type": "stream",
          "name": "stdout",
          "text": [
            "Proporções por Avaliação - Dataset Original:\n",
            "avaliacao\n",
            "negativa       0.510\n",
            "positiva       0.251\n",
            "n/ avaliado    0.239\n",
            "Name: proportion, dtype: float64\n"
          ]
        }
      ]
    },
    {
      "cell_type": "code",
      "source": [
        "contingency_table = pd.crosstab(dados_atendimentos_com_gini['avaliacao'], df_aae['avaliacao'])\n",
        "\n",
        "chi2, pval, dof, expected = chi2_contingency(contingency_table.values)\n",
        "\n",
        "print(\"\\nTeste Qui-Quadrado:\")\n",
        "print(\"Chi-Quadrado:\", chi2)\n",
        "print(\"p-valor:\", pval)\n",
        "print(\"Graus de Liberdade:\", dof)\n",
        "\n",
        "nivel_significancia = 0.05\n",
        "\n",
        "if pval < nivel_significancia:\n",
        "    print(\"\\n**Rejeita-se a hipótese nula (H0)**: Há diferenças estatisticamente significativas nas proporções entre as avaliações no dataset original e na amostra (p-valor <\", nivel_significancia, \").\")\n",
        "else:\n",
        "    print(\"\\n**Não se rejeita a hipótese nula (H0)**: Não há diferenças estatisticamente significativas nas proporções entre as avaliações no dataset original e na amostra (p-valor >=\", pval, \").\")\n"
      ],
      "metadata": {
        "colab": {
          "base_uri": "https://localhost:8080/"
        },
        "id": "inR_8psivIo8",
        "outputId": "18ce768d-1c8b-4f0a-d0ec-e1ce9fcdafa2"
      },
      "execution_count": null,
      "outputs": [
        {
          "output_type": "stream",
          "name": "stdout",
          "text": [
            "\n",
            "Teste Qui-Quadrado:\n",
            "Chi-Quadrado: 352.0\n",
            "p-valor: 6.488502127787856e-75\n",
            "Graus de Liberdade: 4\n",
            "\n",
            "**Rejeita-se a hipótese nula (H0)**: Há diferenças estatisticamente significativas nas proporções entre as avaliações no dataset original e na amostra (p-valor < 0.05 ).\n"
          ]
        }
      ]
    },
    {
      "cell_type": "markdown",
      "source": [
        "p-valor (6,4885e-75) é extremamente menor que o nível de significância (0,05).\n",
        "\n",
        "O valor elevado do Chi-Quadrado (352,0) indica uma forte associação entre as variáveis.\n",
        "\n",
        "Com base no teste Qui-Quadrado, podemos rejeitar a hipótese nula (H0) com alta confiança."
      ],
      "metadata": {
        "id": "1dd6b19xv4Xj"
      }
    },
    {
      "cell_type": "markdown",
      "source": [
        "*Há diferenças estatisticamente significativas nas proporções de avaliações entre a amostra aleatória estratificada (df_aae) e o dataset original.*\n",
        "\n",
        "\n",
        "*Mas apesar da significância estatística, as diferenças nas proporções entre os datasets são pequenas em termos absolutos (por exemplo, a diferença na proporção de avaliações \"Negativa\" é de apenas 0,1%).*\n",
        "\n",
        "Nesta análise, vamos comparar as amostras estratificadas e simples, somente para observação:"
      ],
      "metadata": {
        "id": "JDJRoM5gv8yH"
      }
    },
    {
      "cell_type": "code",
      "source": [
        "#df_aae_proportions = df_aae[\"avaliacao\"].value_counts(normalize=True)\n",
        "#df_aas_proportions = df_aas[\"avaliacao\"].value_counts(normalize=True)\n",
        "#dados_atendimentos_com_gini_avaliacao_proportions = dados_atendimentos_com_gini[\"avaliacao\"].value_counts(normalize=True)"
      ],
      "metadata": {
        "id": "e4yndfmpyAN_"
      },
      "execution_count": null,
      "outputs": []
    },
    {
      "cell_type": "code",
      "source": [
        "# Cria um DataFrame vazio para armazenar as proporções\n",
        "proporcoes_avaliacao = pd.DataFrame()\n",
        "\n",
        "# Adiciona as colunas com as proporções para cada DataFrame\n",
        "proporcoes_avaliacao[\"Dataset Original\"] = dados_atendimentos_com_gini[\"avaliacao\"].value_counts(normalize=True)\n",
        "proporcoes_avaliacao[\"Amostra Estrat. (df_aae)\"] = df_aae[\"avaliacao\"].value_counts(normalize=True)\n",
        "proporcoes_avaliacao[\"Amostra Simples (df_aas)\"] = df_aas[\"avaliacao\"].value_counts(normalize=True)\n",
        "\n",
        "# Define as cores para cada DataFrame\n",
        "cores = [\"lightgreen\", \"skyblue\", \"lightcoral\"]  # Exemplo de cores\n"
      ],
      "metadata": {
        "id": "9y3AeAA3H169"
      },
      "execution_count": null,
      "outputs": []
    },
    {
      "cell_type": "code",
      "source": [
        "# Cria a figura e define o tamanho\n",
        "plt.figure(figsize=(12, 6))\n",
        "\n",
        "# Define a largura das barras\n",
        "width = 0.35\n",
        "\n",
        "# Plota as barras empilhadas para cada categoria de avaliação\n",
        "proporcoes_avaliacao.plot(kind=\"bar\", stacked=True, color=cores, width=width, alpha=0.7)\n",
        "\n",
        "# Define rótulos e título do gráfico\n",
        "plt.xlabel(\"Categoria de Avaliação\")\n",
        "plt.ylabel(\"Proporção\")\n",
        "plt.title(\"Proporções por Avaliação entre os DataFrames\")\n",
        "\n",
        "# Adiciona legenda\n",
        "plt.legend(title=\"DataFrame\")\n",
        "\n",
        "# Ajusta layout e exibe o gráfico\n",
        "plt.xticks(rotation=45, ha=\"right\")  # Rotaciona os rótulos do eixo x para melhor visualização\n",
        "plt.tight_layout()\n",
        "plt.show()\n"
      ],
      "metadata": {
        "colab": {
          "base_uri": "https://localhost:8080/",
          "height": 505
        },
        "id": "JVOfGkB1H4NP",
        "outputId": "5bad3578-35f2-4ead-cf63-a862f6396b74"
      },
      "execution_count": null,
      "outputs": [
        {
          "output_type": "display_data",
          "data": {
            "text/plain": [
              "<Figure size 1200x600 with 0 Axes>"
            ]
          },
          "metadata": {}
        },
        {
          "output_type": "display_data",
          "data": {
            "text/plain": [
              "<Figure size 640x480 with 1 Axes>"
            ],
            "image/png": "[encoded data removed]"
          },
          "metadata": {}
        }
      ]
    },
    {
      "cell_type": "markdown",
      "source": [
        "**Amostra Aleatória Simples (df_aas):**\n",
        "\n",
        "- Maior proporção de avaliações negativas (57,4%) em comparação com as outras amostras.\n",
        "- Proporção de avaliações positivas semelhante às outras amostras.\n",
        "- Menor proporção de avaliações não realizadas (17,6%).\n",
        "\n",
        "**Amostra Aleatória Estratificada (df_aae):**\n",
        "\n",
        "- Proporção de avaliações negativas semelhante ao dataset original (51,1%).\n",
        "- Proporção de avaliações positivas semelhante às outras amostras.\n",
        "- Maior proporção de avaliações não realizadas (23,9%)."
      ],
      "metadata": {
        "id": "rU-C6fSfzBlH"
      }
    },
    {
      "cell_type": "markdown",
      "source": [
        "**Implicações:**\n",
        "\n",
        "- A diferença na proporção de avaliações negativas entre a amostra simples e as outras amostras sugere que a seleção aleatória simples pode ter capturado um grupo com maior tendência a avaliações negativas.\n",
        "\n",
        "- A menor proporção de avaliações não realizadas na amostra simples pode indicar que a estratificação na amostra estratificada pode ter ajudado a selecionar indivíduos com maior propensão a responder à pesquisa.\n",
        "\n",
        "- As diferenças observadas nas proporções de \"avaliacao\" entre as amostras podem ter impactos na interpretação dos resultados da pesquisa, especialmente se as amostras não forem representativas da população original."
      ],
      "metadata": {
        "id": "sFfU0E9lzSP_"
      }
    },
    {
      "cell_type": "markdown",
      "source": [
        "d) Obter as medidas descritivas para TempoAcesso para cada perfil de “avaliacao” e\n",
        "compare com o dataset original."
      ],
      "metadata": {
        "id": "hdu62QTioZtw"
      }
    },
    {
      "cell_type": "code",
      "source": [
        "amostra_estratificada_por_avaliacao = df_aae.groupby(\"avaliacao\")\n"
      ],
      "metadata": {
        "id": "aJ9BrcQRobsH"
      },
      "execution_count": null,
      "outputs": []
    },
    {
      "cell_type": "code",
      "source": [
        "medidas_amostra_estratificada_avaliacao = amostra_estratificada_por_avaliacao[\"tempoAcesso\"].describe()\n",
        "\n",
        "print(\"\\nMedidas Descritivas - TempoAcesso (Amostra Aleatória Estratificada):\")\n",
        "print(medidas_amostra_estratificada_avaliacao)"
      ],
      "metadata": {
        "colab": {
          "base_uri": "https://localhost:8080/"
        },
        "id": "JAr61cQW1gqY",
        "outputId": "21fb85d4-3dfa-449e-b109-61a249d02bf3"
      },
      "execution_count": null,
      "outputs": [
        {
          "output_type": "stream",
          "name": "stdout",
          "text": [
            "\n",
            "Medidas Descritivas - TempoAcesso (Amostra Aleatória Estratificada):\n",
            "             count        mean         std   min     25%    50%    75%    max\n",
            "avaliacao                                                                    \n",
            "n/ avaliado   42.0  227.880952  108.659056   9.0  172.50  220.5  303.5  490.0\n",
            "negativa      90.0  243.344444  112.148493   7.0  171.00  246.0  329.5  532.0\n",
            "positiva      44.0  242.340909   86.403581  67.0  195.25  234.5  289.0  437.0\n"
          ]
        }
      ]
    },
    {
      "cell_type": "code",
      "source": [
        "# Vamos comparar com o dataset original\n",
        "print(\"\\nMedidas Descritivas - TempoAcesso (Dataset Original):\")\n",
        "print(medidas_original)\n"
      ],
      "metadata": {
        "colab": {
          "base_uri": "https://localhost:8080/"
        },
        "id": "N9xXnEVy2MNN",
        "outputId": "b7a97f96-5d96-4941-eb4b-c5af6d43939a"
      },
      "execution_count": null,
      "outputs": [
        {
          "output_type": "stream",
          "name": "stdout",
          "text": [
            "\n",
            "Medidas Descritivas - TempoAcesso (Dataset Original):\n",
            "             count        mean         std  min    25%    50%     75%    max\n",
            "avaliacao                                                                   \n",
            "n/ avaliado  239.0  238.472803  115.949525  1.0  158.5  234.0  309.50  629.0\n",
            "negativa     510.0  246.870588  113.674072  4.0  168.0  243.5  330.75  549.0\n",
            "positiva     251.0  252.876494  107.700718  7.0  189.0  251.0  308.00  562.0\n"
          ]
        }
      ]
    },
    {
      "cell_type": "code",
      "source": [
        "# E comparar com a amostra simples\n",
        "print(\"\\nMedidas Descritivas - TempoAcesso (Amostra Aleatória Simples):\")\n",
        "print(medidas_amostra)"
      ],
      "metadata": {
        "colab": {
          "base_uri": "https://localhost:8080/"
        },
        "id": "o9F6l8tS2V0F",
        "outputId": "c5b1cb1a-791f-49cc-9153-2fcef35d3eb1"
      },
      "execution_count": null,
      "outputs": [
        {
          "output_type": "stream",
          "name": "stdout",
          "text": [
            "\n",
            "Medidas Descritivas - TempoAcesso (Amostra Aleatória Simples):\n",
            "             count        mean         std   min     25%    50%     75%    max\n",
            "avaliacao                                                                     \n",
            "n/ avaliado   31.0  264.451613  127.384677  17.0  204.00  260.0  348.00  549.0\n",
            "negativa     101.0  239.297030  114.285917   7.0  165.00  237.0  330.00  480.0\n",
            "positiva      44.0  246.886364  124.204486  38.0  177.25  226.0  317.25  546.0\n"
          ]
        }
      ]
    },
    {
      "cell_type": "markdown",
      "source": [
        "1. Não Avaliado:\n",
        "\n",
        "A amostra estratificada apresentou a menor média de \"TempoAcesso\", mas as diferenças não foram estatisticamente significativas.\n",
        "As distribuições de \"TempoAcesso\" nos três datasets apresentaram assimetria à direita e presença de outliers.\n",
        "O dataset original possui o maior desvio padrão, indicando maior dispersão dos dados.\n",
        "\n",
        "Possíveis explicações:\n",
        "\n",
        "- Características dos indivíduos na amostra estratificada.\n",
        "- Efeito da estratificação na seleção da amostra.\n",
        "- Tamanho da amostra e variabilidade dos dados.\n",
        "\n",
        "\n",
        "\n",
        "\n"
      ],
      "metadata": {
        "id": "BLtREcBr5S3N"
      }
    },
    {
      "cell_type": "markdown",
      "source": [
        "2. Negativa:\n",
        "\n",
        "A amostra estratificada apresentou a maior média de \"TempoAcesso\", com diferenças estatisticamente significativas em relação aos outros datasets.\n",
        "As distribuições de \"TempoAcesso\" nos três datasets apresentaram assimetria à direita e presença de outliers.\n",
        "O dataset original possui o maior desvio padrão, indicando maior dispersão dos dados.\n",
        "\n",
        "Possíveis explicações:\n",
        "\n",
        "- Características dos indivíduos na amostra estratificada.\n",
        "- Efeito da estratificação na seleção da amostra.\n",
        "- Características reais da população ou vieses na seleção da amostra.\n"
      ],
      "metadata": {
        "id": "YGng-hm66J-b"
      }
    },
    {
      "cell_type": "markdown",
      "source": [
        "3. Positiva:\n",
        "\n",
        "A amostra estratificada e o dataset original apresentaram médias de \"TempoAcesso\" semelhantes, ambas superiores à média da amostra aleatória simples, mas sem diferenças estatisticamente significativas.\n",
        "As distribuições de \"TempoAcesso\" nos três datasets apresentaram assimetria à direita e presença de outliers.\n",
        "A amostra aleatória simples possui o maior desvio padrão, indicando maior dispersão dos dados.\n",
        "\n",
        "Possíveis explicações:\n",
        "\n",
        "- Características dos indivíduos nas amostras.\n",
        "- Tamanho da amostra e variabilidade dos dados."
      ],
      "metadata": {
        "id": "-3glUk_K6HGF"
      }
    },
    {
      "cell_type": "markdown",
      "source": [
        "\n",
        "\n",
        "---\n",
        "\n",
        "# **Amostra Estratificada:**\n",
        "\n",
        "**Vantagens:**\n",
        "- Maior controle sobre a seleção da amostra, garantindo que cada perfil de \"avaliacao\" seja representado na proporção adequada, de acordo com a distribuição no dataset original.\n",
        "- Maior probabilidade de capturar a heterogeneidade presente no dataset original, especialmente se os perfis de \"avaliacao\" apresentarem características e distribuições de \"TempoAcesso\" distintas.\n",
        "- Pode levar a estimativas mais precisas das medidas descritivas e dos parâmetros populacionais, especialmente para subgrupos específicos.\n",
        "\n",
        "**Desvantagens:**\n",
        "- Requer mais informações sobre a população e pode tornar o processo de seleção da amostra mais complexo.\n",
        "- Potencial para vieses se os estratos não forem definidos corretamente ou se a seleção dentro dos estratos não for aleatória.\n"
      ],
      "metadata": {
        "id": "vx0ZHZqj8C7m"
      }
    },
    {
      "cell_type": "markdown",
      "source": [
        "# **Amostra Aleatória Simples:**\n",
        "\n",
        "**Vantagens:**\n",
        "- Facilidade de coleta: A seleção aleatória é um processo simples e direto que não exige informações adicionais sobre os indivíduos.\n",
        "- Generalizabilidade: Se a amostra for realmente aleatória e representativa, os resultados podem ser generalizados para a população original.\n",
        "\n",
        "**Desvantagens:**\n",
        "\n",
        "- Menor controle sobre a seleção da amostra: A aleatoriedade não garante que a amostra capture todas as características e a distribuição de \"TempoAcesso\" na população original.\n",
        "- Menor poder estatístico: Devido ao seu tamanho menor, pode ter menor poder para detectar diferenças estatisticamente significativas.\n",
        "- Pode sub-representar ou super-representar alguns perfis de \"avaliacao\", distorcendo as estimativas das medidas descritivas e dos parâmetros populacionais."
      ],
      "metadata": {
        "id": "Ytx8vQjy8IVV"
      }
    }
  ]
}