{
  "nbformat": 4,
  "nbformat_minor": 0,
  "metadata": {
    "colab": {
      "provenance": [],
      "authorship_tag": "ABX9TyM6+LEWGIzEs1zNksEY4d1I",
      "include_colab_link": true
    },
    "kernelspec": {
      "name": "python3",
      "display_name": "Python 3"
    },
    "language_info": {
      "name": "python"
    }
  },
  "cells": [
    {
      "cell_type": "markdown",
      "metadata": {
        "id": "view-in-github",
        "colab_type": "text"
      },
      "source": [
        "<a href=\"https://colab.research.google.com/github/ingrid-revitti/DS/blob/main/CP3_Statistics.ipynb\" target=\"_parent\"><img src=\"https://colab.research.google.com/assets/colab-badge.svg\" alt=\"Open In Colab\"/></a>"
      ]
    },
    {
      "cell_type": "markdown",
      "source": [
        "# **Atividade 3 – Projeto relacionamento com clientes**"
      ],
      "metadata": {
        "id": "EHMIxx1XuSLf"
      }
    },
    {
      "cell_type": "code",
      "execution_count": null,
      "metadata": {
        "id": "GiPgTQoytYue"
      },
      "outputs": [],
      "source": [
        "import numpy as np\n",
        "import pandas as pd\n",
        "import seaborn as sns\n",
        "import matplotlib.pyplot as plt\n",
        "from scipy.stats import t\n",
        "import scipy.stats\n",
        "from scipy.stats import f, f_oneway"
      ]
    },
    {
      "cell_type": "markdown",
      "source": [
        "Você é um cientista de dados de um Banco no Brasil. Na etapa de atendimento, existe um espaço para os clientes realizarem uma avaliação do processo. No banco de dados “avaliações_clientes.csv” temos algumas informações sobre acessos, resultados e avaliações.\n",
        "\n",
        "Utilizar o arquivo checkpoint3_sem2.ipynb para obter os dados do Banco e carregar os dados do censo de 2010. Faça e responda as seguintes perguntas:"
      ],
      "metadata": {
        "id": "FtvqWbK6uZSX"
      }
    },
    {
      "cell_type": "code",
      "source": [
        "\n",
        "def gini(array):\n",
        "    \"\"\"Calculate the Gini coefficient of a numpy array.\"\"\"\n",
        "    # Garantir que o array seja unidimensional\n",
        "    array = np.asarray(array).flatten()\n",
        "\n",
        "    # Verificar se há valores negativos e fazer ajuste se necessário\n",
        "    if np.amin(array) < 0:\n",
        "        array -= np.amin(array)\n",
        "\n",
        "    # Verificar e ajustar valores zero\n",
        "    if np.any(array == 0):\n",
        "        # Adicionar um valor pequeno aos elementos zero para evitar divisão por zero\n",
        "        array[array == 0] = 0.000001\n",
        "\n",
        "    # Ordenar o array\n",
        "    array = np.sort(array)\n",
        "\n",
        "    # Índice para cada elemento do array\n",
        "    index = np.arange(1, array.shape[0] + 1)\n",
        "\n",
        "    # Número de elementos do array\n",
        "    n = array.shape[0]\n",
        "\n",
        "    # Calcular o coeficiente de Gini\n",
        "    gini_coefficient = ((np.sum((2 * index - n - 1) * array)) / (n * np.sum(array)))\n",
        "\n",
        "    return gini_coefficient\n"
      ],
      "metadata": {
        "id": "ykyIbgc6xg_s"
      },
      "execution_count": null,
      "outputs": []
    },
    {
      "cell_type": "code",
      "source": [
        "df_atend = pd.read_csv('dados_atendimentos.csv')"
      ],
      "metadata": {
        "id": "is5EPoGKxoAd"
      },
      "execution_count": null,
      "outputs": []
    },
    {
      "cell_type": "code",
      "source": [
        "df_renda = pd.read_csv('dados_renda_municipios_2010.csv')"
      ],
      "metadata": {
        "id": "7u30AdE_xoic"
      },
      "execution_count": null,
      "outputs": []
    },
    {
      "cell_type": "markdown",
      "source": [
        "1 – Na tabela do censo de 2010, obter o índice de Gini por UF (state) (criar um dataframe como\n",
        "df_gini_estado) e realizar o join das tabelas de atendimento e df_gini_estado."
      ],
      "metadata": {
        "id": "lIsH3ET6uiAu"
      }
    },
    {
      "cell_type": "code",
      "source": [
        "df_gini_estado = df_renda.groupby('state')['RDPC'].apply(gini).reset_index(name='Indice de Gini')\n",
        "\n",
        "print(df_gini_estado)"
      ],
      "metadata": {
        "colab": {
          "base_uri": "https://localhost:8080/"
        },
        "id": "AetnrH3FuYwp",
        "outputId": "47fc9fd7-2d53-470d-8cf2-4ad6b16807b6"
      },
      "execution_count": null,
      "outputs": [
        {
          "output_type": "stream",
          "name": "stdout",
          "text": [
            "   state  Indice de Gini\n",
            "0     AC        0.195495\n",
            "1     AL        0.140823\n",
            "2     AM        0.180262\n",
            "3     AP        0.177035\n",
            "4     BA        0.160275\n",
            "5     CE        0.132551\n",
            "6     DF        0.000000\n",
            "7     ES        0.153020\n",
            "8     GO        0.138104\n",
            "9     MA        0.187907\n",
            "10    MG        0.192143\n",
            "11    MS        0.134532\n",
            "12    MT        0.154616\n",
            "13    PA        0.208619\n",
            "14    PB        0.134084\n",
            "15    PE        0.169153\n",
            "16    PI        0.149203\n",
            "17    PR        0.131235\n",
            "18    RJ        0.146672\n",
            "19    RN        0.144012\n",
            "20    RO        0.127922\n",
            "21    RR        0.241690\n",
            "22    RS        0.153786\n",
            "23    SC        0.137464\n",
            "24    SE        0.140378\n",
            "25    SP        0.140590\n",
            "26    TO        0.173719\n"
          ]
        }
      ]
    },
    {
      "cell_type": "code",
      "source": [
        "df_atend_com_gini = pd.merge(df_atend, df_gini_estado, on='state', how='left')"
      ],
      "metadata": {
        "id": "lGAUJpk6yDie"
      },
      "execution_count": null,
      "outputs": []
    },
    {
      "cell_type": "code",
      "source": [
        "df_atend_com_gini"
      ],
      "metadata": {
        "id": "6b7xWONeycMW",
        "outputId": "e050bfb5-1a63-4d32-94be-8c85ba732223",
        "colab": {
          "base_uri": "https://localhost:8080/",
          "height": 791
        }
      },
      "execution_count": null,
      "outputs": [
        {
          "output_type": "execute_result",
          "data": {
            "text/plain": [
              "     idEntrada state  usuarioOnline statusSaida  paginaSaida avaliacao  \\\n",
              "0            1    CE              1         80%            1  positiva   \n",
              "1            2    PE              0         40%            3  negativa   \n",
              "2            3    CE              0         60%            2  negativa   \n",
              "3            4    PR              0         20%            4  negativa   \n",
              "4            5    TO              0         20%            4  positiva   \n",
              "..         ...   ...            ...         ...          ...       ...   \n",
              "995        996    CE              0         40%            3  positiva   \n",
              "996        997    AP              0         40%            3  negativa   \n",
              "997        998    AM              0         60%            2  negativa   \n",
              "998        999    ES              0         40%            3  negativa   \n",
              "999       1000    RO              0        100%            0  negativa   \n",
              "\n",
              "      dataHoraEntrada     dataHoraSaida      dataHoraErro  tempoAcesso  \\\n",
              "0    18/05/2021 17:57  18/05/2021 18:00  18/05/2021 17:59          173   \n",
              "1    18/05/2021 17:57  18/05/2021 18:01  18/05/2021 18:00          212   \n",
              "2    18/05/2021 17:57  18/05/2021 18:04  18/05/2021 18:03          427   \n",
              "3    18/05/2021 17:57  18/05/2021 18:01  18/05/2021 18:00          248   \n",
              "4    18/05/2021 17:57  18/05/2021 18:01  18/05/2021 18:02          256   \n",
              "..                ...               ...               ...          ...   \n",
              "995  18/05/2021 17:57  18/05/2021 18:01  18/05/2021 18:00          229   \n",
              "996  18/05/2021 17:57  18/05/2021 18:03  18/05/2021 18:02          368   \n",
              "997  18/05/2021 17:57  18/05/2021 17:58  18/05/2021 17:57           78   \n",
              "998  18/05/2021 17:57  18/05/2021 18:00  18/05/2021 17:59          177   \n",
              "999  18/05/2021 17:57  18/05/2021 18:01  18/05/2021 18:00          210   \n",
              "\n",
              "     codigo                                               erro  Indice de Gini  \n",
              "0       550  \"NO MOMENTO ESTE SERIVCO ESTA INDISPONIVEL. PO...        0.132551  \n",
              "1       550        \"ERRO NA VALIDACAO DE DADOS COMPLEMENTARES\"        0.169153  \n",
              "2       500                            \"INTERNAL SERVER ERROR\"        0.132551  \n",
              "3       550                 \"CPF -CNPJ CLIENTE NAO CADASTRADO\"        0.131235  \n",
              "4       500  \"OPS! NÃO FOI POSSIVEL CONSULTAR O SALDO. TENT...        0.173719  \n",
              "..      ...                                                ...             ...  \n",
              "995     550                 \"CPF -CNPJ CLIENTE NAO CADASTRADO\"        0.132551  \n",
              "996     500  \"OPS! NÃO FOI POSSIVEL CONSULTAR O SALDO. TENT...        0.177035  \n",
              "997     550  \"NO MOMENTO ESTE SERIVCO ESTA INDISPONIVEL. PO...        0.180262  \n",
              "998     500                           \"CLIENTE NAO CADASTRADO\"        0.153020  \n",
              "999     550               \"NAO ENCONTROU DADOS PARA A SELECAO\"        0.127922  \n",
              "\n",
              "[1000 rows x 13 columns]"
            ],
            "text/html": [
              "\n",
              "  <div id=\"df-0decdae2-b9d2-481e-92b9-8846399cd404\" class=\"colab-df-container\">\n",
              "    <div>\n",
              "<style scoped>\n",
              "    .dataframe tbody tr th:only-of-type {\n",
              "        vertical-align: middle;\n",
              "    }\n",
              "\n",
              "    .dataframe tbody tr th {\n",
              "        vertical-align: top;\n",
              "    }\n",
              "\n",
              "    .dataframe thead th {\n",
              "        text-align: right;\n",
              "    }\n",
              "</style>\n",
              "<table border=\"1\" class=\"dataframe\">\n",
              "  <thead>\n",
              "    <tr style=\"text-align: right;\">\n",
              "      <th></th>\n",
              "      <th>idEntrada</th>\n",
              "      <th>state</th>\n",
              "      <th>usuarioOnline</th>\n",
              "      <th>statusSaida</th>\n",
              "      <th>paginaSaida</th>\n",
              "      <th>avaliacao</th>\n",
              "      <th>dataHoraEntrada</th>\n",
              "      <th>dataHoraSaida</th>\n",
              "      <th>dataHoraErro</th>\n",
              "      <th>tempoAcesso</th>\n",
              "      <th>codigo</th>\n",
              "      <th>erro</th>\n",
              "      <th>Indice de Gini</th>\n",
              "    </tr>\n",
              "  </thead>\n",
              "  <tbody>\n",
              "    <tr>\n",
              "      <th>0</th>\n",
              "      <td>1</td>\n",
              "      <td>CE</td>\n",
              "      <td>1</td>\n",
              "      <td>80%</td>\n",
              "      <td>1</td>\n",
              "      <td>positiva</td>\n",
              "      <td>18/05/2021 17:57</td>\n",
              "      <td>18/05/2021 18:00</td>\n",
              "      <td>18/05/2021 17:59</td>\n",
              "      <td>173</td>\n",
              "      <td>550</td>\n",
              "      <td>\"NO MOMENTO ESTE SERIVCO ESTA INDISPONIVEL. PO...</td>\n",
              "      <td>0.132551</td>\n",
              "    </tr>\n",
              "    <tr>\n",
              "      <th>1</th>\n",
              "      <td>2</td>\n",
              "      <td>PE</td>\n",
              "      <td>0</td>\n",
              "      <td>40%</td>\n",
              "      <td>3</td>\n",
              "      <td>negativa</td>\n",
              "      <td>18/05/2021 17:57</td>\n",
              "      <td>18/05/2021 18:01</td>\n",
              "      <td>18/05/2021 18:00</td>\n",
              "      <td>212</td>\n",
              "      <td>550</td>\n",
              "      <td>\"ERRO NA VALIDACAO DE DADOS COMPLEMENTARES\"</td>\n",
              "      <td>0.169153</td>\n",
              "    </tr>\n",
              "    <tr>\n",
              "      <th>2</th>\n",
              "      <td>3</td>\n",
              "      <td>CE</td>\n",
              "      <td>0</td>\n",
              "      <td>60%</td>\n",
              "      <td>2</td>\n",
              "      <td>negativa</td>\n",
              "      <td>18/05/2021 17:57</td>\n",
              "      <td>18/05/2021 18:04</td>\n",
              "      <td>18/05/2021 18:03</td>\n",
              "      <td>427</td>\n",
              "      <td>500</td>\n",
              "      <td>\"INTERNAL SERVER ERROR\"</td>\n",
              "      <td>0.132551</td>\n",
              "    </tr>\n",
              "    <tr>\n",
              "      <th>3</th>\n",
              "      <td>4</td>\n",
              "      <td>PR</td>\n",
              "      <td>0</td>\n",
              "      <td>20%</td>\n",
              "      <td>4</td>\n",
              "      <td>negativa</td>\n",
              "      <td>18/05/2021 17:57</td>\n",
              "      <td>18/05/2021 18:01</td>\n",
              "      <td>18/05/2021 18:00</td>\n",
              "      <td>248</td>\n",
              "      <td>550</td>\n",
              "      <td>\"CPF -CNPJ CLIENTE NAO CADASTRADO\"</td>\n",
              "      <td>0.131235</td>\n",
              "    </tr>\n",
              "    <tr>\n",
              "      <th>4</th>\n",
              "      <td>5</td>\n",
              "      <td>TO</td>\n",
              "      <td>0</td>\n",
              "      <td>20%</td>\n",
              "      <td>4</td>\n",
              "      <td>positiva</td>\n",
              "      <td>18/05/2021 17:57</td>\n",
              "      <td>18/05/2021 18:01</td>\n",
              "      <td>18/05/2021 18:02</td>\n",
              "      <td>256</td>\n",
              "      <td>500</td>\n",
              "      <td>\"OPS! NÃO FOI POSSIVEL CONSULTAR O SALDO. TENT...</td>\n",
              "      <td>0.173719</td>\n",
              "    </tr>\n",
              "    <tr>\n",
              "      <th>...</th>\n",
              "      <td>...</td>\n",
              "      <td>...</td>\n",
              "      <td>...</td>\n",
              "      <td>...</td>\n",
              "      <td>...</td>\n",
              "      <td>...</td>\n",
              "      <td>...</td>\n",
              "      <td>...</td>\n",
              "      <td>...</td>\n",
              "      <td>...</td>\n",
              "      <td>...</td>\n",
              "      <td>...</td>\n",
              "      <td>...</td>\n",
              "    </tr>\n",
              "    <tr>\n",
              "      <th>995</th>\n",
              "      <td>996</td>\n",
              "      <td>CE</td>\n",
              "      <td>0</td>\n",
              "      <td>40%</td>\n",
              "      <td>3</td>\n",
              "      <td>positiva</td>\n",
              "      <td>18/05/2021 17:57</td>\n",
              "      <td>18/05/2021 18:01</td>\n",
              "      <td>18/05/2021 18:00</td>\n",
              "      <td>229</td>\n",
              "      <td>550</td>\n",
              "      <td>\"CPF -CNPJ CLIENTE NAO CADASTRADO\"</td>\n",
              "      <td>0.132551</td>\n",
              "    </tr>\n",
              "    <tr>\n",
              "      <th>996</th>\n",
              "      <td>997</td>\n",
              "      <td>AP</td>\n",
              "      <td>0</td>\n",
              "      <td>40%</td>\n",
              "      <td>3</td>\n",
              "      <td>negativa</td>\n",
              "      <td>18/05/2021 17:57</td>\n",
              "      <td>18/05/2021 18:03</td>\n",
              "      <td>18/05/2021 18:02</td>\n",
              "      <td>368</td>\n",
              "      <td>500</td>\n",
              "      <td>\"OPS! NÃO FOI POSSIVEL CONSULTAR O SALDO. TENT...</td>\n",
              "      <td>0.177035</td>\n",
              "    </tr>\n",
              "    <tr>\n",
              "      <th>997</th>\n",
              "      <td>998</td>\n",
              "      <td>AM</td>\n",
              "      <td>0</td>\n",
              "      <td>60%</td>\n",
              "      <td>2</td>\n",
              "      <td>negativa</td>\n",
              "      <td>18/05/2021 17:57</td>\n",
              "      <td>18/05/2021 17:58</td>\n",
              "      <td>18/05/2021 17:57</td>\n",
              "      <td>78</td>\n",
              "      <td>550</td>\n",
              "      <td>\"NO MOMENTO ESTE SERIVCO ESTA INDISPONIVEL. PO...</td>\n",
              "      <td>0.180262</td>\n",
              "    </tr>\n",
              "    <tr>\n",
              "      <th>998</th>\n",
              "      <td>999</td>\n",
              "      <td>ES</td>\n",
              "      <td>0</td>\n",
              "      <td>40%</td>\n",
              "      <td>3</td>\n",
              "      <td>negativa</td>\n",
              "      <td>18/05/2021 17:57</td>\n",
              "      <td>18/05/2021 18:00</td>\n",
              "      <td>18/05/2021 17:59</td>\n",
              "      <td>177</td>\n",
              "      <td>500</td>\n",
              "      <td>\"CLIENTE NAO CADASTRADO\"</td>\n",
              "      <td>0.153020</td>\n",
              "    </tr>\n",
              "    <tr>\n",
              "      <th>999</th>\n",
              "      <td>1000</td>\n",
              "      <td>RO</td>\n",
              "      <td>0</td>\n",
              "      <td>100%</td>\n",
              "      <td>0</td>\n",
              "      <td>negativa</td>\n",
              "      <td>18/05/2021 17:57</td>\n",
              "      <td>18/05/2021 18:01</td>\n",
              "      <td>18/05/2021 18:00</td>\n",
              "      <td>210</td>\n",
              "      <td>550</td>\n",
              "      <td>\"NAO ENCONTROU DADOS PARA A SELECAO\"</td>\n",
              "      <td>0.127922</td>\n",
              "    </tr>\n",
              "  </tbody>\n",
              "</table>\n",
              "<p>1000 rows × 13 columns</p>\n",
              "</div>\n",
              "    <div class=\"colab-df-buttons\">\n",
              "\n",
              "  <div class=\"colab-df-container\">\n",
              "    <button class=\"colab-df-convert\" onclick=\"convertToInteractive('df-0decdae2-b9d2-481e-92b9-8846399cd404')\"\n",
              "            title=\"Convert this dataframe to an interactive table.\"\n",
              "            style=\"display:none;\">\n",
              "\n",
              "  <svg xmlns=\"http://www.w3.org/2000/svg\" height=\"24px\" viewBox=\"0 -960 960 960\">\n",
              "    <path d=\"M120-120v-720h720v720H120Zm60-500h600v-160H180v160Zm220 220h160v-160H400v160Zm0 220h160v-160H400v160ZM180-400h160v-160H180v160Zm440 0h160v-160H620v160ZM180-180h160v-160H180v160Zm440 0h160v-160H620v160Z\"/>\n",
              "  </svg>\n",
              "    </button>\n",
              "\n",
              "  <style>\n",
              "    .colab-df-container {\n",
              "      display:flex;\n",
              "      gap: 12px;\n",
              "    }\n",
              "\n",
              "    .colab-df-convert {\n",
              "      background-color: #E8F0FE;\n",
              "      border: none;\n",
              "      border-radius: 50%;\n",
              "      cursor: pointer;\n",
              "      display: none;\n",
              "      fill: #1967D2;\n",
              "      height: 32px;\n",
              "      padding: 0 0 0 0;\n",
              "      width: 32px;\n",
              "    }\n",
              "\n",
              "    .colab-df-convert:hover {\n",
              "      background-color: #E2EBFA;\n",
              "      box-shadow: 0px 1px 2px rgba(60, 64, 67, 0.3), 0px 1px 3px 1px rgba(60, 64, 67, 0.15);\n",
              "      fill: #174EA6;\n",
              "    }\n",
              "\n",
              "    .colab-df-buttons div {\n",
              "      margin-bottom: 4px;\n",
              "    }\n",
              "\n",
              "    [theme=dark] .colab-df-convert {\n",
              "      background-color: #3B4455;\n",
              "      fill: #D2E3FC;\n",
              "    }\n",
              "\n",
              "    [theme=dark] .colab-df-convert:hover {\n",
              "      background-color: #434B5C;\n",
              "      box-shadow: 0px 1px 3px 1px rgba(0, 0, 0, 0.15);\n",
              "      filter: drop-shadow(0px 1px 2px rgba(0, 0, 0, 0.3));\n",
              "      fill: #FFFFFF;\n",
              "    }\n",
              "  </style>\n",
              "\n",
              "    <script>\n",
              "      const buttonEl =\n",
              "        document.querySelector('#df-0decdae2-b9d2-481e-92b9-8846399cd404 button.colab-df-convert');\n",
              "      buttonEl.style.display =\n",
              "        google.colab.kernel.accessAllowed ? 'block' : 'none';\n",
              "\n",
              "      async function convertToInteractive(key) {\n",
              "        const element = document.querySelector('#df-0decdae2-b9d2-481e-92b9-8846399cd404');\n",
              "        const dataTable =\n",
              "          await google.colab.kernel.invokeFunction('convertToInteractive',\n",
              "                                                    [key], {});\n",
              "        if (!dataTable) return;\n",
              "\n",
              "        const docLinkHtml = 'Like what you see? Visit the ' +\n",
              "          '<a target=\"_blank\" href=https://colab.research.google.com/notebooks/data_table.ipynb>data table notebook</a>'\n",
              "          + ' to learn more about interactive tables.';\n",
              "        element.innerHTML = '';\n",
              "        dataTable['output_type'] = 'display_data';\n",
              "        await google.colab.output.renderOutput(dataTable, element);\n",
              "        const docLink = document.createElement('div');\n",
              "        docLink.innerHTML = docLinkHtml;\n",
              "        element.appendChild(docLink);\n",
              "      }\n",
              "    </script>\n",
              "  </div>\n",
              "\n",
              "\n",
              "<div id=\"df-cdeb9eff-9524-4514-9952-b1ee9fa92270\">\n",
              "  <button class=\"colab-df-quickchart\" onclick=\"quickchart('df-cdeb9eff-9524-4514-9952-b1ee9fa92270')\"\n",
              "            title=\"Suggest charts\"\n",
              "            style=\"display:none;\">\n",
              "\n",
              "<svg xmlns=\"http://www.w3.org/2000/svg\" height=\"24px\"viewBox=\"0 0 24 24\"\n",
              "     width=\"24px\">\n",
              "    <g>\n",
              "        <path d=\"M19 3H5c-1.1 0-2 .9-2 2v14c0 1.1.9 2 2 2h14c1.1 0 2-.9 2-2V5c0-1.1-.9-2-2-2zM9 17H7v-7h2v7zm4 0h-2V7h2v10zm4 0h-2v-4h2v4z\"/>\n",
              "    </g>\n",
              "</svg>\n",
              "  </button>\n",
              "\n",
              "<style>\n",
              "  .colab-df-quickchart {\n",
              "      --bg-color: #E8F0FE;\n",
              "      --fill-color: #1967D2;\n",
              "      --hover-bg-color: #E2EBFA;\n",
              "      --hover-fill-color: #174EA6;\n",
              "      --disabled-fill-color: #AAA;\n",
              "      --disabled-bg-color: #DDD;\n",
              "  }\n",
              "\n",
              "  [theme=dark] .colab-df-quickchart {\n",
              "      --bg-color: #3B4455;\n",
              "      --fill-color: #D2E3FC;\n",
              "      --hover-bg-color: #434B5C;\n",
              "      --hover-fill-color: #FFFFFF;\n",
              "      --disabled-bg-color: #3B4455;\n",
              "      --disabled-fill-color: #666;\n",
              "  }\n",
              "\n",
              "  .colab-df-quickchart {\n",
              "    background-color: var(--bg-color);\n",
              "    border: none;\n",
              "    border-radius: 50%;\n",
              "    cursor: pointer;\n",
              "    display: none;\n",
              "    fill: var(--fill-color);\n",
              "    height: 32px;\n",
              "    padding: 0;\n",
              "    width: 32px;\n",
              "  }\n",
              "\n",
              "  .colab-df-quickchart:hover {\n",
              "    background-color: var(--hover-bg-color);\n",
              "    box-shadow: 0 1px 2px rgba(60, 64, 67, 0.3), 0 1px 3px 1px rgba(60, 64, 67, 0.15);\n",
              "    fill: var(--button-hover-fill-color);\n",
              "  }\n",
              "\n",
              "  .colab-df-quickchart-complete:disabled,\n",
              "  .colab-df-quickchart-complete:disabled:hover {\n",
              "    background-color: var(--disabled-bg-color);\n",
              "    fill: var(--disabled-fill-color);\n",
              "    box-shadow: none;\n",
              "  }\n",
              "\n",
              "  .colab-df-spinner {\n",
              "    border: 2px solid var(--fill-color);\n",
              "    border-color: transparent;\n",
              "    border-bottom-color: var(--fill-color);\n",
              "    animation:\n",
              "      spin 1s steps(1) infinite;\n",
              "  }\n",
              "\n",
              "  @keyframes spin {\n",
              "    0% {\n",
              "      border-color: transparent;\n",
              "      border-bottom-color: var(--fill-color);\n",
              "      border-left-color: var(--fill-color);\n",
              "    }\n",
              "    20% {\n",
              "      border-color: transparent;\n",
              "      border-left-color: var(--fill-color);\n",
              "      border-top-color: var(--fill-color);\n",
              "    }\n",
              "    30% {\n",
              "      border-color: transparent;\n",
              "      border-left-color: var(--fill-color);\n",
              "      border-top-color: var(--fill-color);\n",
              "      border-right-color: var(--fill-color);\n",
              "    }\n",
              "    40% {\n",
              "      border-color: transparent;\n",
              "      border-right-color: var(--fill-color);\n",
              "      border-top-color: var(--fill-color);\n",
              "    }\n",
              "    60% {\n",
              "      border-color: transparent;\n",
              "      border-right-color: var(--fill-color);\n",
              "    }\n",
              "    80% {\n",
              "      border-color: transparent;\n",
              "      border-right-color: var(--fill-color);\n",
              "      border-bottom-color: var(--fill-color);\n",
              "    }\n",
              "    90% {\n",
              "      border-color: transparent;\n",
              "      border-bottom-color: var(--fill-color);\n",
              "    }\n",
              "  }\n",
              "</style>\n",
              "\n",
              "  <script>\n",
              "    async function quickchart(key) {\n",
              "      const quickchartButtonEl =\n",
              "        document.querySelector('#' + key + ' button');\n",
              "      quickchartButtonEl.disabled = true;  // To prevent multiple clicks.\n",
              "      quickchartButtonEl.classList.add('colab-df-spinner');\n",
              "      try {\n",
              "        const charts = await google.colab.kernel.invokeFunction(\n",
              "            'suggestCharts', [key], {});\n",
              "      } catch (error) {\n",
              "        console.error('Error during call to suggestCharts:', error);\n",
              "      }\n",
              "      quickchartButtonEl.classList.remove('colab-df-spinner');\n",
              "      quickchartButtonEl.classList.add('colab-df-quickchart-complete');\n",
              "    }\n",
              "    (() => {\n",
              "      let quickchartButtonEl =\n",
              "        document.querySelector('#df-cdeb9eff-9524-4514-9952-b1ee9fa92270 button');\n",
              "      quickchartButtonEl.style.display =\n",
              "        google.colab.kernel.accessAllowed ? 'block' : 'none';\n",
              "    })();\n",
              "  </script>\n",
              "</div>\n",
              "\n",
              "  <div id=\"id_a45bb77d-d3da-47cc-a828-87e4d7422931\">\n",
              "    <style>\n",
              "      .colab-df-generate {\n",
              "        background-color: #E8F0FE;\n",
              "        border: none;\n",
              "        border-radius: 50%;\n",
              "        cursor: pointer;\n",
              "        display: none;\n",
              "        fill: #1967D2;\n",
              "        height: 32px;\n",
              "        padding: 0 0 0 0;\n",
              "        width: 32px;\n",
              "      }\n",
              "\n",
              "      .colab-df-generate:hover {\n",
              "        background-color: #E2EBFA;\n",
              "        box-shadow: 0px 1px 2px rgba(60, 64, 67, 0.3), 0px 1px 3px 1px rgba(60, 64, 67, 0.15);\n",
              "        fill: #174EA6;\n",
              "      }\n",
              "\n",
              "      [theme=dark] .colab-df-generate {\n",
              "        background-color: #3B4455;\n",
              "        fill: #D2E3FC;\n",
              "      }\n",
              "\n",
              "      [theme=dark] .colab-df-generate:hover {\n",
              "        background-color: #434B5C;\n",
              "        box-shadow: 0px 1px 3px 1px rgba(0, 0, 0, 0.15);\n",
              "        filter: drop-shadow(0px 1px 2px rgba(0, 0, 0, 0.3));\n",
              "        fill: #FFFFFF;\n",
              "      }\n",
              "    </style>\n",
              "    <button class=\"colab-df-generate\" onclick=\"generateWithVariable('df_atend_com_gini')\"\n",
              "            title=\"Generate code using this dataframe.\"\n",
              "            style=\"display:none;\">\n",
              "\n",
              "  <svg xmlns=\"http://www.w3.org/2000/svg\" height=\"24px\"viewBox=\"0 0 24 24\"\n",
              "       width=\"24px\">\n",
              "    <path d=\"M7,19H8.4L18.45,9,17,7.55,7,17.6ZM5,21V16.75L18.45,3.32a2,2,0,0,1,2.83,0l1.4,1.43a1.91,1.91,0,0,1,.58,1.4,1.91,1.91,0,0,1-.58,1.4L9.25,21ZM18.45,9,17,7.55Zm-12,3A5.31,5.31,0,0,0,4.9,8.1,5.31,5.31,0,0,0,1,6.5,5.31,5.31,0,0,0,4.9,4.9,5.31,5.31,0,0,0,6.5,1,5.31,5.31,0,0,0,8.1,4.9,5.31,5.31,0,0,0,12,6.5,5.46,5.46,0,0,0,6.5,12Z\"/>\n",
              "  </svg>\n",
              "    </button>\n",
              "    <script>\n",
              "      (() => {\n",
              "      const buttonEl =\n",
              "        document.querySelector('#id_a45bb77d-d3da-47cc-a828-87e4d7422931 button.colab-df-generate');\n",
              "      buttonEl.style.display =\n",
              "        google.colab.kernel.accessAllowed ? 'block' : 'none';\n",
              "\n",
              "      buttonEl.onclick = () => {\n",
              "        google.colab.notebook.generateWithVariable('df_atend_com_gini');\n",
              "      }\n",
              "      })();\n",
              "    </script>\n",
              "  </div>\n",
              "\n",
              "    </div>\n",
              "  </div>\n"
            ],
            "application/vnd.google.colaboratory.intrinsic+json": {
              "type": "dataframe",
              "variable_name": "df_atend_com_gini",
              "summary": "{\n  \"name\": \"df_atend_com_gini\",\n  \"rows\": 1000,\n  \"fields\": [\n    {\n      \"column\": \"idEntrada\",\n      \"properties\": {\n        \"dtype\": \"number\",\n        \"std\": 288,\n        \"min\": 1,\n        \"max\": 1000,\n        \"num_unique_values\": 1000,\n        \"samples\": [\n          522,\n          738,\n          741\n        ],\n        \"semantic_type\": \"\",\n        \"description\": \"\"\n      }\n    },\n    {\n      \"column\": \"state\",\n      \"properties\": {\n        \"dtype\": \"category\",\n        \"num_unique_values\": 26,\n        \"samples\": [\n          \"SE\",\n          \"MA\",\n          \"CE\"\n        ],\n        \"semantic_type\": \"\",\n        \"description\": \"\"\n      }\n    },\n    {\n      \"column\": \"usuarioOnline\",\n      \"properties\": {\n        \"dtype\": \"number\",\n        \"std\": 0,\n        \"min\": 0,\n        \"max\": 1,\n        \"num_unique_values\": 2,\n        \"samples\": [\n          0,\n          1\n        ],\n        \"semantic_type\": \"\",\n        \"description\": \"\"\n      }\n    },\n    {\n      \"column\": \"statusSaida\",\n      \"properties\": {\n        \"dtype\": \"category\",\n        \"num_unique_values\": 5,\n        \"samples\": [\n          \"40%\",\n          \"100%\"\n        ],\n        \"semantic_type\": \"\",\n        \"description\": \"\"\n      }\n    },\n    {\n      \"column\": \"paginaSaida\",\n      \"properties\": {\n        \"dtype\": \"number\",\n        \"std\": 1,\n        \"min\": 0,\n        \"max\": 4,\n        \"num_unique_values\": 5,\n        \"samples\": [\n          3,\n          0\n        ],\n        \"semantic_type\": \"\",\n        \"description\": \"\"\n      }\n    },\n    {\n      \"column\": \"avaliacao\",\n      \"properties\": {\n        \"dtype\": \"category\",\n        \"num_unique_values\": 3,\n        \"samples\": [\n          \"positiva\",\n          \"negativa\"\n        ],\n        \"semantic_type\": \"\",\n        \"description\": \"\"\n      }\n    },\n    {\n      \"column\": \"dataHoraEntrada\",\n      \"properties\": {\n        \"dtype\": \"object\",\n        \"num_unique_values\": 1,\n        \"samples\": [\n          \"18/05/2021 17:57\"\n        ],\n        \"semantic_type\": \"\",\n        \"description\": \"\"\n      }\n    },\n    {\n      \"column\": \"dataHoraSaida\",\n      \"properties\": {\n        \"dtype\": \"object\",\n        \"num_unique_values\": 13,\n        \"samples\": [\n          \"18/05/2021 18:06\"\n        ],\n        \"semantic_type\": \"\",\n        \"description\": \"\"\n      }\n    },\n    {\n      \"column\": \"dataHoraErro\",\n      \"properties\": {\n        \"dtype\": \"object\",\n        \"num_unique_values\": 14,\n        \"samples\": [\n          \"18/05/2021 18:07\"\n        ],\n        \"semantic_type\": \"\",\n        \"description\": \"\"\n      }\n    },\n    {\n      \"column\": \"tempoAcesso\",\n      \"properties\": {\n        \"dtype\": \"number\",\n        \"std\": 112,\n        \"min\": 1,\n        \"max\": 629,\n        \"num_unique_values\": 401,\n        \"samples\": [\n          109\n        ],\n        \"semantic_type\": \"\",\n        \"description\": \"\"\n      }\n    },\n    {\n      \"column\": \"codigo\",\n      \"properties\": {\n        \"dtype\": \"number\",\n        \"std\": 24,\n        \"min\": 500,\n        \"max\": 550,\n        \"num_unique_values\": 2,\n        \"samples\": [\n          500\n        ],\n        \"semantic_type\": \"\",\n        \"description\": \"\"\n      }\n    },\n    {\n      \"column\": \"erro\",\n      \"properties\": {\n        \"dtype\": \"category\",\n        \"num_unique_values\": 12,\n        \"samples\": [\n          \"\\\"CHAVE PIX INCORRETA\\\"\"\n        ],\n        \"semantic_type\": \"\",\n        \"description\": \"\"\n      }\n    },\n    {\n      \"column\": \"Indice de Gini\",\n      \"properties\": {\n        \"dtype\": \"number\",\n        \"std\": 0.027156255037660847,\n        \"min\": 0.1279216211122826,\n        \"max\": 0.24168958349604625,\n        \"num_unique_values\": 26,\n        \"samples\": [\n          0.14037778791473335\n        ],\n        \"semantic_type\": \"\",\n        \"description\": \"\"\n      }\n    }\n  ]\n}"
            }
          },
          "metadata": {},
          "execution_count": 7
        }
      ]
    },
    {
      "cell_type": "markdown",
      "source": [
        "2 – Realizar o teste t para os itens abaixo:\n",
        "\n",
        "\n",
        "\n",
        "a) Avaliação (Positiva e Negativa) e Tempo de Acesso.\n",
        "\n"
      ],
      "metadata": {
        "id": "YYIXOnAxurMG"
      }
    },
    {
      "cell_type": "code",
      "source": [
        "print(df_atend_com_gini['tempoAcesso'].describe())"
      ],
      "metadata": {
        "id": "1NLRZFzdut7W",
        "colab": {
          "base_uri": "https://localhost:8080/"
        },
        "outputId": "f61da114-8bec-43b4-93a2-62f0894e2dc0"
      },
      "execution_count": null,
      "outputs": [
        {
          "output_type": "stream",
          "name": "stdout",
          "text": [
            "count    1000.000000\n",
            "mean      246.371000\n",
            "std       112.761565\n",
            "min         1.000000\n",
            "25%       171.000000\n",
            "50%       241.000000\n",
            "75%       320.000000\n",
            "max       629.000000\n",
            "Name: tempoAcesso, dtype: float64\n"
          ]
        }
      ]
    },
    {
      "cell_type": "markdown",
      "source": [
        "1º Passo:\n",
        "\n",
        "**H0 (Hipótese Nula):** Não há diferença significativa no tempo de acesso médio entre clientes com avaliação positiva e negativa.\n",
        "\n",
        "(Média de tempoAcesso onde avaliacao == \"positiva\") = (Média de tempoAcesso onde avaliacao == \"negativa\")\n",
        "\n",
        "**H1 (Hipótese Alternativa):** Há diferença significativa no tempo de acesso médio entre clientes com avaliação positiva e negativa.\n",
        "\n",
        "(Média de tempoAcesso onde avaliacao == \"positiva\") <> (Média de tempoAcesso onde avaliacao == \"negativa\")"
      ],
      "metadata": {
        "id": "1wRwabKoU0sT"
      }
    },
    {
      "cell_type": "markdown",
      "source": [
        "2º Passo: estimador = média"
      ],
      "metadata": {
        "id": "kW6_LyQZbgdq"
      }
    },
    {
      "cell_type": "markdown",
      "source": [
        "3º Passo: nível de confiança = 95%"
      ],
      "metadata": {
        "id": "ORYwxqVxbk-q"
      }
    },
    {
      "cell_type": "markdown",
      "source": [
        "4º Passo:"
      ],
      "metadata": {
        "id": "znzfwlXaiQkq"
      }
    },
    {
      "cell_type": "code",
      "source": [
        "print(df_atend_com_gini['avaliacao'].value_counts())"
      ],
      "metadata": {
        "colab": {
          "base_uri": "https://localhost:8080/"
        },
        "id": "DPQx_i5-f5ub",
        "outputId": "a553e9b7-0ab6-4d1f-ed83-40f1499d4dce"
      },
      "execution_count": null,
      "outputs": [
        {
          "output_type": "stream",
          "name": "stdout",
          "text": [
            "avaliacao\n",
            "negativa       510\n",
            "positiva       251\n",
            "n/ avaliado    239\n",
            "Name: count, dtype: int64\n"
          ]
        }
      ]
    },
    {
      "cell_type": "code",
      "source": [
        "print(df_atend_com_gini['avaliacao'].isnull().sum())\n"
      ],
      "metadata": {
        "colab": {
          "base_uri": "https://localhost:8080/"
        },
        "id": "cc9uMLxegAOJ",
        "outputId": "f429dfb6-0f67-46a2-9cf9-242ddfcc18a5"
      },
      "execution_count": null,
      "outputs": [
        {
          "output_type": "stream",
          "name": "stdout",
          "text": [
            "0\n"
          ]
        }
      ]
    },
    {
      "cell_type": "code",
      "source": [
        "df_atend_com_gini['avaliacao'] = df_atend_com_gini['avaliacao'].astype(str)\n",
        "print(df_atend_com_gini['avaliacao'].unique())\n"
      ],
      "metadata": {
        "colab": {
          "base_uri": "https://localhost:8080/"
        },
        "id": "d_JMU-KpgIHy",
        "outputId": "7b3f002d-d7e3-47ad-981e-18b0296b489b"
      },
      "execution_count": null,
      "outputs": [
        {
          "output_type": "stream",
          "name": "stdout",
          "text": [
            "['positiva' 'negativa' 'n/ avaliado']\n"
          ]
        }
      ]
    },
    {
      "cell_type": "code",
      "source": [
        "# Filtrando as linhas com 'n/ avaliado' e renomear valores na coluna 'avaliacao'\n",
        "df_filtrado = df_atend_com_gini[df_atend_com_gini['avaliacao'] != 'n/ avaliado'].copy()\n",
        "df_filtrado['avaliacao'] = df_filtrado['avaliacao'].replace({'positiva': 'Positiva', 'negativa': 'Negativa'})"
      ],
      "metadata": {
        "id": "lExYu9BZiFh6"
      },
      "execution_count": null,
      "outputs": []
    },
    {
      "cell_type": "code",
      "source": [
        "# Separar os grupos\n",
        "tempo_acesso_positivo = df_filtrado[df_filtrado['avaliacao'] == 'Positiva']['tempoAcesso']\n",
        "tempo_acesso_negativo = df_filtrado[df_filtrado['avaliacao'] == 'Negativa']['tempoAcesso']"
      ],
      "metadata": {
        "id": "yRSnqv9tisSh"
      },
      "execution_count": null,
      "outputs": []
    },
    {
      "cell_type": "code",
      "source": [
        "tempo_acesso_positivo"
      ],
      "metadata": {
        "colab": {
          "base_uri": "https://localhost:8080/"
        },
        "id": "1h3yeXLVivcS",
        "outputId": "f2dc81aa-bb53-45e5-bfe5-70dd0a64a43d"
      },
      "execution_count": null,
      "outputs": [
        {
          "output_type": "execute_result",
          "data": {
            "text/plain": [
              "0      173\n",
              "4      256\n",
              "15     454\n",
              "19     183\n",
              "22     117\n",
              "      ... \n",
              "986    230\n",
              "990    321\n",
              "992    295\n",
              "994    278\n",
              "995    229\n",
              "Name: tempoAcesso, Length: 251, dtype: int64"
            ]
          },
          "metadata": {},
          "execution_count": 24
        }
      ]
    },
    {
      "cell_type": "code",
      "source": [
        "tempo_acesso_negativo"
      ],
      "metadata": {
        "colab": {
          "base_uri": "https://localhost:8080/"
        },
        "id": "ltUV0DJ_jC9C",
        "outputId": "f3bbad18-368b-4054-c65d-872f9b466e70"
      },
      "execution_count": null,
      "outputs": [
        {
          "output_type": "execute_result",
          "data": {
            "text/plain": [
              "1      212\n",
              "2      427\n",
              "3      248\n",
              "5      446\n",
              "6      295\n",
              "      ... \n",
              "989    439\n",
              "996    368\n",
              "997     78\n",
              "998    177\n",
              "999    210\n",
              "Name: tempoAcesso, Length: 510, dtype: int64"
            ]
          },
          "metadata": {},
          "execution_count": 25
        }
      ]
    },
    {
      "cell_type": "code",
      "source": [
        "# Calcular estatísticas\n",
        "mean_pos = np.mean(tempo_acesso_positivo)\n",
        "mean_neg = np.mean(tempo_acesso_negativo)\n",
        "std_pos = np.std(tempo_acesso_positivo, ddof=1)\n",
        "std_neg = np.std(tempo_acesso_negativo, ddof=1)\n",
        "n_pos = len(tempo_acesso_positivo)\n",
        "n_neg = len(tempo_acesso_negativo)"
      ],
      "metadata": {
        "colab": {
          "base_uri": "https://localhost:8080/"
        },
        "id": "Hn4R7wVgiphR",
        "outputId": "989e2c38-bbf2-42f2-eea3-dbbdaf8b994b"
      },
      "execution_count": null,
      "outputs": [
        {
          "output_type": "execute_result",
          "data": {
            "text/plain": [
              "246.87058823529412"
            ]
          },
          "metadata": {},
          "execution_count": 28
        }
      ]
    },
    {
      "cell_type": "code",
      "source": [
        "mean_pos"
      ],
      "metadata": {
        "colab": {
          "base_uri": "https://localhost:8080/"
        },
        "id": "Jjkl0unDjPLq",
        "outputId": "f3cfee15-9840-4a2f-b4ab-4455c7ce3f4f"
      },
      "execution_count": null,
      "outputs": [
        {
          "output_type": "execute_result",
          "data": {
            "text/plain": [
              "252.87649402390437"
            ]
          },
          "metadata": {},
          "execution_count": 29
        }
      ]
    },
    {
      "cell_type": "code",
      "source": [
        "mean_neg"
      ],
      "metadata": {
        "colab": {
          "base_uri": "https://localhost:8080/"
        },
        "id": "RQJ7RYUsjOBh",
        "outputId": "1c4fbfae-831d-4d09-b633-81feca71895f"
      },
      "execution_count": null,
      "outputs": [
        {
          "output_type": "execute_result",
          "data": {
            "text/plain": [
              "246.87058823529412"
            ]
          },
          "metadata": {},
          "execution_count": 30
        }
      ]
    },
    {
      "cell_type": "code",
      "source": [
        "std_pos"
      ],
      "metadata": {
        "colab": {
          "base_uri": "https://localhost:8080/"
        },
        "id": "qnyi1oD5jQ46",
        "outputId": "c4954a4b-86f5-49a8-e91b-e2676fe2d7f2"
      },
      "execution_count": null,
      "outputs": [
        {
          "output_type": "execute_result",
          "data": {
            "text/plain": [
              "107.70071812787027"
            ]
          },
          "metadata": {},
          "execution_count": 31
        }
      ]
    },
    {
      "cell_type": "code",
      "source": [
        "std_neg"
      ],
      "metadata": {
        "colab": {
          "base_uri": "https://localhost:8080/"
        },
        "id": "iH4UvNQ9jSLJ",
        "outputId": "cd7dc43c-ee37-41f7-c534-36caf9353684"
      },
      "execution_count": null,
      "outputs": [
        {
          "output_type": "execute_result",
          "data": {
            "text/plain": [
              "113.67407186594724"
            ]
          },
          "metadata": {},
          "execution_count": 32
        }
      ]
    },
    {
      "cell_type": "code",
      "source": [
        "n_pos"
      ],
      "metadata": {
        "colab": {
          "base_uri": "https://localhost:8080/"
        },
        "id": "lBoDKuoijUGZ",
        "outputId": "90aa72de-af4f-4447-963e-ba239e54c2fb"
      },
      "execution_count": null,
      "outputs": [
        {
          "output_type": "execute_result",
          "data": {
            "text/plain": [
              "251"
            ]
          },
          "metadata": {},
          "execution_count": 33
        }
      ]
    },
    {
      "cell_type": "code",
      "source": [
        "n_neg"
      ],
      "metadata": {
        "colab": {
          "base_uri": "https://localhost:8080/"
        },
        "id": "Ws5zZ1UkjWmi",
        "outputId": "96876b5d-26c6-41b7-851d-dfa95a330870"
      },
      "execution_count": null,
      "outputs": [
        {
          "output_type": "execute_result",
          "data": {
            "text/plain": [
              "510"
            ]
          },
          "metadata": {},
          "execution_count": 34
        }
      ]
    },
    {
      "cell_type": "code",
      "source": [
        "# Calcular desvio padrão agrupado e estatística t\n",
        "pooled_std = np.sqrt(((n_pos - 1) * std_pos**2 + (n_neg - 1) * std_neg**2) / (n_pos + n_neg - 2))\n",
        "t_statistic = (mean_pos - mean_neg) / (pooled_std * np.sqrt(1/n_pos + 1/n_neg))"
      ],
      "metadata": {
        "id": "Dbkxqb8SjG2x"
      },
      "execution_count": null,
      "outputs": []
    },
    {
      "cell_type": "code",
      "source": [
        "pooled_std"
      ],
      "metadata": {
        "colab": {
          "base_uri": "https://localhost:8080/"
        },
        "id": "pAMAUYztj4r6",
        "outputId": "415e288b-3be2-480c-d897-157a4c52fc4a"
      },
      "execution_count": null,
      "outputs": [
        {
          "output_type": "execute_result",
          "data": {
            "text/plain": [
              "111.74183632092279"
            ]
          },
          "metadata": {},
          "execution_count": 36
        }
      ]
    },
    {
      "cell_type": "code",
      "source": [
        "t_statistic"
      ],
      "metadata": {
        "colab": {
          "base_uri": "https://localhost:8080/"
        },
        "id": "2rmXM1yQj6Vt",
        "outputId": "adb519c4-af9c-4515-cb29-8f8420286704"
      },
      "execution_count": null,
      "outputs": [
        {
          "output_type": "execute_result",
          "data": {
            "text/plain": [
              "0.697095584193251"
            ]
          },
          "metadata": {},
          "execution_count": 37
        }
      ]
    },
    {
      "cell_type": "code",
      "source": [
        "# Calcular graus de liberdade e valor-p\n",
        "degrees_of_freedom = n_pos + n_neg - 2\n",
        "p_value = 2 * (1 - t.cdf(abs(t_statistic), df=degrees_of_freedom))"
      ],
      "metadata": {
        "id": "rMIldKi4j2gx"
      },
      "execution_count": null,
      "outputs": []
    },
    {
      "cell_type": "code",
      "source": [
        "degrees_of_freedom"
      ],
      "metadata": {
        "colab": {
          "base_uri": "https://localhost:8080/"
        },
        "id": "Fcx7DT4GkVSh",
        "outputId": "e7582284-f304-49de-ae25-afd240e6fb80"
      },
      "execution_count": null,
      "outputs": [
        {
          "output_type": "execute_result",
          "data": {
            "text/plain": [
              "759"
            ]
          },
          "metadata": {},
          "execution_count": 42
        }
      ]
    },
    {
      "cell_type": "code",
      "source": [
        "p_value"
      ],
      "metadata": {
        "colab": {
          "base_uri": "https://localhost:8080/"
        },
        "id": "eW4-odS4kTt6",
        "outputId": "b4467955-b6eb-441e-9709-b2e28db1e980"
      },
      "execution_count": null,
      "outputs": [
        {
          "output_type": "execute_result",
          "data": {
            "text/plain": [
              "0.48595643103026154"
            ]
          },
          "metadata": {},
          "execution_count": 41
        }
      ]
    },
    {
      "cell_type": "markdown",
      "source": [
        "5º Passo: Tomada de Decisão"
      ],
      "metadata": {
        "id": "uTjXBMZdb-R6"
      }
    },
    {
      "cell_type": "code",
      "source": [
        "# Definir nível de significância e interpretar resultados\n",
        "if p_value < 0.05:\n",
        "    print(\"Rejeita-se H0. Há diferença significativa no tempo de acesso entre os grupos.\")\n",
        "else:\n",
        "    print(\"Não se rejeita H0. Não há evidência de diferença significativa no tempo de acesso entre os grupos.\")"
      ],
      "metadata": {
        "colab": {
          "base_uri": "https://localhost:8080/"
        },
        "id": "IgLZSXiUj-Xy",
        "outputId": "7999e40e-a0e3-453f-8e20-d3f62f7f1f19"
      },
      "execution_count": null,
      "outputs": [
        {
          "output_type": "stream",
          "name": "stdout",
          "text": [
            "Não se rejeita H0. Não há evidência de diferença significativa no tempo de acesso entre os grupos.\n"
          ]
        }
      ]
    },
    {
      "cell_type": "markdown",
      "source": [
        "Não se rejeita H0. Não há evidência de diferença significativa no tempo de acesso entre quem avaliou como Positivo e quem avaliou como Negativo."
      ],
      "metadata": {
        "id": "arRbWiP2k-Y5"
      }
    },
    {
      "cell_type": "markdown",
      "source": [
        "b) Avaliação (Positiva e Negativa) e GINI."
      ],
      "metadata": {
        "id": "kMQPNQI8uuZ1"
      }
    },
    {
      "cell_type": "markdown",
      "source": [
        "1º Passo:\n",
        "\n",
        "**H0 (Hipótese Nula):** Há diferença significativa no GINI médio entre clientes com avaliação positiva e negativa.\n",
        "\n",
        "**H1 (Hipótese Alternativa):** Não há diferença significativa no GINI médio entre clientes com avaliação positiva e negativa."
      ],
      "metadata": {
        "id": "pJMO0cwolyFi"
      }
    },
    {
      "cell_type": "markdown",
      "source": [
        "2º Passo: estimador média\n",
        "\n",
        "3º Passo: nível de confiança 95%"
      ],
      "metadata": {
        "id": "gjVVPai5pOmJ"
      }
    },
    {
      "cell_type": "markdown",
      "source": [
        "4º Passo:"
      ],
      "metadata": {
        "id": "RN97obmlpeOA"
      }
    },
    {
      "cell_type": "code",
      "source": [
        "df_filtrado = df_atend_com_gini[df_atend_com_gini['avaliacao'].isin(['positiva', 'negativa'])]"
      ],
      "metadata": {
        "id": "Wvcx2y9qnr8y"
      },
      "execution_count": null,
      "outputs": []
    },
    {
      "cell_type": "code",
      "source": [
        "gini_positivo = df_filtrado[df_filtrado['avaliacao'] == 'positiva']['Indice de Gini']\n",
        "gini_negativo = df_filtrado[df_filtrado['avaliacao'] == 'negativa']['Indice de Gini']"
      ],
      "metadata": {
        "id": "vzpqQQMvuv6G"
      },
      "execution_count": null,
      "outputs": []
    },
    {
      "cell_type": "code",
      "source": [
        "n1 = len(gini_positivo)\n",
        "n2 = len(gini_negativo)\n",
        "mean1 = np.mean(gini_positivo)\n",
        "mean2 = np.mean(gini_negativo)\n",
        "var1 = np.var(gini_positivo, ddof=1)\n",
        "var2 = np.var(gini_negativo, ddof=1)"
      ],
      "metadata": {
        "id": "JqVmhWEDn8KZ"
      },
      "execution_count": null,
      "outputs": []
    },
    {
      "cell_type": "code",
      "source": [
        "# resultado_teste = stats.ttest_ind(gini_positivo, gini_negativo, equal_var=True)"
      ],
      "metadata": {
        "id": "766ML9UDx-ZY"
      },
      "execution_count": null,
      "outputs": []
    },
    {
      "cell_type": "code",
      "source": [
        "t_statistic = (mean1 - mean2) / np.sqrt(var1/n1 + var2/n2)"
      ],
      "metadata": {
        "id": "cqse_g1qoC4g"
      },
      "execution_count": null,
      "outputs": []
    },
    {
      "cell_type": "code",
      "source": [
        "df = n1 + n2 - 2\n",
        "p_value = 2 * (1 - scipy.stats.t.cdf(abs(t_statistic), df))"
      ],
      "metadata": {
        "id": "JjnOTuAtoEP6"
      },
      "execution_count": null,
      "outputs": []
    },
    {
      "cell_type": "code",
      "source": [
        "print(\"Estatística t:\", t_statistic)\n",
        "print(\"P-valor:\", p_value)"
      ],
      "metadata": {
        "colab": {
          "base_uri": "https://localhost:8080/"
        },
        "id": "IfpfwJwpoFio",
        "outputId": "2ead98db-0192-483b-cb00-98500886b366"
      },
      "execution_count": null,
      "outputs": [
        {
          "output_type": "stream",
          "name": "stdout",
          "text": [
            "Estatística t: -0.17637187532479986\n",
            "P-valor: 0.8600488467638092\n"
          ]
        }
      ]
    },
    {
      "cell_type": "markdown",
      "source": [
        "5º Passo:"
      ],
      "metadata": {
        "id": "C07R9dpVpwFq"
      }
    },
    {
      "cell_type": "code",
      "source": [
        "if p_value < 0.05:\n",
        "    print(\"Rejeita-se H0. Há diferença significativa no tempo de acesso entre os grupos.\")\n",
        "else:\n",
        "    print(\"Não se rejeita H0. Não há evidência de diferença significativa no tempo de acesso entre os grupos.\")"
      ],
      "metadata": {
        "colab": {
          "base_uri": "https://localhost:8080/"
        },
        "id": "gaOVn6PXo0_B",
        "outputId": "cb2a186d-ac6c-425f-bf1b-1e89381eb2d7"
      },
      "execution_count": null,
      "outputs": [
        {
          "output_type": "stream",
          "name": "stdout",
          "text": [
            "Não se rejeita H0. Não há evidência de diferença significativa no tempo de acesso entre os grupos.\n"
          ]
        }
      ]
    },
    {
      "cell_type": "markdown",
      "source": [
        "Não se rejeita H0. Não há evidência de diferença significativa no tempo de acesso e o indice de Gini.\n",
        "\n",
        "Com base nos dados fornecidos, não podemos afirmar que a avaliação do cliente (positiva ou negativa) tenha um impacto significativo no Índice de Gini."
      ],
      "metadata": {
        "id": "UDQSEqPto_Vq"
      }
    },
    {
      "cell_type": "markdown",
      "source": [
        "3 – Realizar o teste F para os itens abaixo:\n",
        "\n",
        "a) Avaliação e Tempo de Acesso.\n"
      ],
      "metadata": {
        "id": "OJ34N7GEuwMl"
      }
    },
    {
      "cell_type": "markdown",
      "source": [
        "1º Passo:\n",
        "\n",
        "H0 (Hipótese Nula): Não há diferença significativa no tempo médio de acesso entre clientes com avaliação positiva e negativa.\n",
        "\n",
        "H1 (Hipótese Alternativa): Há diferença significativa no tempo médio de acesso entre clientes com avaliação positiva e negativa."
      ],
      "metadata": {
        "id": "y0KEsHucuTWR"
      }
    },
    {
      "cell_type": "markdown",
      "source": [
        "2º Passo: média e variância\n",
        "\n",
        "3º Passo: Nível de Confiança 95%"
      ],
      "metadata": {
        "id": "a7xWUa-WuWWJ"
      }
    },
    {
      "cell_type": "markdown",
      "source": [
        "4º Passo:"
      ],
      "metadata": {
        "id": "ezb6VBxUulqv"
      }
    },
    {
      "cell_type": "code",
      "source": [
        "df_filtrado = df_atend_com_gini[df_atend_com_gini['avaliacao'].isin(['positiva', 'negativa'])]"
      ],
      "metadata": {
        "id": "_vC8J7cFu-Sm"
      },
      "execution_count": null,
      "outputs": []
    },
    {
      "cell_type": "code",
      "source": [
        "tempo_acesso_positivo = df_filtrado[df_filtrado['avaliacao'] == 'positiva']['tempoAcesso']\n",
        "tempo_acesso_negativo = df_filtrado[df_filtrado['avaliacao'] == 'negativa']['tempoAcesso']"
      ],
      "metadata": {
        "id": "IF_c8mSPuw1S"
      },
      "execution_count": null,
      "outputs": []
    },
    {
      "cell_type": "code",
      "source": [
        "# resultado_f = scipy.stats.f_oneway(tempo_acesso_positivo, tempo_acesso_negativo)"
      ],
      "metadata": {
        "id": "-wCpJdlCuy5z"
      },
      "execution_count": null,
      "outputs": []
    },
    {
      "cell_type": "code",
      "source": [
        "n_total = len(df_filtrado)\n",
        "n_grupos = 2\n",
        "grand_mean = df_filtrado['tempoAcesso'].mean()\n",
        "\n",
        "# Soma dos quadrados total (SST)\n",
        "sst = ((df_filtrado['tempoAcesso'] - grand_mean) ** 2).sum()\n",
        "\n",
        "# Soma dos quadrados entre grupos (SSB)\n",
        "ssb = (len(tempo_acesso_positivo) * (tempo_acesso_positivo.mean() - grand_mean) ** 2) + (len(tempo_acesso_negativo) * (tempo_acesso_negativo.mean() - grand_mean) ** 2)\n",
        "\n",
        "# Soma dos quadrados dentro dos grupos (SSW)\n",
        "ssw = sst - ssb\n",
        "\n",
        "# Graus de liberdade\n",
        "dfb = n_grupos - 1\n",
        "dfw = n_total - n_grupos\n",
        "\n",
        "# Quadrados médios\n",
        "msb = ssb / dfb\n",
        "msw = ssw / dfw\n",
        "\n",
        "# Estatística F\n",
        "f_statistic = msb / msw\n",
        "\n",
        "p_value = 1 - scipy.stats.f.cdf(f_statistic, dfb, dfw)"
      ],
      "metadata": {
        "id": "U320zSidyuNI"
      },
      "execution_count": null,
      "outputs": []
    },
    {
      "cell_type": "code",
      "source": [
        "print(\"Estatística F:\", f_statistic)\n",
        "print(\"P-valor:\", p_value)"
      ],
      "metadata": {
        "colab": {
          "base_uri": "https://localhost:8080/"
        },
        "id": "qzuhraFovJOO",
        "outputId": "58737640-f512-43ee-aa75-78272ee4d173"
      },
      "execution_count": null,
      "outputs": [
        {
          "output_type": "stream",
          "name": "stdout",
          "text": [
            "Estatística F: 0.4859422535017301\n",
            "P-valor: 0.4859564310301214\n"
          ]
        }
      ]
    },
    {
      "cell_type": "markdown",
      "source": [
        "b) Avaliação e GINI."
      ],
      "metadata": {
        "id": "AYKS5VuUvABu"
      }
    },
    {
      "cell_type": "code",
      "source": [],
      "metadata": {
        "id": "6pW6YBHUvFyO"
      },
      "execution_count": null,
      "outputs": []
    },
    {
      "cell_type": "markdown",
      "source": [
        "4 – Realizar o teste de Qui-Quadrado para:\n",
        "\n",
        "a) Avaliação e código de erro (utilizando somente positivos e negativos)"
      ],
      "metadata": {
        "id": "Zg5rbY8MvDJV"
      }
    },
    {
      "cell_type": "code",
      "source": [],
      "metadata": {
        "id": "PKjXGPVtvGw-"
      },
      "execution_count": null,
      "outputs": []
    },
    {
      "cell_type": "markdown",
      "source": [
        "b) Avaliação e código de erro (utilizando positivos, negativos e não avaliado)"
      ],
      "metadata": {
        "id": "YQGRE_v_vG_m"
      }
    },
    {
      "cell_type": "code",
      "source": [],
      "metadata": {
        "id": "3KMOQyoCvJX-"
      },
      "execution_count": null,
      "outputs": []
    },
    {
      "cell_type": "markdown",
      "source": [
        "5 – Obter a correlação entre Gini e Tempo de acesso. A correlação é fraca, moderada ou forte?"
      ],
      "metadata": {
        "id": "pHNLVaa9vJk-"
      }
    },
    {
      "cell_type": "code",
      "source": [],
      "metadata": {
        "id": "L6HJ2zJNvO7G"
      },
      "execution_count": null,
      "outputs": []
    }
  ]
}